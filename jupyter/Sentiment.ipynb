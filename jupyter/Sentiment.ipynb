{
 "cells": [
  {
   "cell_type": "code",
   "execution_count": 1,
   "id": "686516fb",
   "metadata": {},
   "outputs": [],
   "source": [
    "#Import\n",
    "import pandas as pd\n",
    "import numpy as np\n",
    "import torch\n",
    "import re\n",
    "from transformers import pipeline"
   ]
  },
  {
   "cell_type": "code",
   "execution_count": 2,
   "id": "9de6e2ed",
   "metadata": {},
   "outputs": [],
   "source": [
    "#Sentiment Pipeline\n",
    "model_path = \"cardiffnlp/twitter-xlm-roberta-base-sentiment\"\n",
    "sentiment_task = pipeline(\"sentiment-analysis\", model=model_path, tokenizer=model_path)"
   ]
  },
  {
   "cell_type": "code",
   "execution_count": 3,
   "id": "10005cae",
   "metadata": {},
   "outputs": [
    {
     "name": "stdout",
     "output_type": "stream",
     "text": [
      "Ich liebe dich: [{'label': 'Positive', 'score': 0.866546094417572}]\n",
      "Ich liebe dich nicht: [{'label': 'Negative', 'score': 0.9222964644432068}]\n",
      "Ich hasse dich: [{'label': 'Negative', 'score': 0.9443648457527161}]\n",
      "I love you: [{'label': 'Positive', 'score': 0.7866936326026917}]\n",
      "I hate you: [{'label': 'Negative', 'score': 0.9430438280105591}]\n"
     ]
    }
   ],
   "source": [
    "#Test Sentiment Analyse\n",
    "print(\"Ich liebe dich: \" + str(sentiment_task(\"Ich liebe dich\")))\n",
    "print(\"Ich liebe dich nicht: \" + str(sentiment_task(\"Ich liebe dich nicht\")))\n",
    "print(\"Ich hasse dich: \" + str(sentiment_task(\"Ich hasse dich\")))\n",
    "print(\"I love you: \" + str(sentiment_task(\"I love you\")))\n",
    "print(\"I hate you: \" + str(sentiment_task(\"I hate you\")))"
   ]
  },
  {
   "cell_type": "code",
   "execution_count": 9,
   "id": "0bdd990d",
   "metadata": {},
   "outputs": [
    {
     "data": {
      "text/html": [
       "<div>\n",
       "<style scoped>\n",
       "    .dataframe tbody tr th:only-of-type {\n",
       "        vertical-align: middle;\n",
       "    }\n",
       "\n",
       "    .dataframe tbody tr th {\n",
       "        vertical-align: top;\n",
       "    }\n",
       "\n",
       "    .dataframe thead th {\n",
       "        text-align: right;\n",
       "    }\n",
       "</style>\n",
       "<table border=\"1\" class=\"dataframe\">\n",
       "  <thead>\n",
       "    <tr style=\"text-align: right;\">\n",
       "      <th></th>\n",
       "      <th>id</th>\n",
       "      <th>like_count</th>\n",
       "      <th>text</th>\n",
       "    </tr>\n",
       "  </thead>\n",
       "  <tbody>\n",
       "    <tr>\n",
       "      <th>0</th>\n",
       "      <td>1526540001995022337</td>\n",
       "      <td>158</td>\n",
       "      <td>Spread Love, not CO2! 🏳️‍🌈\\n#IDAHOBIT2022 #Yes...</td>\n",
       "    </tr>\n",
       "    <tr>\n",
       "      <th>1</th>\n",
       "      <td>1526536363755151360</td>\n",
       "      <td>175</td>\n",
       "      <td>Quote of the day: Queer denken statt Querdenke...</td>\n",
       "    </tr>\n",
       "    <tr>\n",
       "      <th>2</th>\n",
       "      <td>1526534237972746242</td>\n",
       "      <td>274</td>\n",
       "      <td>Was bedeutet queer?\\n\\nQueer ist eine positive...</td>\n",
       "    </tr>\n",
       "  </tbody>\n",
       "</table>\n",
       "</div>"
      ],
      "text/plain": [
       "                    id  like_count  \\\n",
       "0  1526540001995022337         158   \n",
       "1  1526536363755151360         175   \n",
       "2  1526534237972746242         274   \n",
       "\n",
       "                                                text  \n",
       "0  Spread Love, not CO2! 🏳️‍🌈\\n#IDAHOBIT2022 #Yes...  \n",
       "1  Quote of the day: Queer denken statt Querdenke...  \n",
       "2  Was bedeutet queer?\\n\\nQueer ist eine positive...  "
      ]
     },
     "execution_count": 9,
     "metadata": {},
     "output_type": "execute_result"
    }
   ],
   "source": [
    "#Import Tweets\n",
    "df = pd.read_csv('tweets_from_accounts.csv', lineterminator='\\n')\n",
    "\n",
    "#For Testing Purposes shorten to 3 Tweets\n",
    "df = df.head(3)\n",
    "\n",
    "#For Oversight delete unused collums\n",
    "df = df[[\"id\", \"like_count\", \"text\"]]\n",
    "df"
   ]
  },
  {
   "cell_type": "code",
   "execution_count": 17,
   "id": "8ddb160c",
   "metadata": {},
   "outputs": [
    {
     "data": {
      "text/html": [
       "<div>\n",
       "<style scoped>\n",
       "    .dataframe tbody tr th:only-of-type {\n",
       "        vertical-align: middle;\n",
       "    }\n",
       "\n",
       "    .dataframe tbody tr th {\n",
       "        vertical-align: top;\n",
       "    }\n",
       "\n",
       "    .dataframe thead th {\n",
       "        text-align: right;\n",
       "    }\n",
       "</style>\n",
       "<table border=\"1\" class=\"dataframe\">\n",
       "  <thead>\n",
       "    <tr style=\"text-align: right;\">\n",
       "      <th></th>\n",
       "      <th>id</th>\n",
       "      <th>like_count</th>\n",
       "      <th>text</th>\n",
       "    </tr>\n",
       "  </thead>\n",
       "  <tbody>\n",
       "    <tr>\n",
       "      <th>0</th>\n",
       "      <td>1526540001995022337</td>\n",
       "      <td>158</td>\n",
       "      <td>Spread Love, not CO2! 🏳️‍🌈\n",
       "#IDAHOBIT2022 #YesT...</td>\n",
       "    </tr>\n",
       "    <tr>\n",
       "      <th>1</th>\n",
       "      <td>1526536363755151360</td>\n",
       "      <td>175</td>\n",
       "      <td>Quote of the day: Queer denken statt Querdenke...</td>\n",
       "    </tr>\n",
       "    <tr>\n",
       "      <th>2</th>\n",
       "      <td>1526534237972746242</td>\n",
       "      <td>274</td>\n",
       "      <td>Was bedeutet queer?\n",
       "\n",
       "Queer ist eine positive S...</td>\n",
       "    </tr>\n",
       "  </tbody>\n",
       "</table>\n",
       "</div>"
      ],
      "text/plain": [
       "                    id  like_count  \\\n",
       "0  1526540001995022337         158   \n",
       "1  1526536363755151360         175   \n",
       "2  1526534237972746242         274   \n",
       "\n",
       "                                                text  \n",
       "0  Spread Love, not CO2! 🏳️‍🌈\n",
       "#IDAHOBIT2022 #YesT...  \n",
       "1  Quote of the day: Queer denken statt Querdenke...  \n",
       "2  Was bedeutet queer?\n",
       "\n",
       "Queer ist eine positive S...  "
      ]
     },
     "execution_count": 17,
     "metadata": {},
     "output_type": "execute_result"
    }
   ],
   "source": [
    "#Spalte als String umwandeln\n",
    "df[\"text\"] = df[\"text\"].astype('string')\n",
    "df"
   ]
  },
  {
   "cell_type": "code",
   "execution_count": 188,
   "id": "9848e98e",
   "metadata": {},
   "outputs": [],
   "source": [
    "#Delete Username\n",
    "#df[\"text\"] = re.sub(\"@[A-Za-z0-9_]+\",\"\", df[\"text\"])\n",
    "\n",
    "#Delete Hashtags\n",
    "#df[\"text\"] = re.sub(\"#[A-Za-z0-9_]+\",\"\", df[\"text\"])\n",
    "\n",
    "#Delete Links\n",
    "#df[\"text\"] = re.sub(r\"http\\S+\",\"\", df[\"text\"])\n",
    "#df[\"text\"] = re.sub(r\"www.\\S+\",\"\", df[\"text\"])"
   ]
  },
  {
   "cell_type": "code",
   "execution_count": 20,
   "id": "6268a1b6",
   "metadata": {},
   "outputs": [
    {
     "data": {
      "text/html": [
       "<div>\n",
       "<style scoped>\n",
       "    .dataframe tbody tr th:only-of-type {\n",
       "        vertical-align: middle;\n",
       "    }\n",
       "\n",
       "    .dataframe tbody tr th {\n",
       "        vertical-align: top;\n",
       "    }\n",
       "\n",
       "    .dataframe thead th {\n",
       "        text-align: right;\n",
       "    }\n",
       "</style>\n",
       "<table border=\"1\" class=\"dataframe\">\n",
       "  <thead>\n",
       "    <tr style=\"text-align: right;\">\n",
       "      <th></th>\n",
       "      <th>id</th>\n",
       "      <th>like_count</th>\n",
       "      <th>text</th>\n",
       "      <th>sentiment</th>\n",
       "    </tr>\n",
       "  </thead>\n",
       "  <tbody>\n",
       "    <tr>\n",
       "      <th>0</th>\n",
       "      <td>1526540001995022337</td>\n",
       "      <td>158</td>\n",
       "      <td>Spread Love, not CO2! 🏳️‍🌈\n",
       "#IDAHOBIT2022 #YesT...</td>\n",
       "      <td>{'label': 'Neutral', 'score': 0.4576849937438965}</td>\n",
       "    </tr>\n",
       "    <tr>\n",
       "      <th>1</th>\n",
       "      <td>1526536363755151360</td>\n",
       "      <td>175</td>\n",
       "      <td>Quote of the day: Queer denken statt Querdenke...</td>\n",
       "      <td>{'label': 'Positive', 'score': 0.5055170655250...</td>\n",
       "    </tr>\n",
       "    <tr>\n",
       "      <th>2</th>\n",
       "      <td>1526534237972746242</td>\n",
       "      <td>274</td>\n",
       "      <td>Was bedeutet queer?\n",
       "\n",
       "Queer ist eine positive S...</td>\n",
       "      <td>{'label': 'Neutral', 'score': 0.8638097047805786}</td>\n",
       "    </tr>\n",
       "  </tbody>\n",
       "</table>\n",
       "</div>"
      ],
      "text/plain": [
       "                    id  like_count  \\\n",
       "0  1526540001995022337         158   \n",
       "1  1526536363755151360         175   \n",
       "2  1526534237972746242         274   \n",
       "\n",
       "                                                text  \\\n",
       "0  Spread Love, not CO2! 🏳️‍🌈\n",
       "#IDAHOBIT2022 #YesT...   \n",
       "1  Quote of the day: Queer denken statt Querdenke...   \n",
       "2  Was bedeutet queer?\n",
       "\n",
       "Queer ist eine positive S...   \n",
       "\n",
       "                                           sentiment  \n",
       "0  {'label': 'Neutral', 'score': 0.4576849937438965}  \n",
       "1  {'label': 'Positive', 'score': 0.5055170655250...  \n",
       "2  {'label': 'Neutral', 'score': 0.8638097047805786}  "
      ]
     },
     "execution_count": 20,
     "metadata": {},
     "output_type": "execute_result"
    }
   ],
   "source": [
    "#New Collumn Sentiment\n",
    "df.assign(sentiment = sentiment_task(df[\"text\"].to_list()))"
   ]
  },
  {
   "cell_type": "code",
   "execution_count": null,
   "id": "c8c10a64",
   "metadata": {},
   "outputs": [],
   "source": []
  }
 ],
 "metadata": {
  "kernelspec": {
   "display_name": "Python 3",
   "language": "python",
   "name": "python3"
  },
  "language_info": {
   "codemirror_mode": {
    "name": "ipython",
    "version": 3
   },
   "file_extension": ".py",
   "mimetype": "text/x-python",
   "name": "python",
   "nbconvert_exporter": "python",
   "pygments_lexer": "ipython3",
   "version": "3.7.6"
  }
 },
 "nbformat": 4,
 "nbformat_minor": 5
}
