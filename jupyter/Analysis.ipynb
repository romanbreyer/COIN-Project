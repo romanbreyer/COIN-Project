{
 "cells": [
  {
   "cell_type": "code",
   "execution_count": 13,
   "id": "7cc25dd6",
   "metadata": {},
   "outputs": [],
   "source": [
    "import pandas as pd\n",
    "from geopy.geocoders import Nominatim\n",
    "from keplergl import KeplerGl\n",
    "import webbrowser\n",
    "import os"
   ]
  },
  {
   "cell_type": "code",
   "execution_count": 104,
   "id": "bb3f74ce",
   "metadata": {},
   "outputs": [],
   "source": [
    "locations = pd.read_pickle('places.pkl')"
   ]
  },
  {
   "cell_type": "code",
   "execution_count": 105,
   "id": "e2074e97",
   "metadata": {},
   "outputs": [
    {
     "data": {
      "text/plain": [
       "(30476, 7)"
      ]
     },
     "execution_count": 105,
     "metadata": {},
     "output_type": "execute_result"
    }
   ],
   "source": [
    "locations.shape"
   ]
  },
  {
   "cell_type": "code",
   "execution_count": 14,
   "id": "e3d1a65e",
   "metadata": {},
   "outputs": [],
   "source": [
    "locations = pd.read_csv('data/places.csv')"
   ]
  },
  {
   "cell_type": "code",
   "execution_count": 15,
   "id": "5b3cf205",
   "metadata": {},
   "outputs": [
    {
     "data": {
      "text/html": [
       "<div>\n",
       "<style scoped>\n",
       "    .dataframe tbody tr th:only-of-type {\n",
       "        vertical-align: middle;\n",
       "    }\n",
       "\n",
       "    .dataframe tbody tr th {\n",
       "        vertical-align: top;\n",
       "    }\n",
       "\n",
       "    .dataframe thead th {\n",
       "        text-align: right;\n",
       "    }\n",
       "</style>\n",
       "<table border=\"1\" class=\"dataframe\">\n",
       "  <thead>\n",
       "    <tr style=\"text-align: right;\">\n",
       "      <th></th>\n",
       "      <th>country</th>\n",
       "      <th>country_code</th>\n",
       "      <th>full_name</th>\n",
       "      <th>geo</th>\n",
       "      <th>id</th>\n",
       "      <th>name</th>\n",
       "      <th>place_type</th>\n",
       "    </tr>\n",
       "  </thead>\n",
       "  <tbody>\n",
       "    <tr>\n",
       "      <th>0</th>\n",
       "      <td>Deutschland</td>\n",
       "      <td>DE</td>\n",
       "      <td>Erlangen, Deutschland</td>\n",
       "      <td>{'type': 'Feature', 'bbox': [10.915143, 49.532...</td>\n",
       "      <td>9af0e1c3b9def9f4</td>\n",
       "      <td>Erlangen</td>\n",
       "      <td>city</td>\n",
       "    </tr>\n",
       "    <tr>\n",
       "      <th>1</th>\n",
       "      <td>Deutschland</td>\n",
       "      <td>DE</td>\n",
       "      <td>Landtag Nordrhein-Westfalen</td>\n",
       "      <td>{'type': 'Feature', 'bbox': [6.763501167297363...</td>\n",
       "      <td>07d9db0fb1488001</td>\n",
       "      <td>Landtag Nordrhein-Westfalen</td>\n",
       "      <td>poi</td>\n",
       "    </tr>\n",
       "    <tr>\n",
       "      <th>2</th>\n",
       "      <td>Deutschland</td>\n",
       "      <td>DE</td>\n",
       "      <td>Berlin, Deutschland</td>\n",
       "      <td>{'type': 'Feature', 'bbox': [13.088304, 52.338...</td>\n",
       "      <td>3078869807f9dd36</td>\n",
       "      <td>Berlin</td>\n",
       "      <td>city</td>\n",
       "    </tr>\n",
       "    <tr>\n",
       "      <th>3</th>\n",
       "      <td>Deutschland</td>\n",
       "      <td>DE</td>\n",
       "      <td>Heidelberg, Deutschland</td>\n",
       "      <td>{'type': 'Feature', 'bbox': [8.57291, 49.35203...</td>\n",
       "      <td>0851007f4d4c6fc5</td>\n",
       "      <td>Heidelberg</td>\n",
       "      <td>city</td>\n",
       "    </tr>\n",
       "    <tr>\n",
       "      <th>4</th>\n",
       "      <td>Deutschland</td>\n",
       "      <td>DE</td>\n",
       "      <td>Berlin, Deutschland</td>\n",
       "      <td>{'type': 'Feature', 'bbox': [13.088304, 52.338...</td>\n",
       "      <td>3078869807f9dd36</td>\n",
       "      <td>Berlin</td>\n",
       "      <td>city</td>\n",
       "    </tr>\n",
       "  </tbody>\n",
       "</table>\n",
       "</div>"
      ],
      "text/plain": [
       "       country country_code                    full_name  \\\n",
       "0  Deutschland           DE        Erlangen, Deutschland   \n",
       "1  Deutschland           DE  Landtag Nordrhein-Westfalen   \n",
       "2  Deutschland           DE          Berlin, Deutschland   \n",
       "3  Deutschland           DE      Heidelberg, Deutschland   \n",
       "4  Deutschland           DE          Berlin, Deutschland   \n",
       "\n",
       "                                                 geo                id  \\\n",
       "0  {'type': 'Feature', 'bbox': [10.915143, 49.532...  9af0e1c3b9def9f4   \n",
       "1  {'type': 'Feature', 'bbox': [6.763501167297363...  07d9db0fb1488001   \n",
       "2  {'type': 'Feature', 'bbox': [13.088304, 52.338...  3078869807f9dd36   \n",
       "3  {'type': 'Feature', 'bbox': [8.57291, 49.35203...  0851007f4d4c6fc5   \n",
       "4  {'type': 'Feature', 'bbox': [13.088304, 52.338...  3078869807f9dd36   \n",
       "\n",
       "                          name place_type  \n",
       "0                     Erlangen       city  \n",
       "1  Landtag Nordrhein-Westfalen        poi  \n",
       "2                       Berlin       city  \n",
       "3                   Heidelberg       city  \n",
       "4                       Berlin       city  "
      ]
     },
     "execution_count": 15,
     "metadata": {},
     "output_type": "execute_result"
    }
   ],
   "source": [
    "locations.head()"
   ]
  },
  {
   "cell_type": "code",
   "execution_count": 16,
   "id": "c03190b6",
   "metadata": {},
   "outputs": [
    {
     "data": {
      "text/plain": [
       "(349, 7)"
      ]
     },
     "execution_count": 16,
     "metadata": {},
     "output_type": "execute_result"
    }
   ],
   "source": [
    "locations.shape"
   ]
  },
  {
   "cell_type": "code",
   "execution_count": 63,
   "id": "6049df2c",
   "metadata": {},
   "outputs": [],
   "source": [
    "#create lat, long features\n",
    "lat = []\n",
    "long = []\n",
    "for element in locations['full_name']:\n",
    "    if geolocator.geocode(element) == None:\n",
    "        lat.append(None)\n",
    "        long.append(None)\n",
    "        continue\n",
    "    lat.append(geolocator.geocode(element).latitude)\n",
    "    long.append(geolocator.geocode(element).longitude)\n",
    "    "
   ]
  },
  {
   "cell_type": "code",
   "execution_count": null,
   "id": "ff35e15a",
   "metadata": {},
   "outputs": [],
   "source": [
    "#how many locations wheren't recognized?\n",
    "locations.isnull().sum()"
   ]
  },
  {
   "cell_type": "code",
   "execution_count": 72,
   "id": "bc140fa0",
   "metadata": {},
   "outputs": [],
   "source": [
    "#add new features to df\n",
    "locations['lat'] = lat\n",
    "locations['long'] = long"
   ]
  },
  {
   "cell_type": "code",
   "execution_count": 73,
   "id": "5029ebb3",
   "metadata": {},
   "outputs": [],
   "source": [
    "#drop locations with missing lat, long or country\n",
    "locations.dropna(axis=0, inplace=True)"
   ]
  },
  {
   "cell_type": "markdown",
   "id": "05579b8e",
   "metadata": {},
   "source": [
    "## Spatial Analysis"
   ]
  },
  {
   "cell_type": "code",
   "execution_count": 91,
   "id": "77206222",
   "metadata": {},
   "outputs": [
    {
     "name": "stdout",
     "output_type": "stream",
     "text": [
      "User Guide: https://docs.kepler.gl/docs/keplergl-jupyter\n"
     ]
    },
    {
     "data": {
      "application/vnd.jupyter.widget-view+json": {
       "model_id": "52a70141c1b4431688a765d6c1b0c6fe",
       "version_major": 2,
       "version_minor": 0
      },
      "text/plain": [
       "KeplerGl(data={'twitter_fff':                        full_name  \\\n",
       "0          Erlangen, Deutschland   \n",
       "1    Lan…"
      ]
     },
     "metadata": {},
     "output_type": "display_data"
    }
   ],
   "source": [
    "#create map and add df\n",
    "map_1 = KeplerGl(height=400, data={'twitter_fff': locations})\n",
    "map_1"
   ]
  },
  {
   "cell_type": "code",
   "execution_count": 92,
   "id": "595b1f1c",
   "metadata": {},
   "outputs": [
    {
     "name": "stdout",
     "output_type": "stream",
     "text": [
      "Map saved to keplergl_map.html!\n"
     ]
    }
   ],
   "source": [
    "#save to html\n",
    "map_1.save_to_html(file_name='keplergl_map.html')"
   ]
  },
  {
   "cell_type": "code",
   "execution_count": 99,
   "id": "a4a869f0",
   "metadata": {},
   "outputs": [
    {
     "data": {
      "text/plain": [
       "True"
      ]
     },
     "execution_count": 99,
     "metadata": {},
     "output_type": "execute_result"
    }
   ],
   "source": [
    "#open html file in browser for analysis\n",
    "webbrowser.open('file://' + os.path.realpath('keplergl_map.html'))"
   ]
  },
  {
   "cell_type": "code",
   "execution_count": null,
   "id": "e555f1d3",
   "metadata": {},
   "outputs": [],
   "source": []
  }
 ],
 "metadata": {
  "kernelspec": {
   "display_name": "Python 3",
   "language": "python",
   "name": "python3"
  },
  "language_info": {
   "codemirror_mode": {
    "name": "ipython",
    "version": 3
   },
   "file_extension": ".py",
   "mimetype": "text/x-python",
   "name": "python",
   "nbconvert_exporter": "python",
   "pygments_lexer": "ipython3",
   "version": "3.7.6"
  }
 },
 "nbformat": 4,
 "nbformat_minor": 5
}
