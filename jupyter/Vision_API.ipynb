{
 "cells": [
  {
   "cell_type": "code",
   "execution_count": 24,
   "metadata": {},
   "outputs": [],
   "source": [
    "from __future__ import print_function\n",
    "import pandas as pd\n",
    "from google.cloud import vision\n",
    "import io\n",
    "import os.path\n",
    "import os\n"
   ]
  },
  {
   "cell_type": "code",
   "execution_count": 25,
   "metadata": {},
   "outputs": [],
   "source": [
    "os.environ[\"GOOGLE_APPLICATION_CREDENTIALS\"]=\"/Users/romanbreyer/Downloads/global-timer-355314-884e9e06301f.json\""
   ]
  },
  {
   "cell_type": "code",
   "execution_count": 26,
   "metadata": {
    "pycharm": {
     "name": "#%%\n"
    }
   },
   "outputs": [],
   "source": [
    "def label_detection(path):\n",
    "    \"\"\" Label detection function - returns Dataframe with results. Always returns 10 labels\"\"\"\n",
    "    # Get image in correct encoding\n",
    "    with io.open(path, 'rb') as image_file:\n",
    "        content = image_file.read()\n",
    "\n",
    "    # API Call\n",
    "    client = vision.ImageAnnotatorClient()\n",
    "    image = vision.Image(content = content)\n",
    "    response = client.label_detection(image=image)  #Limit to 10 for consistency\n",
    "\n",
    "    # Get file name\n",
    "    file_name = os.path.basename(path)\n",
    "    print(\"=\"*30)\n",
    "    print(f\"Label detection for {file_name}\")\n",
    "    # Create Dataframe for return - there are 10 labels return every time\n",
    "    collect_label = pd.DataFrame()\n",
    "\n",
    "    # Create helper list for Dataframe\n",
    "    helper = [path, file_name]\n",
    "    vertices_labels = {}\n",
    "    # Iterate over all annotations and get labels with confidence score\n",
    "    iter = 0\n",
    "    for label in response.label_annotations:\n",
    "        iter += 1\n",
    "        #print(label.description, '(%.2f%%)' % (label.score*100.))\n",
    "        helper.append(f\"{label.description} ({round(label.score*100.,2)}%)\")\n",
    "\n",
    "    # check if there are 10 labels in list, otherwise fill with empty\n",
    "    if len(helper) < 10:\n",
    "        while len(helper) != 10:\n",
    "            helper.append(\"no response\")\n",
    "    # Fill and return Dataframe\n",
    "    collect_label[f\"{file_name}\"] = helper\n",
    "    return collect_label\n",
    "\n",
    "\n"
   ]
  },
  {
   "cell_type": "code",
   "execution_count": 27,
   "metadata": {
    "pycharm": {
     "name": "#%%\n"
    }
   },
   "outputs": [],
   "source": [
    "def emotion_detection(path):\n",
    "    \"\"\" Face Detection function - returns DataFrame with results.  Possible Emotions: \"joy, sorrow, anger, surprise\")\"\"\"\n",
    "    with io.open(path, 'rb') as image_file:\n",
    "        content = image_file.read()\n",
    "    client = vision.ImageAnnotatorClient()\n",
    "    image = vision.Image(content = content)\n",
    "    response = client.face_detection(image=image)\n",
    "    collect_emotions = pd.DataFrame()\n",
    "    file_name = os.path.basename(path)\n",
    "    print(\"=\"*30)\n",
    "    print(f\"Emotion detection for {file_name}\")\n",
    "    counter = 0\n",
    "    for face in response.face_annotations:\n",
    "        counter += 1\n",
    "        likelihood_joy = vision.Likelihood(face.joy_likelihood)\n",
    "        likelihood_anger = vision.Likelihood(face.anger_likelihood)\n",
    "        likelihood_sorrow = vision.Likelihood(face.sorrow_likelihood)\n",
    "        likelihood_surprise = vision.Likelihood(face.surprise_likelihood)\n",
    "        vertices = ['(%s,%s)' % (v.x, v.y) for v in face.bounding_poly.vertices]\n",
    "\n",
    "        collect_emotions[f\"Face {counter} in file {file_name}\"] = [path, file_name, str(vertices), likelihood_joy.name, likelihood_anger.name, likelihood_sorrow.name, likelihood_surprise.name]\n",
    "\n",
    "    return collect_emotions\n"
   ]
  },
  {
   "cell_type": "code",
   "execution_count": 28,
   "metadata": {
    "pycharm": {
     "name": "#%%\n"
    }
   },
   "outputs": [],
   "source": [
    "def emotion_pipeline(limit, dir, ignore_max = False):\n",
    "    \"\"\"Function to shoot X amount of files in directory through Vision API and aggregate results (limit before it gets costly should be 500)\n",
    "        Iterates through the given directory and processes every picture until \"num\" is reached, calls emotion_detection() and label_detection() in every iteration (two API Calls)\"\"\"\n",
    "\n",
    "    # Initialize Dataframes for export\n",
    "    label_fetch = pd.DataFrame({\"Row Name\": [\"FilePath\",\"FileName\",\"Label_1\",\"Label_2\",\"Label_3\",\"Label_4\",\"Label_5\",\"Label_6\",\"Label_7\",\"Label_8\",\"Label_9\",\"Label_10\"]})\n",
    "    emotions_fetch = pd.DataFrame({\"Category\":[\"FilePath\",'FileName','Bounds','JOY','ANGER','SORROW','SURPRISE']})\n",
    "\n",
    "    print(\"=\" * 30)\n",
    "    # For Label and Face Detection, two separate Calls are needed. Account for this in the number of API Calls!!!\n",
    "    if (not ignore_max) and limit > 490:\n",
    "        print(\"Limit will exceed max. monthly API calls - try again with ignore_max = True\")\n",
    "        return emotions_fetch, label_fetch\n",
    "    print(f\"Getting Emotion and Label Recognition, for {limit} files in {dir}\")\n",
    "\n",
    "\n",
    "\n",
    "    #Set counter and iterate over files in dir until defined limit is reached\n",
    "    counter = 0\n",
    "    for file in os.listdir(dir):\n",
    "        counter += 1\n",
    "        if counter <= limit:\n",
    "            filepath = os.path.join(dir, file)\n",
    "            if os.path.isfile(filepath):\n",
    "                df_emotions_single = emotion_detection(filepath)\n",
    "                emotions_fetch = pd.concat([emotions_fetch,df_emotions_single], axis=1)\n",
    "\n",
    "                df_labels_single = label_detection(filepath)\n",
    "                label_fetch = pd.concat([label_fetch, df_labels_single], axis = 1)\n",
    "        else:\n",
    "            print(\"Limit reached, not all pictures processed\")\n",
    "            return emotions_fetch, label_fetch\n",
    "    print(\"All pictures processed, limit was not reached\")\n",
    "    return emotions_fetch, label_fetch\n",
    "\n",
    "\n",
    "    # Aggregate all results in DataFrame by joining"
   ]
  },
  {
   "cell_type": "code",
   "execution_count": 29,
   "metadata": {
    "pycharm": {
     "name": "#%%\n"
    }
   },
   "outputs": [],
   "source": [
    "# Function to visualize results of a specific picture and the annotations made by Vision API\n",
    "def get_jpeg():\n",
    "    return"
   ]
  },
  {
   "cell_type": "code",
   "execution_count": 30,
   "metadata": {
    "pycharm": {
     "name": "#%%\n"
    }
   },
   "outputs": [],
   "source": [
    "def get_path(path):\n",
    "    \"\"\"Check if Directory exists, if not -> create it. Then return the path.\"\"\"\n",
    "\n",
    "    if not path[-1:] == \"\\\\\": path = path + \"\\\\\"\n",
    "\n",
    "    path_snippets = path[:-1].split(\"\\\\\")\n",
    "    path_check = \"\"\n",
    "\n",
    "    for snip in path_snippets:\n",
    "        path_check = f\"{path_check}{snip}\\\\\"\n",
    "        if not os.path.exists(path_check): os.mkdir(path_check)\n",
    "\n",
    "    return f\"{path}\""
   ]
  },
  {
   "cell_type": "code",
   "execution_count": 31,
   "metadata": {
    "pycharm": {
     "name": "#%%\n"
    }
   },
   "outputs": [],
   "source": [
    "def export_toCSV(df, csv_path, csv_name = \"Export_data.csv\", index = True, index_name = \"Index\", header = True, sep = \",\"):\n",
    "    \"\"\" Handles export of dataframe /w some extras\"\"\"\n",
    "    # Console Output\n",
    "    print(f\"\\nExporting data to CSV({csv_path}{csv_name}\")\n",
    "    # Create Path if necessary\n",
    "    csv_path = get_path(csv_path)\n",
    "    # Export Data\n",
    "    df.index.name = index_name\n",
    "    if csv_name[-4:] != \".csv\":\n",
    "        csv_name += \".csv\"\n",
    "    df.to_csv(f\"{csv_path}{csv_name}\", sep = sep , index = index, header =header)"
   ]
  },
  {
   "cell_type": "code",
   "execution_count": 32,
   "metadata": {
    "pycharm": {
     "name": "#%%\n"
    }
   },
   "outputs": [
    {
     "name": "stdout",
     "output_type": "stream",
     "text": [
      "==============================\n",
      "Getting Emotion and Label Recognition, for 10 files in data/vision_input\n",
      "==============================\n",
      "Emotion detection for images-2.jpeg\n",
      "==============================\n",
      "Label detection for images-2.jpeg\n",
      "==============================\n",
      "Emotion detection for test_img.jpg\n",
      "==============================\n",
      "Label detection for test_img.jpg\n",
      "All pictures processed, limit was not reached\n"
     ]
    }
   ],
   "source": [
    "''' Sample function call'''\n",
    "emotions, labels = emotion_pipeline(10,\"data/vision_input\",ignore_max = True)\n"
   ]
  },
  {
   "cell_type": "code",
   "execution_count": 33,
   "metadata": {
    "pycharm": {
     "name": "#%%\n"
    }
   },
   "outputs": [
    {
     "name": "stdout",
     "output_type": "stream",
     "text": [
      "\n",
      "Exporting data to CSV(data/vision_output/Emotions_Analysis.csv\n"
     ]
    }
   ],
   "source": [
    "# Export File\n",
    "export_toCSV(emotions,csv_path= \"data/vision_output/\", csv_name=\"Emotions_Analysis.csv\" )"
   ]
  },
  {
   "cell_type": "code",
   "execution_count": 34,
   "metadata": {
    "pycharm": {
     "name": "#%%\n"
    }
   },
   "outputs": [
    {
     "name": "stdout",
     "output_type": "stream",
     "text": [
      "\n",
      "Exporting data to CSV(data/vision_output/Labels_Analysis.csv\n"
     ]
    }
   ],
   "source": [
    "# Export File\n",
    "export_toCSV(labels,csv_path= \"data/vision_output/\", csv_name=\"Labels_Analysis.csv\" )"
   ]
  },
  {
   "cell_type": "code",
   "execution_count": 35,
   "metadata": {},
   "outputs": [
    {
     "data": {
      "text/html": [
       "<div>\n",
       "<style scoped>\n",
       "    .dataframe tbody tr th:only-of-type {\n",
       "        vertical-align: middle;\n",
       "    }\n",
       "\n",
       "    .dataframe tbody tr th {\n",
       "        vertical-align: top;\n",
       "    }\n",
       "\n",
       "    .dataframe thead th {\n",
       "        text-align: right;\n",
       "    }\n",
       "</style>\n",
       "<table border=\"1\" class=\"dataframe\">\n",
       "  <thead>\n",
       "    <tr style=\"text-align: right;\">\n",
       "      <th></th>\n",
       "      <th>Category</th>\n",
       "      <th>Face 1 in file test_img.jpg</th>\n",
       "    </tr>\n",
       "    <tr>\n",
       "      <th>Index</th>\n",
       "      <th></th>\n",
       "      <th></th>\n",
       "    </tr>\n",
       "  </thead>\n",
       "  <tbody>\n",
       "    <tr>\n",
       "      <th>0</th>\n",
       "      <td>FilePath</td>\n",
       "      <td>data/vision_input/test_img.jpg</td>\n",
       "    </tr>\n",
       "    <tr>\n",
       "      <th>1</th>\n",
       "      <td>FileName</td>\n",
       "      <td>test_img.jpg</td>\n",
       "    </tr>\n",
       "    <tr>\n",
       "      <th>2</th>\n",
       "      <td>Bounds</td>\n",
       "      <td>['(726,134)', '(1307,134)', '(1307,810)', '(72...</td>\n",
       "    </tr>\n",
       "    <tr>\n",
       "      <th>3</th>\n",
       "      <td>JOY</td>\n",
       "      <td>VERY_LIKELY</td>\n",
       "    </tr>\n",
       "    <tr>\n",
       "      <th>4</th>\n",
       "      <td>ANGER</td>\n",
       "      <td>VERY_UNLIKELY</td>\n",
       "    </tr>\n",
       "    <tr>\n",
       "      <th>5</th>\n",
       "      <td>SORROW</td>\n",
       "      <td>VERY_UNLIKELY</td>\n",
       "    </tr>\n",
       "    <tr>\n",
       "      <th>6</th>\n",
       "      <td>SURPRISE</td>\n",
       "      <td>VERY_UNLIKELY</td>\n",
       "    </tr>\n",
       "  </tbody>\n",
       "</table>\n",
       "</div>"
      ],
      "text/plain": [
       "       Category                        Face 1 in file test_img.jpg\n",
       "Index                                                             \n",
       "0      FilePath                     data/vision_input/test_img.jpg\n",
       "1      FileName                                       test_img.jpg\n",
       "2        Bounds  ['(726,134)', '(1307,134)', '(1307,810)', '(72...\n",
       "3           JOY                                        VERY_LIKELY\n",
       "4         ANGER                                      VERY_UNLIKELY\n",
       "5        SORROW                                      VERY_UNLIKELY\n",
       "6      SURPRISE                                      VERY_UNLIKELY"
      ]
     },
     "execution_count": 35,
     "metadata": {},
     "output_type": "execute_result"
    }
   ],
   "source": [
    "emotions"
   ]
  },
  {
   "cell_type": "code",
   "execution_count": 36,
   "metadata": {},
   "outputs": [
    {
     "data": {
      "text/html": [
       "<div>\n",
       "<style scoped>\n",
       "    .dataframe tbody tr th:only-of-type {\n",
       "        vertical-align: middle;\n",
       "    }\n",
       "\n",
       "    .dataframe tbody tr th {\n",
       "        vertical-align: top;\n",
       "    }\n",
       "\n",
       "    .dataframe thead th {\n",
       "        text-align: right;\n",
       "    }\n",
       "</style>\n",
       "<table border=\"1\" class=\"dataframe\">\n",
       "  <thead>\n",
       "    <tr style=\"text-align: right;\">\n",
       "      <th></th>\n",
       "      <th>Row Name</th>\n",
       "      <th>images-2.jpeg</th>\n",
       "      <th>test_img.jpg</th>\n",
       "    </tr>\n",
       "    <tr>\n",
       "      <th>Index</th>\n",
       "      <th></th>\n",
       "      <th></th>\n",
       "      <th></th>\n",
       "    </tr>\n",
       "  </thead>\n",
       "  <tbody>\n",
       "    <tr>\n",
       "      <th>0</th>\n",
       "      <td>FilePath</td>\n",
       "      <td>data/vision_input/images-2.jpeg</td>\n",
       "      <td>data/vision_input/test_img.jpg</td>\n",
       "    </tr>\n",
       "    <tr>\n",
       "      <th>1</th>\n",
       "      <td>FileName</td>\n",
       "      <td>images-2.jpeg</td>\n",
       "      <td>test_img.jpg</td>\n",
       "    </tr>\n",
       "    <tr>\n",
       "      <th>2</th>\n",
       "      <td>Label_1</td>\n",
       "      <td>Dog (96.29%)</td>\n",
       "      <td>Forehead (98.47%)</td>\n",
       "    </tr>\n",
       "    <tr>\n",
       "      <th>3</th>\n",
       "      <td>Label_2</td>\n",
       "      <td>Plant (95.04%)</td>\n",
       "      <td>Smile (98.21%)</td>\n",
       "    </tr>\n",
       "    <tr>\n",
       "      <th>4</th>\n",
       "      <td>Label_3</td>\n",
       "      <td>Dog breed (90.05%)</td>\n",
       "      <td>Cheek (97.9%)</td>\n",
       "    </tr>\n",
       "    <tr>\n",
       "      <th>5</th>\n",
       "      <td>Label_4</td>\n",
       "      <td>Carnivore (89.59%)</td>\n",
       "      <td>Sleeve (85.43%)</td>\n",
       "    </tr>\n",
       "    <tr>\n",
       "      <th>6</th>\n",
       "      <td>Label_5</td>\n",
       "      <td>Companion dog (81.98%)</td>\n",
       "      <td>Collar (81.93%)</td>\n",
       "    </tr>\n",
       "    <tr>\n",
       "      <th>7</th>\n",
       "      <td>Label_6</td>\n",
       "      <td>Grass (79.03%)</td>\n",
       "      <td>Spokesperson (79.33%)</td>\n",
       "    </tr>\n",
       "    <tr>\n",
       "      <th>8</th>\n",
       "      <td>Label_7</td>\n",
       "      <td>Happy (76.68%)</td>\n",
       "      <td>Happy (77.44%)</td>\n",
       "    </tr>\n",
       "    <tr>\n",
       "      <th>9</th>\n",
       "      <td>Label_8</td>\n",
       "      <td>Snout (73.08%)</td>\n",
       "      <td>Event (73.34%)</td>\n",
       "    </tr>\n",
       "    <tr>\n",
       "      <th>10</th>\n",
       "      <td>Label_9</td>\n",
       "      <td>Sporting Group (72.02%)</td>\n",
       "      <td>Technology (73.32%)</td>\n",
       "    </tr>\n",
       "    <tr>\n",
       "      <th>11</th>\n",
       "      <td>Label_10</td>\n",
       "      <td>Retriever (69.64%)</td>\n",
       "      <td>White-collar worker (72.71%)</td>\n",
       "    </tr>\n",
       "  </tbody>\n",
       "</table>\n",
       "</div>"
      ],
      "text/plain": [
       "       Row Name                    images-2.jpeg  \\\n",
       "Index                                              \n",
       "0      FilePath  data/vision_input/images-2.jpeg   \n",
       "1      FileName                    images-2.jpeg   \n",
       "2       Label_1                     Dog (96.29%)   \n",
       "3       Label_2                   Plant (95.04%)   \n",
       "4       Label_3               Dog breed (90.05%)   \n",
       "5       Label_4               Carnivore (89.59%)   \n",
       "6       Label_5           Companion dog (81.98%)   \n",
       "7       Label_6                   Grass (79.03%)   \n",
       "8       Label_7                   Happy (76.68%)   \n",
       "9       Label_8                   Snout (73.08%)   \n",
       "10      Label_9          Sporting Group (72.02%)   \n",
       "11     Label_10               Retriever (69.64%)   \n",
       "\n",
       "                         test_img.jpg  \n",
       "Index                                  \n",
       "0      data/vision_input/test_img.jpg  \n",
       "1                        test_img.jpg  \n",
       "2                   Forehead (98.47%)  \n",
       "3                      Smile (98.21%)  \n",
       "4                       Cheek (97.9%)  \n",
       "5                     Sleeve (85.43%)  \n",
       "6                     Collar (81.93%)  \n",
       "7               Spokesperson (79.33%)  \n",
       "8                      Happy (77.44%)  \n",
       "9                      Event (73.34%)  \n",
       "10                Technology (73.32%)  \n",
       "11       White-collar worker (72.71%)  "
      ]
     },
     "execution_count": 36,
     "metadata": {},
     "output_type": "execute_result"
    }
   ],
   "source": [
    "labels"
   ]
  },
  {
   "cell_type": "code",
   "execution_count": null,
   "metadata": {},
   "outputs": [],
   "source": []
  }
 ],
 "metadata": {
  "kernelspec": {
   "display_name": "Python 3",
   "language": "python",
   "name": "python3"
  },
  "language_info": {
   "codemirror_mode": {
    "name": "ipython",
    "version": 3
   },
   "file_extension": ".py",
   "mimetype": "text/x-python",
   "name": "python",
   "nbconvert_exporter": "python",
   "pygments_lexer": "ipython3",
   "version": "3.7.6"
  }
 },
 "nbformat": 4,
 "nbformat_minor": 1
}
