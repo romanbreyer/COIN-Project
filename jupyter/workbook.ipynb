{
 "cells": [
  {
   "cell_type": "markdown",
   "metadata": {},
   "source": [
    "# COIN Project\n",
    "\n",
    "Authors:\n",
    "\n",
    "    - Mona\n",
    "    - Roman\n",
    "    - Nick\n",
    "    - Mateo"
   ]
  },
  {
   "cell_type": "markdown",
   "metadata": {},
   "source": [
    "# Setup"
   ]
  },
  {
   "cell_type": "markdown",
   "metadata": {},
   "source": [
    "## Packages"
   ]
  },
  {
   "cell_type": "code",
   "execution_count": 3,
   "metadata": {},
   "outputs": [],
   "source": [
    "import pandas as pd\n",
    "import numpy as np\n",
    "import sqlalchemy as sa\n",
    "import tweepy\n",
    "import dotenv\n",
    "import os\n",
    "import yaml\n",
    "import datetime\n",
    "from pprint import pprint"
   ]
  },
  {
   "cell_type": "markdown",
   "metadata": {},
   "source": [
    "## Environment variables"
   ]
  },
  {
   "cell_type": "code",
   "execution_count": 4,
   "metadata": {},
   "outputs": [
    {
     "data": {
      "text/plain": [
       "True"
      ]
     },
     "execution_count": 4,
     "metadata": {},
     "output_type": "execute_result"
    }
   ],
   "source": [
    "dotenv.load_dotenv()"
   ]
  },
  {
   "cell_type": "code",
   "execution_count": 24,
   "metadata": {},
   "outputs": [],
   "source": [
    "with open(\"../twitter.yml\", \"r\") as f:\n",
    "    config = yaml.safe_load(f)"
   ]
  },
  {
   "cell_type": "markdown",
   "metadata": {},
   "source": [
    "## Database connection"
   ]
  },
  {
   "cell_type": "code",
   "execution_count": null,
   "metadata": {},
   "outputs": [],
   "source": [
    "username = os.environ[\"DB_USERNAME\"]\n",
    "password = os.environ[\"DB_PASSWORD\"]\n",
    "host = os.environ[\"DB_HOST\"]\n",
    "port = os.environ[\"DB_PORT\"]\n",
    "name = os.environ[\"DB_NAME\"]"
   ]
  },
  {
   "cell_type": "code",
   "execution_count": null,
   "metadata": {},
   "outputs": [],
   "source": [
    "engine = sa.create_engine(\"mssql+pymssql://{}:{}@{}/{}\".format(username, password, host, name))"
   ]
  },
  {
   "cell_type": "markdown",
   "metadata": {},
   "source": [
    "## Tweepy"
   ]
  },
  {
   "cell_type": "code",
   "execution_count": 6,
   "metadata": {},
   "outputs": [],
   "source": [
    "api_key = os.environ[\"API_KEY\"]\n",
    "api_key_secret = os.environ[\"API_KEY_SECRET\"]\n",
    "bearer_token = os.environ[\"BEARER_TOKEN\"]\n",
    "access_token = os.environ[\"ACCESS_TOKEN\"]\n",
    "access_token_secret = os.environ[\"ACCESS_TOKEN_SECRET\"]"
   ]
  },
  {
   "cell_type": "code",
   "execution_count": 7,
   "metadata": {},
   "outputs": [],
   "source": [
    "client = tweepy.Client(bearer_token=bearer_token, wait_on_rate_limit=True)"
   ]
  },
  {
   "cell_type": "code",
   "execution_count": null,
   "metadata": {},
   "outputs": [],
   "source": [
    "auth = tweepy.OAuth2BearerHandler(bearer_token=bearer_token)\n",
    "api = tweepy.API(auth)"
   ]
  },
  {
   "cell_type": "markdown",
   "metadata": {},
   "source": [
    "# Twitter API"
   ]
  },
  {
   "cell_type": "code",
   "execution_count": 27,
   "metadata": {},
   "outputs": [],
   "source": [
    "users = {user: client.get_user(username=user).data.id for user in config[\"accounts\"]}"
   ]
  },
  {
   "cell_type": "code",
   "execution_count": 28,
   "metadata": {},
   "outputs": [
    {
     "data": {
      "text/plain": [
       "{'Fridays4future': 1053768884732547072,\n",
       " 'FridayForFuture': 1072187272815149057,\n",
       " 'GretaThunberg': 1006419421244678144,\n",
       " 'luisaneubauer': 2689488949}"
      ]
     },
     "execution_count": 28,
     "metadata": {},
     "output_type": "execute_result"
    }
   ],
   "source": [
    "users"
   ]
  },
  {
   "cell_type": "code",
   "execution_count": 86,
   "metadata": {},
   "outputs": [],
   "source": [
    "pages = [response.data for response in tweepy.Paginator(\n",
    "    #client.search_all_tweets, \n",
    "    #query = \"COVID hoax -is:retweet lang:en\",\n",
    "    client.get_users_tweets,\n",
    "    id = 1053768884732547072,\n",
    "    tweet_fields = [\"created_at\", \"geo\", \"public_metrics\", \"text\"],\n",
    "    expansions=[\"author_id\", \"entities.\"],\n",
    "    start_time = \"2022-04-01T00:00:00Z\",\n",
    "    end_time=\"2022-04-30T00:00:00Z\"\n",
    ")]"
   ]
  },
  {
   "cell_type": "code",
   "execution_count": 87,
   "metadata": {},
   "outputs": [
    {
     "data": {
      "text/plain": [
       "7"
      ]
     },
     "execution_count": 87,
     "metadata": {},
     "output_type": "execute_result"
    }
   ],
   "source": [
    "len(pages)"
   ]
  },
  {
   "cell_type": "code",
   "execution_count": null,
   "metadata": {},
   "outputs": [],
   "source": [
    "[{\"id\": \"\", \"text\": \"\"} for page in pages for tweet in page]"
   ]
  },
  {
   "cell_type": "code",
   "execution_count": 104,
   "metadata": {},
   "outputs": [
    {
     "data": {
      "text/plain": [
       "140"
      ]
     },
     "execution_count": 104,
     "metadata": {},
     "output_type": "execute_result"
    }
   ],
   "source": [
    "len(\"\"\"RT @fff_ukraine: Last Friday Europe and New York saw the 1st wave of protests against Russian fossil fuels, by @Fridays4future,@FridayForFu…\"\"\")"
   ]
  },
  {
   "cell_type": "code",
   "execution_count": 106,
   "metadata": {},
   "outputs": [
    {
     "name": "stdout",
     "output_type": "stream",
     "text": [
      "{'id': '1519697401283371009', 'text': 'RT @fff_ukraine: Last Friday Europe and New York saw the 1st wave of protests against Russian fossil fuels, by @Fridays4future,@FridayForFu…', 'author_id': '1053768884732547072', 'public_metrics': {'retweet_count': 232, 'reply_count': 0, 'like_count': 0, 'quote_count': 0}, 'created_at': '2022-04-28T15:17:49.000Z'} \n",
      "------------\n",
      "{'id': '1519653985841524737', 'text': 'RT @Fridays4FutureU: BNPParibas you have validated the climate plan of @TotalEnergies at its 2021 General Meeting. BNP Paribas you can swit…', 'author_id': '1053768884732547072', 'public_metrics': {'retweet_count': 38, 'reply_count': 0, 'like_count': 0, 'quote_count': 0}, 'created_at': '2022-04-28T12:25:18.000Z'} \n",
      "------------\n",
      "{'id': '1519653857621651462', 'text': 'RT @FFFMAPA: Severe heat waves are expected to hit different parts of India and Pakistan. Meteorological department issued a yellow alert i…', 'author_id': '1053768884732547072', 'public_metrics': {'retweet_count': 23, 'reply_count': 0, 'like_count': 0, 'quote_count': 0}, 'created_at': '2022-04-28T12:24:48.000Z'} \n",
      "------------\n",
      "{'id': '1519366113393397760', 'text': \"BREAKING 📣\\nA climate bomb is about to go off. Bolsonaro's allies are rushing to legalize mining in indigenous lands. If they succeed, the whole world will feel the heat. We can and we must STOP THE ARSONISTS. \\nWHICH SIDE ARE YOU ON? #AmazonOrBolsonaro #ClimateBomb https://t.co/abDjD2Z37j\", 'author_id': '1053768884732547072', 'public_metrics': {'retweet_count': 709, 'reply_count': 68, 'like_count': 1102, 'quote_count': 57}, 'created_at': '2022-04-27T17:21:24.000Z'} \n",
      "------------\n",
      "{'id': '1518353234875846658', 'text': 'Well that’s all from me! Thank you to everyone who sent kind messages and interacted with my Tweets! If you every wanna connect in the future please reach out to my personal account 💚 -@aliya_hirji_', 'author_id': '1053768884732547072', 'public_metrics': {'retweet_count': 5, 'reply_count': 2, 'like_count': 46, 'quote_count': 0}, 'created_at': '2022-04-24T22:16:35.000Z'} \n",
      "------------\n",
      "{'id': '1518349352900702210', 'text': 'Hey @RBC @TD_Canada @scotiabank @BMO @cibc investing in fossil fuels is so not fetch 🙄 -@aliya_hirji_ \\n#FridaysForFuture #ClimateAction #BankingOnABetterFuture', 'author_id': '1053768884732547072', 'public_metrics': {'retweet_count': 6, 'reply_count': 1, 'like_count': 27, 'quote_count': 0}, 'created_at': '2022-04-24T22:01:09.000Z'} \n",
      "------------\n",
      "{'id': '1518347810038554628', 'text': 'Sharing some advice for young people who want to join the climate movement or are hesitant about starting their journey… TAKE THAT STEP! -@aliya_hirji_ \\n#FridaysForFuture #ClimateAction #BankingOnABetterFuture #GenZ #ClimateJustice https://t.co/RjrD2YmIvt', 'author_id': '1053768884732547072', 'public_metrics': {'retweet_count': 29, 'reply_count': 1, 'like_count': 80, 'quote_count': 3}, 'created_at': '2022-04-24T21:55:02.000Z'} \n",
      "------------\n",
      "{'id': '1518325374056292354', 'text': 'Because that’s definitely my intention 😂 -@aliya_hirji_', 'author_id': '1053768884732547072', 'public_metrics': {'retweet_count': 1, 'reply_count': 1, 'like_count': 15, 'quote_count': 0}, 'created_at': '2022-04-24T20:25:52.000Z'} \n",
      "------------\n",
      "{'id': '1518325371430703105', 'text': 'Am I a bigger “reputational risk” when I tweet from this verified account @RBC? -@aliya_hirji_\\n#FridaysForFuture #ClimateAction #BankingOnABetterFuture https://t.co/HaaL8vCcgn', 'author_id': '1053768884732547072', 'public_metrics': {'retweet_count': 6, 'reply_count': 2, 'like_count': 34, 'quote_count': 0}, 'created_at': '2022-04-24T20:25:52.000Z'} \n",
      "------------\n",
      "{'id': '1518324743748960257', 'text': 'I’m an introvert until someone mentions how banks fund climate change, then I’m the loudest person in the room 😂 -@aliya_hirji_\\n#FridaysForFuture #ClimateAction #BankingOnABetterFuture', 'author_id': '1053768884732547072', 'public_metrics': {'retweet_count': 13, 'reply_count': 0, 'like_count': 67, 'quote_count': 0}, 'created_at': '2022-04-24T20:23:22.000Z'} \n",
      "------------\n",
      "NEW PAGE\n",
      "{'id': '1518324375207956481', 'public_metrics': {'retweet_count': 19, 'reply_count': 2, 'like_count': 52, 'quote_count': 1}, 'text': 'Canadian banks are just fossil fuel companies in a trench coat -@aliya_hirji_ \\n#FridaysForFuture #ClimateAction #BankingOnABetterFuture', 'created_at': '2022-04-24T20:21:54.000Z', 'author_id': '1053768884732547072'} \n",
      "------------\n",
      "{'id': '1518308514229276678', 'public_metrics': {'retweet_count': 3, 'reply_count': 0, 'like_count': 21, 'quote_count': 0}, 'text': 'But we did hold a rally &amp; march outside the @RBC headquarters in so-called Toronto to show how powerful the people are and how much we want divestment &amp; climate action 4/4 -@aliya_hirji_ https://t.co/36NaF6F19i', 'created_at': '2022-04-24T19:18:53.000Z', 'author_id': '1053768884732547072'} \n",
      "------------\n",
      "{'id': '1518308511628804099', 'public_metrics': {'retweet_count': 5, 'reply_count': 1, 'like_count': 19, 'quote_count': 0}, 'text': 'Although Wet’suwet’en Hereditary chiefs, @bank4future organizers, and RBC customers were invited, they weren’t respected by @RBC &amp; CEO David McKay. The Cheifs felt disrespected, the youth were prevented from speaking, and it was full of lies. Here’s a recap! 3/4 -@aliya_hirji_ https://t.co/HPQbeCN7ki', 'created_at': '2022-04-24T19:18:52.000Z', 'author_id': '1053768884732547072'} \n",
      "------------\n",
      "{'id': '1518308509888176134', 'public_metrics': {'retweet_count': 1, 'reply_count': 1, 'like_count': 14, 'quote_count': 0}, 'text': 'Previously, climate activists attempted to submit a proposal for no more fossil fuel financing but it was rejected on a technicality 2/4 -@aliya_hirji_', 'created_at': '2022-04-24T19:18:52.000Z', 'author_id': '1053768884732547072'} \n",
      "------------\n",
      "{'id': '1518308507174543365', 'public_metrics': {'retweet_count': 23, 'reply_count': 2, 'like_count': 50, 'quote_count': 0}, 'text': 'Earlier this month was the @RBC Annual General Meeting where shareholder vote on proposals for the corporations direction but it wasn’t that simple… 1/4 -@aliya_hirji_\\n#FridaysForFuture #ClimateAction #BankingOnABetterFuture #NoCGL #WetsuwetenStrong', 'created_at': '2022-04-24T19:18:51.000Z', 'author_id': '1053768884732547072'} \n",
      "------------\n",
      "{'id': '1518289525650464775', 'public_metrics': {'retweet_count': 2, 'reply_count': 0, 'like_count': 12, 'quote_count': 0}, 'text': 'Here’s the lovely team I mentioned -@aliya_hirji_ https://t.co/AiyUGwKzHy', 'created_at': '2022-04-24T18:03:26.000Z', 'author_id': '1053768884732547072'} \n",
      "------------\n",
      "{'id': '1518289404502196224', 'public_metrics': {'retweet_count': 7, 'reply_count': 1, 'like_count': 22, 'quote_count': 0}, 'text': 'Answering some tough questions on Instagram right now 😅 -@aliya_hirji_ \\n#FridaysForFuture #ClimateAction #BankingOnABetterFuture https://t.co/GZA8JLyBNx', 'created_at': '2022-04-24T18:02:57.000Z', 'author_id': '1053768884732547072'} \n",
      "------------\n",
      "{'id': '1518284873148125184', 'public_metrics': {'retweet_count': 1, 'reply_count': 3, 'like_count': 19, 'quote_count': 0}, 'text': '@FenJordan1 @GretaThunberg @RBC @TD_Canada @scotiabank @BMO @cibc @aliya_hirji_ @bank4future If you read the Tweet it says 4.6 trillion USD is the top 60 banks globally and 900 billion for the 5 Canadian banks listed. And I do go to high school. -@aliya_hirji_', 'created_at': '2022-04-24T17:44:56.000Z', 'author_id': '1053768884732547072'} \n",
      "------------\n",
      "{'id': '1518278906880667650', 'public_metrics': {'retweet_count': 96, 'reply_count': 1, 'like_count': 155, 'quote_count': 3}, 'text': 'The Royal Bank of Canada @RBC has invested 262B CAD in fossil fuels since the Paris Agreement and is the main enabler of the Indigenous rights violating Coastal GasLink Pipeline -@aliya_hirji_ \\n\\n#FridaysForFuture #ClimateAction #BankingOnABetterFuture #NoCGL #WetsuwetenStrong https://t.co/wNXuJzgpjn', 'created_at': '2022-04-24T17:21:14.000Z', 'author_id': '1053768884732547072'} \n",
      "------------\n",
      "{'id': '1518268071986741248', 'public_metrics': {'retweet_count': 18, 'reply_count': 1, 'like_count': 68, 'quote_count': 0}, 'text': 'These Canadian banks have poured nearly 1 trillion CAD into fossil fuels in the last 6yrs. Youth in Canada, are refusing to participate in this destructive financing, and taking action with @bank4future 2/2 -@aliya_hirji_', 'created_at': '2022-04-24T16:38:11.000Z', 'author_id': '1053768884732547072'} \n",
      "------------\n",
      "NEW PAGE\n",
      "{'id': '1518268069340225536', 'text': 'According to the https://t.co/GW9mLibciw report the worlds 60 biggest banks poured 4,600,000,000,000 USD in fossil fuels in 6yrs! @RBC, @TD_Canada, @scotiabank, @BMO, and @cibc are among the top funders 1/2 -@aliya_hirji_ \\n#FridaysForFuture #ClimateAction #BankingOnABetterFuture https://t.co/LgNJZuzvb0', 'public_metrics': {'retweet_count': 508, 'reply_count': 69, 'like_count': 869, 'quote_count': 34}, 'author_id': '1053768884732547072', 'created_at': '2022-04-24T16:38:10.000Z'} \n",
      "------------\n",
      "{'id': '1518249517447282696', 'text': 'I have a question box on the Instagram story where you can ask bout myself or the campaign all day! https://t.co/6BvWtAWw53', 'public_metrics': {'retweet_count': 5, 'reply_count': 0, 'like_count': 19, 'quote_count': 0}, 'author_id': '1053768884732547072', 'created_at': '2022-04-24T15:24:27.000Z'} \n",
      "------------\n",
      "{'id': '1518249515404431360', 'text': 'I’m a core organizer at @bank4future a youth-led non-profit drawing attention to the Big 5 Canadian Banks’ fossil fuel funding 2/3', 'public_metrics': {'retweet_count': 5, 'reply_count': 1, 'like_count': 21, 'quote_count': 0}, 'author_id': '1053768884732547072', 'created_at': '2022-04-24T15:24:26.000Z'} \n",
      "------------\n",
      "{'id': '1518249513277927424', 'text': 'Hi I’m @aliya_hirji_ a climate justice activist working in fossil fuel divestment and climate finance and today I’m taking over the Fridays For Future Instagram and Twitter so follow along! 1/3\\n#FridaysForFuture #ClimateAction #BankingOnABetterFuture https://t.co/RUO7BXkKVD', 'public_metrics': {'retweet_count': 43, 'reply_count': 4, 'like_count': 121, 'quote_count': 3}, 'author_id': '1053768884732547072', 'created_at': '2022-04-24T15:24:26.000Z'} \n",
      "------------\n",
      "{'id': '1518233785040457728', 'text': 'She will be taking over Fridays For Future social media today to talk about her work and the recent actions against the Royal Bank of Canada, join us!', 'public_metrics': {'retweet_count': 4, 'reply_count': 0, 'like_count': 17, 'quote_count': 1}, 'author_id': '1053768884732547072', 'created_at': '2022-04-24T14:21:56.000Z'} \n",
      "------------\n",
      "{'id': '1518233783241113600', 'text': 'Meet Aliya Hirji (@aliya_hirji_) a climate activist and organizer from so-called Canada. She is part of the core team of Banking on a better future @bank4future  and an organizer at @CAclimatestrike https://t.co/pWwnKSRDv9', 'public_metrics': {'retweet_count': 24, 'reply_count': 8, 'like_count': 95, 'quote_count': 2}, 'author_id': '1053768884732547072', 'created_at': '2022-04-24T14:21:56.000Z'} \n",
      "------------\n",
      "{'id': '1518137275871207552', 'text': 'RT @Fridays4FutureU: The power of the people is much stronger than the people in power.\\n\\nThe climate movement is getting stronger in Uganda…', 'public_metrics': {'retweet_count': 81, 'reply_count': 0, 'like_count': 0, 'quote_count': 0}, 'author_id': '1053768884732547072', 'created_at': '2022-04-24T07:58:26.000Z'} \n",
      "------------\n",
      "{'id': '1518136519185166336', 'text': 'RT @ClimateWorrier3: My short climate protest today! #FridaysForFuture #ClimateStrike @GretaThunberg\\n\\nHappy Earth Day - though, it shouldn’…', 'public_metrics': {'retweet_count': 238, 'reply_count': 0, 'like_count': 0, 'quote_count': 0}, 'author_id': '1053768884732547072', 'created_at': '2022-04-24T07:55:26.000Z'} \n",
      "------------\n",
      "{'id': '1518135981760651269', 'text': 'RT @futureperu: #Lima 22.04.2022\\n\\nAyer, en el #DiaDeLaTierra , salimos a las calles a protestar cerca de las instalaciones del congreso exi…', 'public_metrics': {'retweet_count': 18, 'reply_count': 0, 'like_count': 0, 'quote_count': 0}, 'author_id': '1053768884732547072', 'created_at': '2022-04-24T07:53:18.000Z'} \n",
      "------------\n",
      "{'id': '1518135920054046720', 'text': 'RT @fff_ukraine: Humanity suffers from fossil fuel dependence. Fossil fuels = bloody money financing death and destruction, including Russi…', 'public_metrics': {'retweet_count': 33, 'reply_count': 0, 'like_count': 0, 'quote_count': 0}, 'author_id': '1053768884732547072', 'created_at': '2022-04-24T07:53:03.000Z'} \n",
      "------------\n",
      "NEW PAGE\n",
      "{'author_id': '1053768884732547072', 'public_metrics': {'retweet_count': 33, 'reply_count': 0, 'like_count': 0, 'quote_count': 0}, 'id': '1518118811366354944', 'text': 'RT @jovenesclimarg: Ayer, en el Día de la Tierra, fuimos miles de personas exigiendo una transición climática justa y soberana, que no deje…', 'created_at': '2022-04-24T06:45:04.000Z'} \n",
      "------------\n",
      "{'author_id': '1053768884732547072', 'public_metrics': {'retweet_count': 33, 'reply_count': 2, 'like_count': 82, 'quote_count': 1}, 'id': '1516898227928317952', 'text': 'We demand an immediate end of Oppression and request the human rights groups to raise their voices against these severe form Injustices.\\n#StandWithBalochistan', 'created_at': '2022-04-20T21:54:54.000Z'} \n",
      "------------\n",
      "{'author_id': '1053768884732547072', 'public_metrics': {'retweet_count': 28, 'reply_count': 2, 'like_count': 79, 'quote_count': 3}, 'id': '1516898226875551746', 'text': 'The root cause of the climate Crisis is colonialism, exploitation of resources in vulnerable communities and Oppressing and militarizing them in their own land.', 'created_at': '2022-04-20T21:54:54.000Z'} \n",
      "------------\n",
      "{'author_id': '1053768884732547072', 'public_metrics': {'retweet_count': 22, 'reply_count': 1, 'like_count': 50, 'quote_count': 1}, 'id': '1516898224174518273', 'text': 'In 2011 the Human Rights Commission of Pakistan issued a report about disappearances in the province, identifying the Inter-Service Intelligence and Frontier Corps as perpetrators. According to the report from the HR Commission of Pakistan the population also lacks basic services https://t.co/HSI3oMpOfm', 'created_at': '2022-04-20T21:54:53.000Z'} \n",
      "------------\n",
      "{'author_id': '1053768884732547072', 'public_metrics': {'retweet_count': 28, 'reply_count': 1, 'like_count': 56, 'quote_count': 0}, 'id': '1516898217128083468', 'text': 'It is reported that from past two decades more than 47000 people were kidnapped by Pakistani security forces in the province. Cases of torture have also been reported. https://t.co/CmRRDHTVT0', 'created_at': '2022-04-20T21:54:52.000Z'} \n",
      "------------\n",
      "{'author_id': '1053768884732547072', 'public_metrics': {'retweet_count': 102, 'reply_count': 6, 'like_count': 216, 'quote_count': 9}, 'id': '1516898206969442305', 'text': 'We stand in solidarity with the people of Balochistan against the Oppression, colonialism &amp; the exploitation of their natural resources which resulted in huge human rights Violation and led people to suffer, many Indigenous communities have been internally displaced. #ChagiBleeds https://t.co/NFfGPjy603', 'created_at': '2022-04-20T21:54:49.000Z'} \n",
      "------------\n",
      "{'author_id': '1053768884732547072', 'public_metrics': {'retweet_count': 806, 'reply_count': 0, 'like_count': 0, 'quote_count': 0}, 'id': '1514838592572751875', 'text': 'RT @mitzijonelle: #LetTheEarthBreath &amp; #ClimateCrisis are trending because of the #ScientistProtest but people are saying that the answer t…', 'created_at': '2022-04-15T05:30:39.000Z'} \n",
      "------------\n",
      "{'author_id': '1053768884732547072', 'public_metrics': {'retweet_count': 84, 'reply_count': 0, 'like_count': 0, 'quote_count': 0}, 'id': '1514536735463841800', 'text': 'RT @MissKwaji: We cant drink Oil\\nWe cant eat Coal\\nWe cant breathe Gas\\nA clean and healthy environment is a human right!\\n#stopeacop \\n#climat…', 'created_at': '2022-04-14T09:31:11.000Z'} \n",
      "------------\n",
      "{'author_id': '1053768884732547072', 'public_metrics': {'retweet_count': 33, 'reply_count': 0, 'like_count': 0, 'quote_count': 0}, 'id': '1514536704639901698', 'text': 'RT @ende_gelande: 📢 ENDE GELÄNDE GOES HAMBURG\\n\\nWith a big mass action we will come together in Hamburg in August. We will fight against col…', 'created_at': '2022-04-14T09:31:03.000Z'} \n",
      "------------\n",
      "{'author_id': '1053768884732547072', 'public_metrics': {'retweet_count': 547, 'reply_count': 0, 'like_count': 0, 'quote_count': 0}, 'id': '1514534892969000960', 'text': \"RT @mitzijonelle: To everyone seeing the #ScientistProtest. Please join the movement. Individual change helps, but it isn't enough.\\n\\nThe sa…\", 'created_at': '2022-04-14T09:23:51.000Z'} \n",
      "------------\n",
      "NEW PAGE\n",
      "{'id': '1514526009827414023', 'public_metrics': {'retweet_count': 54, 'reply_count': 0, 'like_count': 0, 'quote_count': 0}, 'text': 'RT @yacap_ncr: \"Current actions and plans are grossly inadequate, and even these obligations are not being met.\"\\n\\nhttps://t.co/aT65QmveXD', 'created_at': '2022-04-14T08:48:33.000Z', 'author_id': '1053768884732547072'} \n",
      "------------\n",
      "{'id': '1514525955775397891', 'public_metrics': {'retweet_count': 110, 'reply_count': 0, 'like_count': 0, 'quote_count': 0}, 'text': 'RT @yacap_ncr: \"We are being ignored, scientists of the world are being ignored. This has to stop. We will lose everything\" -@ClimateHuman…', 'created_at': '2022-04-14T08:48:21.000Z', 'author_id': '1053768884732547072'} \n",
      "------------\n",
      "{'id': '1514396599224774657', 'public_metrics': {'retweet_count': 9, 'reply_count': 0, 'like_count': 0, 'quote_count': 0}, 'text': 'RT @FFFMAPA: Hello @AXA? We need urgent assistance.\\n\\nJoin people across the world mobilizing for the #AXADivest Global Day of Action on Mon…', 'created_at': '2022-04-14T00:14:20.000Z', 'author_id': '1053768884732547072'} \n",
      "------------\n",
      "{'id': '1514390027039490048', 'public_metrics': {'retweet_count': 22, 'reply_count': 0, 'like_count': 0, 'quote_count': 0}, 'text': \"RT @fridays4leb: #HypocrisyAlert\\n\\nAXA's report on biodiversity loss &amp; investment decision-making is greenwashing. @AXA invests in Israeli b…\", 'created_at': '2022-04-13T23:48:13.000Z', 'author_id': '1053768884732547072'} \n",
      "------------\n",
      "{'id': '1513963735899160586', 'public_metrics': {'retweet_count': 69, 'reply_count': 0, 'like_count': 0, 'quote_count': 0}, 'text': 'RT @FFFMAPA: ✊🏾🏹🚩 We declare the last year of the genocidal government!\\n \\nThe Free Land Camp (ATL), the largest indigenous mobilization in…', 'created_at': '2022-04-12T19:34:17.000Z', 'author_id': '1053768884732547072'} \n",
      "------------\n",
      "{'id': '1513708352920236036', 'public_metrics': {'retweet_count': 2888, 'reply_count': 0, 'like_count': 0, 'quote_count': 0}, 'text': 'RT @ClimateHuman: My latest: There are two fatal flaws with “net zero by 2050.” One is “net zero.” The other is “by 2050”.\\nhttps://t.co/yss…', 'created_at': '2022-04-12T02:39:29.000Z', 'author_id': '1053768884732547072'} \n",
      "------------\n",
      "{'id': '1513708319156088835', 'public_metrics': {'retweet_count': 663, 'reply_count': 0, 'like_count': 0, 'quote_count': 0}, 'text': 'RT @ClimateHuman: Some may disagree that I engage in activism even though I am a scientist. But what do they expect me to do, stand on the…', 'created_at': '2022-04-12T02:39:21.000Z', 'author_id': '1053768884732547072'} \n",
      "------------\n",
      "{'id': '1513708294233538562', 'public_metrics': {'retweet_count': 61602, 'reply_count': 0, 'like_count': 0, 'quote_count': 0}, 'text': \"RT @ClimateHuman: I'm grateful we tried. Man, oh, man, did we try. https://t.co/TlYrwwGB8v\", 'created_at': '2022-04-12T02:39:15.000Z', 'author_id': '1053768884732547072'} \n",
      "------------\n",
      "{'id': '1513510146831687683', 'public_metrics': {'retweet_count': 116, 'reply_count': 0, 'like_count': 0, 'quote_count': 0}, 'text': 'RT @YACAPhilippines: 📣 CALL FOR DONATIONS 📣\\n\\nTyphoon #AgatonPH hits Eastern Visayas yesterday, during a month when dry season supposedly ar…', 'created_at': '2022-04-11T13:31:53.000Z', 'author_id': '1053768884732547072'} \n",
      "------------\n",
      "{'id': '1512393158864556036', 'public_metrics': {'retweet_count': 239, 'reply_count': 0, 'like_count': 0, 'quote_count': 0}, 'text': 'RT @nowthisnews: ‘Border violence profiteering is climate change profiteering’ — here’s why climate justice needs to include migrant commun…', 'created_at': '2022-04-08T11:33:22.000Z', 'author_id': '1053768884732547072'} \n",
      "------------\n",
      "NEW PAGE\n",
      "{'created_at': '2022-04-07T23:04:10.000Z', 'author_id': '1053768884732547072', 'id': '1512204615135207427', 'public_metrics': {'retweet_count': 23, 'reply_count': 0, 'like_count': 0, 'quote_count': 0}, 'text': 'RT @leadnowca: @RBC @standearth @Gidimten @Indigenous_ca @GreenpeaceCA @bank4future @QuitRbc @SumOfUs @bankonourfuture @Climatepledgeco @CA…'} \n",
      "------------\n",
      "{'created_at': '2022-04-07T20:08:59.000Z', 'author_id': '1053768884732547072', 'id': '1512160528004784136', 'public_metrics': {'retweet_count': 105, 'reply_count': 0, 'like_count': 0, 'quote_count': 0}, 'text': 'RT @QuitRbc: So @RBC has invested A LOT in fossil fuels: \\n🛢️US$30,000,000,000 in 2016\\n🛢️US$39,000,000,000 in 2017\\n🛢️US$39,000,000,000 in 20…'} \n",
      "------------\n",
      "{'created_at': '2022-04-07T20:08:06.000Z', 'author_id': '1053768884732547072', 'id': '1512160307455701000', 'public_metrics': {'retweet_count': 4, 'reply_count': 0, 'like_count': 16, 'quote_count': 0}, 'text': 'We will update this thread for more information on how to demand accountability from RBC, you can follow @bank4future and @QuitRbc for more information about actions and how to get involved!'} \n",
      "------------\n",
      "{'created_at': '2022-04-07T20:08:06.000Z', 'author_id': '1053768884732547072', 'id': '1512160305933176844', 'public_metrics': {'retweet_count': 6, 'reply_count': 1, 'like_count': 19, 'quote_count': 0}, 'text': 'Here is more information about what happened \\nhttps://t.co/Yw3TmpqhUi'} \n",
      "------------\n",
      "{'created_at': '2022-04-07T20:08:05.000Z', 'author_id': '1053768884732547072', 'id': '1512160303596945411', 'public_metrics': {'retweet_count': 5, 'reply_count': 1, 'like_count': 13, 'quote_count': 0}, 'text': 'RBC has funded over 20 fossil fuel and land extraction projects. Wirh over 200 billions poured.\\nhttps://t.co/WLy8qt4HKH'} \n",
      "------------\n",
      "{'created_at': '2022-04-07T20:08:05.000Z', 'author_id': '1053768884732547072', 'id': '1512160301671661577', 'public_metrics': {'retweet_count': 49, 'reply_count': 5, 'like_count': 98, 'quote_count': 4}, 'text': 'Today Canadian campaigners from @bank4future and Indigenous land defenders joined for the Royal Bank of Canada AGM to call out their funding to the climate crisis and end their fossil fuel finance.\\nhttps://t.co/ZqmkkDG8VI\\n#RBCisKillingMe #DefundClimateChaos'} \n",
      "------------\n",
      "{'created_at': '2022-04-07T19:49:58.000Z', 'author_id': '1053768884732547072', 'id': '1512155745994752016', 'public_metrics': {'retweet_count': 123, 'reply_count': 0, 'like_count': 0, 'quote_count': 0}, 'text': \"RT @bank4future: HAPPENING NOW!\\nWet'suwet'en Hereditary Chiefs are outside the Toronto Convention Centre where the @RBC AGM would have been…\"} \n",
      "------------\n",
      "{'created_at': '2022-04-07T19:45:24.000Z', 'author_id': '1053768884732547072', 'id': '1512154592984776704', 'public_metrics': {'retweet_count': 33, 'reply_count': 0, 'like_count': 0, 'quote_count': 0}, 'text': \"RT @bank4future: As a short summary of today's AGM: \\n\\n1. David McKay told Wet’suwet’en Hereditary Chiefs Gisdaywa, Ma’deek, and Na’moks - w…\"} \n",
      "------------\n",
      "{'created_at': '2022-04-07T19:45:02.000Z', 'author_id': '1053768884732547072', 'id': '1512154503461552130', 'public_metrics': {'retweet_count': 62, 'reply_count': 0, 'like_count': 0, 'quote_count': 0}, 'text': \"RT @QuitRbc: Wet'suwet'en Hereditary Chief Sleydo' was not permitted to speak at the @RBC AGM today about violence against Indigenous women…\"} \n",
      "------------\n",
      "{'created_at': '2022-04-07T19:43:27.000Z', 'author_id': '1053768884732547072', 'id': '1512154104822317072', 'public_metrics': {'retweet_count': 505, 'reply_count': 0, 'like_count': 0, 'quote_count': 0}, 'text': \"RT @R_BrooksStand: Wet'suwet'en chiefs lead march to @RBC headquarters to confront Canada's largest fossil bank for their role in financing…\"} \n",
      "------------\n",
      "NEW PAGE\n",
      "{'author_id': '1053768884732547072', 'created_at': '2022-04-07T19:43:11.000Z', 'text': 'RT @bankonourfuture: More than $15.4 billion worth of shares were voted in favour of a proposal telling @RBC to stop greenwashing\\n\\n8% is a…', 'id': '1512154037352742936', 'public_metrics': {'retweet_count': 10, 'reply_count': 0, 'like_count': 0, 'quote_count': 0}} \n",
      "------------\n",
      "{'author_id': '1053768884732547072', 'created_at': '2022-04-07T19:41:29.000Z', 'text': \"RT @aliya_hirji_: Wet'suwet'en chiefs lead a march of hundreds to the @RBC headquarters during their AGM to oppose their role in financing…\", 'id': '1512153608086704179', 'public_metrics': {'retweet_count': 29, 'reply_count': 0, 'like_count': 0, 'quote_count': 0}} \n",
      "------------\n",
      "{'author_id': '1053768884732547072', 'created_at': '2022-04-06T11:46:20.000Z', 'text': 'RT @todosxfuturo: Exigimos #JusticiaClimáticaVenezuela Esto implica atender los graves problemas\\nsocio ambientales que aumentan nuestra vul…', 'id': '1511671647123775492', 'public_metrics': {'retweet_count': 25, 'reply_count': 0, 'like_count': 0, 'quote_count': 0}} \n",
      "------------\n",
      "{'author_id': '1053768884732547072', 'created_at': '2022-04-05T07:57:22.000Z', 'text': 'RT @MaryHeglar: So sick of hearing that government \"inaction\" brought about climate change. They acted: they subsidized fossil fuel compani…', 'id': '1511251638610272257', 'public_metrics': {'retweet_count': 5079, 'reply_count': 0, 'like_count': 0, 'quote_count': 0}} \n",
      "------------\n",
      "{'author_id': '1053768884732547072', 'created_at': '2022-04-04T20:26:03.000Z', 'text': 'RT @antonioguterres: The latest @IPCC_CH report is a litany of broken climate promises.\\n\\nSome government &amp; business leaders are saying one…', 'id': '1511077661854269440', 'public_metrics': {'retweet_count': 4571, 'reply_count': 0, 'like_count': 0, 'quote_count': 0}} \n",
      "------------\n",
      "{'author_id': '1053768884732547072', 'created_at': '2022-04-03T15:16:23.000Z', 'text': 'RT @dw_environment: #Climate issues have taken a backseat as crises like the war in Ukraine and the pandemic dominate the news. But @Friday…', 'id': '1510637344734400522', 'public_metrics': {'retweet_count': 109, 'reply_count': 0, 'like_count': 0, 'quote_count': 0}} \n",
      "------------\n",
      "NEW PAGE\n"
     ]
    }
   ],
   "source": [
    "for page in pages:\n",
    "    for tweet in page:\n",
    "        print(tweet.data, \"\\n------------\")\n",
    "    print(\"NEW PAGE\")"
   ]
  },
  {
   "cell_type": "code",
   "execution_count": null,
   "metadata": {},
   "outputs": [],
   "source": []
  }
 ],
 "metadata": {
  "interpreter": {
   "hash": "fd10460dd3d146ddcd00478931b69fe3eeab4952c1785708c7385e1d4193c119"
  },
  "kernelspec": {
   "display_name": "Python 3.9.7 ('venv': venv)",
   "language": "python",
   "name": "python3"
  },
  "language_info": {
   "codemirror_mode": {
    "name": "ipython",
    "version": 3
   },
   "file_extension": ".py",
   "mimetype": "text/x-python",
   "name": "python",
   "nbconvert_exporter": "python",
   "pygments_lexer": "ipython3",
   "version": "3.9.7"
  },
  "orig_nbformat": 4
 },
 "nbformat": 4,
 "nbformat_minor": 2
}
