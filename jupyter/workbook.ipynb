{
 "cells": [
  {
   "cell_type": "markdown",
   "metadata": {},
   "source": [
    "# COIN Project\n",
    "\n",
    "Authors:\n",
    "\n",
    "    - Mona\n",
    "    - Roman\n",
    "    - Nick\n",
    "    - Mateo"
   ]
  },
  {
   "cell_type": "markdown",
   "metadata": {},
   "source": [
    "# 1. Setup"
   ]
  },
  {
   "cell_type": "markdown",
   "metadata": {},
   "source": [
    "### Packages"
   ]
  },
  {
   "cell_type": "code",
   "execution_count": 118,
   "metadata": {},
   "outputs": [],
   "source": [
    "import pandas as pd\n",
    "import numpy as np\n",
    "import sqlalchemy as sa\n",
    "import tweepy\n",
    "#import dotenv\n",
    "import os\n",
    "import yaml\n",
    "import datetime\n",
    "from pprint import pprint\n",
    "#from datetime import datetime"
   ]
  },
  {
   "cell_type": "markdown",
   "metadata": {},
   "source": [
    "### Environment Variables"
   ]
  },
  {
   "cell_type": "code",
   "execution_count": 119,
   "metadata": {},
   "outputs": [],
   "source": [
    "#dotenv.load_dotenv()"
   ]
  },
  {
   "cell_type": "code",
   "execution_count": 120,
   "metadata": {},
   "outputs": [],
   "source": [
    "with open(\"../twitter.yml\", \"r\") as f:\n",
    "    config = yaml.safe_load(f)"
   ]
  },
  {
   "cell_type": "code",
   "execution_count": 121,
   "metadata": {},
   "outputs": [
    {
     "data": {
      "text/plain": [
       "{'accounts': ['Fridays4future',\n",
       "  'FridayForFuture',\n",
       "  'GretaThunberg',\n",
       "  'Luisamneubauer'],\n",
       " 'hashtags': {'green': ['EndCoal',\n",
       "   'EndFossilFuels',\n",
       "   'PeopleNotProfit',\n",
       "   'NoMoreEmptyPromises',\n",
       "   'UprootTheSystem',\n",
       "   'FridaysForFuture',\n",
       "   'ClimateAction',\n",
       "   'ClimateJustice',\n",
       "   'ClimateEmergency',\n",
       "   'ClimateStrike',\n",
       "   'SaveThePlanet'],\n",
       "  'brown': ['climatescam',\n",
       "   'climatechangehoax',\n",
       "   'fakeclimate',\n",
       "   'climatehoax',\n",
       "   'globalwarmingisahoax'],\n",
       "  'neutral': ['ClimateCrisis', 'ClimateChange', 'Climate', 'GlobalWarming']}}"
      ]
     },
     "execution_count": 121,
     "metadata": {},
     "output_type": "execute_result"
    }
   ],
   "source": [
    "config"
   ]
  },
  {
   "cell_type": "markdown",
   "metadata": {},
   "source": [
    "### Database Connection"
   ]
  },
  {
   "cell_type": "code",
   "execution_count": 122,
   "metadata": {},
   "outputs": [
    {
     "data": {
      "text/plain": [
       "'username = os.environ[\"DB_USERNAME\"]\\npassword = os.environ[\"DB_PASSWORD\"]\\nhost = os.environ[\"DB_HOST\"]\\nport = os.environ[\"DB_PORT\"]\\nname = os.environ[\"DB_NAME\"]'"
      ]
     },
     "execution_count": 122,
     "metadata": {},
     "output_type": "execute_result"
    }
   ],
   "source": [
    "'''username = os.environ[\"DB_USERNAME\"]\n",
    "password = os.environ[\"DB_PASSWORD\"]\n",
    "host = os.environ[\"DB_HOST\"]\n",
    "port = os.environ[\"DB_PORT\"]\n",
    "name = os.environ[\"DB_NAME\"]'''"
   ]
  },
  {
   "cell_type": "code",
   "execution_count": 123,
   "metadata": {},
   "outputs": [],
   "source": [
    "#engine = sa.create_engine(\"mssql+pymssql://{}:{}@{}/{}\".format(username, password, host, name))"
   ]
  },
  {
   "cell_type": "markdown",
   "metadata": {},
   "source": [
    "### Tweepy API Connection"
   ]
  },
  {
   "cell_type": "code",
   "execution_count": 124,
   "metadata": {},
   "outputs": [],
   "source": [
    "client = tweepy.Client(bearer_token=\"AAAAAAAAAAAAAAAAAAAAAGjtbgEAAAAAyx9oZIai1hXZ9OyDhUUFMZQivpc%3DUunewUXR9hw3nyKQhjqdmfg7zSAoa1nPv6WKLLSPB7OwKwYBP3\", wait_on_rate_limit=True)"
   ]
  },
  {
   "cell_type": "code",
   "execution_count": 125,
   "metadata": {},
   "outputs": [],
   "source": [
    "auth = tweepy.OAuth2BearerHandler(bearer_token=\"AAAAAAAAAAAAAAAAAAAAAGjtbgEAAAAAyx9oZIai1hXZ9OyDhUUFMZQivpc%3DUunewUXR9hw3nyKQhjqdmfg7zSAoa1nPv6WKLLSPB7OwKwYBP3\")\n",
    "api = tweepy.API(auth, wait_on_rate_limit=True)"
   ]
  },
  {
   "cell_type": "markdown",
   "metadata": {
    "tags": []
   },
   "source": [
    "# 2. Load Data"
   ]
  },
  {
   "cell_type": "markdown",
   "metadata": {},
   "source": [
    "### 2.1 Tweets by User"
   ]
  },
  {
   "cell_type": "code",
   "execution_count": 126,
   "metadata": {},
   "outputs": [
    {
     "data": {
      "text/plain": [
       "{'Fridays4future': 1053768884732547072,\n",
       " 'FridayForFuture': 1072187272815149057,\n",
       " 'GretaThunberg': 1006419421244678144,\n",
       " 'Luisamneubauer': 1068337838}"
      ]
     },
     "execution_count": 126,
     "metadata": {},
     "output_type": "execute_result"
    }
   ],
   "source": [
    "#specify user_ids to look up\n",
    "users = {user: client.get_user(username=user).data.id for user in config[\"accounts\"]}\n",
    "users\n"
   ]
  },
  {
   "cell_type": "code",
   "execution_count": 127,
   "metadata": {},
   "outputs": [],
   "source": [
    "#returns tweets plus metadata for specific user_ids\n",
    "def get_user_tweets(user_id, start_time='2017-01-01', end_time: str = None, fmt=\"%Y-%m-%d\"):\n",
    "    expansions = [\"author_id\"]\n",
    "    tweet_fields = [\"created_at\", \"geo\", \"public_metrics\", \"text\", \"context_annotations\", \"entities\"]\n",
    "    start_time = datetime.datetime.strptime(start_time, fmt)\n",
    "    if end_time:\n",
    "        end_time = datetime.datetime.strptime(end_time, fmt)\n",
    "    else: \n",
    "        datetime.datetime.now()\n",
    "    response = tweepy.Paginator(\n",
    "        client.get_users_tweets,\n",
    "        id=user_id,\n",
    "        start_time=start_time,\n",
    "        end_time=end_time,\n",
    "        expansions=expansions,\n",
    "        tweet_fields=tweet_fields\n",
    "    ).flatten()\n",
    "    response = list(response)\n",
    "    tweets = [\n",
    "        {\n",
    "            \"id\": r.id,\n",
    "            \"author_id\": r.author_id,\n",
    "            \"created_at\": r.created_at,\n",
    "            \"geo\": r.geo,\n",
    "            \"retweet_count\": r.public_metrics[\"retweet_count\"],\n",
    "            \"reply_count\": r.public_metrics[\"reply_count\"],\n",
    "            \"like_count\": r.public_metrics[\"like_count\"],\n",
    "            \"qoute_count\": r.public_metrics[\"quote_count\"],\n",
    "            \"text\": r.text,\n",
    "            \"entities\": str(r.entities),\n",
    "            \"context_annotations\": str(r.context_annotations)\n",
    "        } for r in response\n",
    "    ]\n",
    "    \n",
    "    tweets = pd.DataFrame(tweets)\n",
    "    return tweets"
   ]
  },
  {
   "cell_type": "code",
   "execution_count": 128,
   "metadata": {},
   "outputs": [
    {
     "name": "stdout",
     "output_type": "stream",
     "text": [
      "(12953, 11)\n"
     ]
    }
   ],
   "source": [
    "#creates a dataframe with tweets from several users\n",
    "tweets = pd.DataFrame()\n",
    "\n",
    "for user in users.values():\n",
    "    tweets = tweets.append(get_user_tweets(user))\n",
    "\n",
    "print(tweets.shape)\n"
   ]
  },
  {
   "cell_type": "code",
   "execution_count": 129,
   "metadata": {},
   "outputs": [],
   "source": [
    "#save dataframe to csv\n",
    "date = datetime.datetime.now().strftime(\"%Y_%m_%d-%I:%M:%S_%p\")\n",
    "tweets.to_csv(\"tweets_by_accounts_{}.csv\".format(date), index=False, header=False, mode=\"a\")\n"
   ]
  },
  {
   "cell_type": "markdown",
   "metadata": {},
   "source": [
    "### 2.2 Tweets by Hashtags"
   ]
  },
  {
   "cell_type": "code",
   "execution_count": 200,
   "metadata": {},
   "outputs": [],
   "source": [
    "#specify queries\n",
    "\n",
    "query = 'from:FridayForFuture'\n",
    "expansions = [\"author_id\"]\n",
    "tweet_fields = [\"created_at\", \"geo\", \"public_metrics\", \"text\", \"context_annotations\", \"entities\"]\n",
    "max_results = 100\n",
    "media_fields = [\"duration_ms\", \"height\", \"media_key\", \"preview_image_url\", \"type\", \"url\", \"width\", \"public_metrics\", \"non_public_metrics\", \"organic_metrics\", \"promoted_metrics\", \"alt_text\"]\n",
    "start_time = '2020-01-01T00:00:00Z' "
   ]
  },
  {
   "cell_type": "code",
   "execution_count": null,
   "metadata": {},
   "outputs": [],
   "source": []
  },
  {
   "cell_type": "code",
   "execution_count": 201,
   "metadata": {},
   "outputs": [],
   "source": [
    "def search_all_tweets(query):\n",
    "    response = client.search_all_tweets(\n",
    "                               query=query\n",
    "                              ,expansions=expansions\n",
    "                              ,max_results=max_results\n",
    "                              ,media_fields=media_fields\n",
    "                              ,start_time=start_time\n",
    "                              #,end_time=end_time\n",
    "                              ,tweet_fields=tweet_fields\n",
    "                            )\n",
    "    return response"
   ]
  },
  {
   "cell_type": "code",
   "execution_count": 202,
   "metadata": {},
   "outputs": [],
   "source": [
    "def search_all_tweets_with_next_token(query, next_token):\n",
    "    response = client.search_all_tweets(\n",
    "                               query=query\n",
    "                              ,expansions=expansions\n",
    "                              ,max_results=max_results\n",
    "                              ,media_fields=media_fields\n",
    "                              ,start_time=start_time\n",
    "                              #,end_time=end_time\n",
    "                              ,tweet_fields=tweet_fields\n",
    "                              ,next_token=next_token\n",
    "                            )\n",
    "    return response"
   ]
  },
  {
   "cell_type": "code",
   "execution_count": 203,
   "metadata": {},
   "outputs": [],
   "source": [
    "def fetch_all_data(query, iteration_count, next_token):\n",
    "\n",
    "    \"\"\" Fetches iteration_count * 100 Tweets from Twitter API using the set query params, including the initial next_token\n",
    "    \n",
    "    Parameters:\n",
    "    ------------\n",
    "    * iteration_count     : Integer indicating the max number of requests \n",
    "    * next_token          : String containing the next token for pagination\n",
    "    \n",
    "    \"\"\"\n",
    "    \n",
    "    # Initializing the return parameters\n",
    "    tweets = []\n",
    "    media = []\n",
    "    \n",
    "    for i in range(0, iteration_count):\n",
    "\n",
    "        if(len(next_token) == 0):\n",
    "            response = search_all_tweets(query)\n",
    "        else:\n",
    "            response = search_all_tweets_with_next_token(query, next_token)\n",
    "\n",
    "        tweets.append(response.data)\n",
    "        if \"media\" in response.includes.keys():\n",
    "            media.append(response.includes['media'])\n",
    "        \n",
    "        try:\n",
    "            next_token = response.meta['next_token']\n",
    "        except:\n",
    "            print('No more Tweets to fetch')\n",
    "            break\n",
    "\n",
    "\n",
    "    # Logging the last next_token for pagination into console --> needed for later requesting of the next tweets\n",
    "    if('next_token' in response.meta):\n",
    "        print(response.meta['next_token'])\n",
    "        \n",
    "    return tweets, media"
   ]
  },
  {
   "cell_type": "code",
   "execution_count": 204,
   "metadata": {},
   "outputs": [],
   "source": [
    "def unpack_dict(unpack_dict):\n",
    "    unpacked = [v for k, v in unpack_dict.items()]\n",
    "    return unpacked\n",
    "def unpack_attachment(attachment_dict):\n",
    "    return \"|\".join(attachment_dict[\"media_keys\"]) if \"media_keys\" in attachment_dict.keys() else np.nan\n",
    "def unpack_geo(geo_dict):\n",
    "    return geo_dict[\"type\"], \"|\".join([str(x) for x in geo_dict[\"bbox\"]])\n",
    "def unpack_geo_2(geo_dict):\n",
    "    return geo_dict[\"place_id\"]"
   ]
  },
  {
   "cell_type": "code",
   "execution_count": 205,
   "metadata": {},
   "outputs": [],
   "source": [
    "def query_tweets(query):    \n",
    "    tweets, media= fetch_all_data(query, 30, '')\n",
    "\n",
    "    #tweet_df = pd.DataFrame(data=[tweet for sublist in tweets for tweet in sublist])\n",
    "    #media_df = pd.DataFrame(data=[item for sublist in media for item in sublist])\n",
    "    \n",
    "\n",
    "    #tweet_df[[\"retweet_count\", \"reply_count\", \"like_count\", \"quote_count\"]] = tweet_df.apply(lambda x: unpack_dict(x[\"public_metrics\"]), axis=1, result_type=\"expand\")\n",
    "    #tweet_df[\"media_keys\"] = tweet_df.loc[tweet_df[\"attachments\"].notna()].apply(lambda x: unpack_attachment(x[\"attachments\"]), axis=1, result_type=\"expand\")\n",
    "    #del tweet_df[\"public_metrics\"]\n",
    "    #del tweet_df[\"attachments\"]\n",
    "        \n",
    "    #tweet_df.text = tweet_df.text.apply(lambda x: re.sub(r\"[^A-Za-z0-9\\w\\s:@,]\", \"\", x))\n",
    "    return tweets, media"
   ]
  },
  {
   "cell_type": "code",
   "execution_count": 206,
   "metadata": {},
   "outputs": [
    {
     "name": "stderr",
     "output_type": "stream",
     "text": [
      "Rate limit exceeded. Sleeping for 877 seconds.\n"
     ]
    },
    {
     "ename": "KeyboardInterrupt",
     "evalue": "",
     "output_type": "error",
     "traceback": [
      "\u001b[0;31m---------------------------------------------------------------------------\u001b[0m",
      "\u001b[0;31mKeyboardInterrupt\u001b[0m                         Traceback (most recent call last)",
      "\u001b[0;32m<ipython-input-206-6cb552567af5>\u001b[0m in \u001b[0;36m<module>\u001b[0;34m\u001b[0m\n\u001b[1;32m      7\u001b[0m     'ClimateChange', 'Climate', 'GlobalWarming']:\n\u001b[1;32m      8\u001b[0m     print(i)'''\n\u001b[0;32m----> 9\u001b[0;31m \u001b[0mtweet_df\u001b[0m\u001b[0;34m,\u001b[0m \u001b[0mmedia_df\u001b[0m \u001b[0;34m=\u001b[0m \u001b[0mquery_tweets\u001b[0m\u001b[0;34m(\u001b[0m\u001b[0mi\u001b[0m\u001b[0;34m)\u001b[0m\u001b[0;34m\u001b[0m\u001b[0;34m\u001b[0m\u001b[0m\n\u001b[0m\u001b[1;32m     10\u001b[0m \u001b[0mall_tweets\u001b[0m \u001b[0;34m=\u001b[0m \u001b[0mpd\u001b[0m\u001b[0;34m.\u001b[0m\u001b[0mconcat\u001b[0m\u001b[0;34m(\u001b[0m\u001b[0;34m[\u001b[0m\u001b[0mall_user\u001b[0m\u001b[0;34m,\u001b[0m \u001b[0mtweet_df\u001b[0m\u001b[0;34m]\u001b[0m\u001b[0;34m)\u001b[0m\u001b[0;34m\u001b[0m\u001b[0;34m\u001b[0m\u001b[0m\n\u001b[1;32m     11\u001b[0m \u001b[0mall_media\u001b[0m \u001b[0;34m=\u001b[0m \u001b[0mpd\u001b[0m\u001b[0;34m.\u001b[0m\u001b[0mconcat\u001b[0m\u001b[0;34m(\u001b[0m\u001b[0;34m[\u001b[0m\u001b[0mall_user\u001b[0m\u001b[0;34m,\u001b[0m \u001b[0mmedia_df\u001b[0m\u001b[0;34m]\u001b[0m\u001b[0;34m)\u001b[0m\u001b[0;34m\u001b[0m\u001b[0;34m\u001b[0m\u001b[0m\n",
      "\u001b[0;32m<ipython-input-205-cfd772a41a3c>\u001b[0m in \u001b[0;36mquery_tweets\u001b[0;34m(query)\u001b[0m\n\u001b[1;32m      1\u001b[0m \u001b[0;32mdef\u001b[0m \u001b[0mquery_tweets\u001b[0m\u001b[0;34m(\u001b[0m\u001b[0mquery\u001b[0m\u001b[0;34m)\u001b[0m\u001b[0;34m:\u001b[0m\u001b[0;34m\u001b[0m\u001b[0;34m\u001b[0m\u001b[0m\n\u001b[0;32m----> 2\u001b[0;31m     \u001b[0mtweets\u001b[0m\u001b[0;34m,\u001b[0m \u001b[0mmedia\u001b[0m\u001b[0;34m=\u001b[0m \u001b[0mfetch_all_data\u001b[0m\u001b[0;34m(\u001b[0m\u001b[0mquery\u001b[0m\u001b[0;34m,\u001b[0m \u001b[0;36m30\u001b[0m\u001b[0;34m,\u001b[0m \u001b[0;34m''\u001b[0m\u001b[0;34m)\u001b[0m\u001b[0;34m\u001b[0m\u001b[0;34m\u001b[0m\u001b[0m\n\u001b[0m\u001b[1;32m      3\u001b[0m \u001b[0;34m\u001b[0m\u001b[0m\n\u001b[1;32m      4\u001b[0m     \u001b[0;31m#tweet_df = pd.DataFrame(data=[tweet for sublist in tweets for tweet in sublist])\u001b[0m\u001b[0;34m\u001b[0m\u001b[0;34m\u001b[0m\u001b[0;34m\u001b[0m\u001b[0m\n\u001b[1;32m      5\u001b[0m     \u001b[0;31m#media_df = pd.DataFrame(data=[item for sublist in media for item in sublist])\u001b[0m\u001b[0;34m\u001b[0m\u001b[0;34m\u001b[0m\u001b[0;34m\u001b[0m\u001b[0m\n",
      "\u001b[0;32m<ipython-input-203-94e1abb6a59a>\u001b[0m in \u001b[0;36mfetch_all_data\u001b[0;34m(query, iteration_count, next_token)\u001b[0m\n\u001b[1;32m     19\u001b[0m             \u001b[0mresponse\u001b[0m \u001b[0;34m=\u001b[0m \u001b[0msearch_all_tweets\u001b[0m\u001b[0;34m(\u001b[0m\u001b[0mquery\u001b[0m\u001b[0;34m)\u001b[0m\u001b[0;34m\u001b[0m\u001b[0;34m\u001b[0m\u001b[0m\n\u001b[1;32m     20\u001b[0m         \u001b[0;32melse\u001b[0m\u001b[0;34m:\u001b[0m\u001b[0;34m\u001b[0m\u001b[0;34m\u001b[0m\u001b[0m\n\u001b[0;32m---> 21\u001b[0;31m             \u001b[0mresponse\u001b[0m \u001b[0;34m=\u001b[0m \u001b[0msearch_all_tweets_with_next_token\u001b[0m\u001b[0;34m(\u001b[0m\u001b[0mquery\u001b[0m\u001b[0;34m,\u001b[0m \u001b[0mnext_token\u001b[0m\u001b[0;34m)\u001b[0m\u001b[0;34m\u001b[0m\u001b[0;34m\u001b[0m\u001b[0m\n\u001b[0m\u001b[1;32m     22\u001b[0m \u001b[0;34m\u001b[0m\u001b[0m\n\u001b[1;32m     23\u001b[0m         \u001b[0mtweets\u001b[0m\u001b[0;34m.\u001b[0m\u001b[0mappend\u001b[0m\u001b[0;34m(\u001b[0m\u001b[0mresponse\u001b[0m\u001b[0;34m.\u001b[0m\u001b[0mdata\u001b[0m\u001b[0;34m)\u001b[0m\u001b[0;34m\u001b[0m\u001b[0;34m\u001b[0m\u001b[0m\n",
      "\u001b[0;32m<ipython-input-202-87e70265a56f>\u001b[0m in \u001b[0;36msearch_all_tweets_with_next_token\u001b[0;34m(query, next_token)\u001b[0m\n\u001b[1;32m      8\u001b[0m                               \u001b[0;31m#,end_time=end_time\u001b[0m\u001b[0;34m\u001b[0m\u001b[0;34m\u001b[0m\u001b[0;34m\u001b[0m\u001b[0m\n\u001b[1;32m      9\u001b[0m                               \u001b[0;34m,\u001b[0m\u001b[0mtweet_fields\u001b[0m\u001b[0;34m=\u001b[0m\u001b[0mtweet_fields\u001b[0m\u001b[0;34m\u001b[0m\u001b[0;34m\u001b[0m\u001b[0m\n\u001b[0;32m---> 10\u001b[0;31m                               \u001b[0;34m,\u001b[0m\u001b[0mnext_token\u001b[0m\u001b[0;34m=\u001b[0m\u001b[0mnext_token\u001b[0m\u001b[0;34m\u001b[0m\u001b[0;34m\u001b[0m\u001b[0m\n\u001b[0m\u001b[1;32m     11\u001b[0m                             )\n\u001b[1;32m     12\u001b[0m     \u001b[0;32mreturn\u001b[0m \u001b[0mresponse\u001b[0m\u001b[0;34m\u001b[0m\u001b[0;34m\u001b[0m\u001b[0m\n",
      "\u001b[0;32m/Applications/anaconda3/lib/python3.7/site-packages/tweepy/client.py\u001b[0m in \u001b[0;36msearch_all_tweets\u001b[0;34m(self, query, **params)\u001b[0m\n\u001b[1;32m   1150\u001b[0m                 \u001b[0;34m\"since_id\"\u001b[0m\u001b[0;34m,\u001b[0m \u001b[0;34m\"sort_order\"\u001b[0m\u001b[0;34m,\u001b[0m \u001b[0;34m\"start_time\"\u001b[0m\u001b[0;34m,\u001b[0m \u001b[0;34m\"tweet.fields\"\u001b[0m\u001b[0;34m,\u001b[0m\u001b[0;34m\u001b[0m\u001b[0;34m\u001b[0m\u001b[0m\n\u001b[1;32m   1151\u001b[0m                 \u001b[0;34m\"until_id\"\u001b[0m\u001b[0;34m,\u001b[0m \u001b[0;34m\"user.fields\"\u001b[0m\u001b[0;34m\u001b[0m\u001b[0;34m\u001b[0m\u001b[0m\n\u001b[0;32m-> 1152\u001b[0;31m             ), data_type=Tweet\n\u001b[0m\u001b[1;32m   1153\u001b[0m         )\n\u001b[1;32m   1154\u001b[0m \u001b[0;34m\u001b[0m\u001b[0m\n",
      "\u001b[0;32m/Applications/anaconda3/lib/python3.7/site-packages/tweepy/client.py\u001b[0m in \u001b[0;36m_make_request\u001b[0;34m(self, method, route, params, endpoint_parameters, json, data_type, user_auth)\u001b[0m\n\u001b[1;32m    125\u001b[0m \u001b[0;34m\u001b[0m\u001b[0m\n\u001b[1;32m    126\u001b[0m         response = self.request(method, route, params=request_params,\n\u001b[0;32m--> 127\u001b[0;31m                                 json=json, user_auth=user_auth)\n\u001b[0m\u001b[1;32m    128\u001b[0m \u001b[0;34m\u001b[0m\u001b[0m\n\u001b[1;32m    129\u001b[0m         \u001b[0;32mif\u001b[0m \u001b[0mself\u001b[0m\u001b[0;34m.\u001b[0m\u001b[0mreturn_type\u001b[0m \u001b[0;32mis\u001b[0m \u001b[0mrequests\u001b[0m\u001b[0;34m.\u001b[0m\u001b[0mResponse\u001b[0m\u001b[0;34m:\u001b[0m\u001b[0;34m\u001b[0m\u001b[0;34m\u001b[0m\u001b[0m\n",
      "\u001b[0;32m/Applications/anaconda3/lib/python3.7/site-packages/tweepy/client.py\u001b[0m in \u001b[0;36mrequest\u001b[0;34m(self, method, route, params, json, user_auth)\u001b[0m\n\u001b[1;32m    109\u001b[0m                             \u001b[0;34mf\"Sleeping for {sleep_time} seconds.\"\u001b[0m\u001b[0;34m\u001b[0m\u001b[0;34m\u001b[0m\u001b[0m\n\u001b[1;32m    110\u001b[0m                         )\n\u001b[0;32m--> 111\u001b[0;31m                         \u001b[0mtime\u001b[0m\u001b[0;34m.\u001b[0m\u001b[0msleep\u001b[0m\u001b[0;34m(\u001b[0m\u001b[0msleep_time\u001b[0m\u001b[0;34m)\u001b[0m\u001b[0;34m\u001b[0m\u001b[0;34m\u001b[0m\u001b[0m\n\u001b[0m\u001b[1;32m    112\u001b[0m                     \u001b[0;32mreturn\u001b[0m \u001b[0mself\u001b[0m\u001b[0;34m.\u001b[0m\u001b[0mrequest\u001b[0m\u001b[0;34m(\u001b[0m\u001b[0mmethod\u001b[0m\u001b[0;34m,\u001b[0m \u001b[0mroute\u001b[0m\u001b[0;34m,\u001b[0m \u001b[0mparams\u001b[0m\u001b[0;34m,\u001b[0m \u001b[0mjson\u001b[0m\u001b[0;34m,\u001b[0m \u001b[0muser_auth\u001b[0m\u001b[0;34m)\u001b[0m\u001b[0;34m\u001b[0m\u001b[0;34m\u001b[0m\u001b[0m\n\u001b[1;32m    113\u001b[0m                 \u001b[0;32melse\u001b[0m\u001b[0;34m:\u001b[0m\u001b[0;34m\u001b[0m\u001b[0;34m\u001b[0m\u001b[0m\n",
      "\u001b[0;31mKeyboardInterrupt\u001b[0m: "
     ]
    }
   ],
   "source": [
    "all_tweets = all_media = pd.DataFrame()\n",
    "'''for i in ['from:Fridays4future', 'from:FridayForFuture', 'from:GretaThunberg', 'from:Luisamneubauer', 'EndCoal',\n",
    "    'EndFossilFuels', \n",
    "    'PeopleNotProfit', 'NoMoreEmptyPromises', 'UprootTheSystem', 'FridaysForFuture', \n",
    "    'ClimateAction', 'ClimateJustice', 'ClimateEmergency', 'ClimateStrike', 'SaveThePlanet', 'climatescam', \n",
    "    'climatechangehoax', 'fakeclimate', 'climatehoax', 'globalwarmingisahoax', 'ClimateCrisis', \n",
    "    'ClimateChange', 'Climate', 'GlobalWarming']:\n",
    "    print(i)'''\n",
    "tweet_df, media_df = query_tweets(i)\n",
    "all_tweets = pd.concat([all_user, tweet_df])\n",
    "all_media = pd.concat([all_user, media_df])\n",
    "    "
   ]
  },
  {
   "cell_type": "code",
   "execution_count": 208,
   "metadata": {},
   "outputs": [
    {
     "name": "stderr",
     "output_type": "stream",
     "text": [
      "Rate limit exceeded. Sleeping for 511 seconds.\n"
     ]
    },
    {
     "ename": "KeyboardInterrupt",
     "evalue": "",
     "output_type": "error",
     "traceback": [
      "\u001b[0;31m---------------------------------------------------------------------------\u001b[0m",
      "\u001b[0;31mKeyboardInterrupt\u001b[0m                         Traceback (most recent call last)",
      "\u001b[0;32m<ipython-input-208-a7cb8d1972f6>\u001b[0m in \u001b[0;36m<module>\u001b[0;34m\u001b[0m\n\u001b[0;32m----> 1\u001b[0;31m \u001b[0mtweet_df\u001b[0m\u001b[0;34m,\u001b[0m \u001b[0mmedia_df\u001b[0m \u001b[0;34m=\u001b[0m \u001b[0mquery_tweets\u001b[0m\u001b[0;34m(\u001b[0m\u001b[0;34m'from:Fridays4future'\u001b[0m\u001b[0;34m)\u001b[0m\u001b[0;34m\u001b[0m\u001b[0;34m\u001b[0m\u001b[0m\n\u001b[0m",
      "\u001b[0;32m<ipython-input-205-cfd772a41a3c>\u001b[0m in \u001b[0;36mquery_tweets\u001b[0;34m(query)\u001b[0m\n\u001b[1;32m      1\u001b[0m \u001b[0;32mdef\u001b[0m \u001b[0mquery_tweets\u001b[0m\u001b[0;34m(\u001b[0m\u001b[0mquery\u001b[0m\u001b[0;34m)\u001b[0m\u001b[0;34m:\u001b[0m\u001b[0;34m\u001b[0m\u001b[0;34m\u001b[0m\u001b[0m\n\u001b[0;32m----> 2\u001b[0;31m     \u001b[0mtweets\u001b[0m\u001b[0;34m,\u001b[0m \u001b[0mmedia\u001b[0m\u001b[0;34m=\u001b[0m \u001b[0mfetch_all_data\u001b[0m\u001b[0;34m(\u001b[0m\u001b[0mquery\u001b[0m\u001b[0;34m,\u001b[0m \u001b[0;36m30\u001b[0m\u001b[0;34m,\u001b[0m \u001b[0;34m''\u001b[0m\u001b[0;34m)\u001b[0m\u001b[0;34m\u001b[0m\u001b[0;34m\u001b[0m\u001b[0m\n\u001b[0m\u001b[1;32m      3\u001b[0m \u001b[0;34m\u001b[0m\u001b[0m\n\u001b[1;32m      4\u001b[0m     \u001b[0;31m#tweet_df = pd.DataFrame(data=[tweet for sublist in tweets for tweet in sublist])\u001b[0m\u001b[0;34m\u001b[0m\u001b[0;34m\u001b[0m\u001b[0;34m\u001b[0m\u001b[0m\n\u001b[1;32m      5\u001b[0m     \u001b[0;31m#media_df = pd.DataFrame(data=[item for sublist in media for item in sublist])\u001b[0m\u001b[0;34m\u001b[0m\u001b[0;34m\u001b[0m\u001b[0;34m\u001b[0m\u001b[0m\n",
      "\u001b[0;32m<ipython-input-203-94e1abb6a59a>\u001b[0m in \u001b[0;36mfetch_all_data\u001b[0;34m(query, iteration_count, next_token)\u001b[0m\n\u001b[1;32m     19\u001b[0m             \u001b[0mresponse\u001b[0m \u001b[0;34m=\u001b[0m \u001b[0msearch_all_tweets\u001b[0m\u001b[0;34m(\u001b[0m\u001b[0mquery\u001b[0m\u001b[0;34m)\u001b[0m\u001b[0;34m\u001b[0m\u001b[0;34m\u001b[0m\u001b[0m\n\u001b[1;32m     20\u001b[0m         \u001b[0;32melse\u001b[0m\u001b[0;34m:\u001b[0m\u001b[0;34m\u001b[0m\u001b[0;34m\u001b[0m\u001b[0m\n\u001b[0;32m---> 21\u001b[0;31m             \u001b[0mresponse\u001b[0m \u001b[0;34m=\u001b[0m \u001b[0msearch_all_tweets_with_next_token\u001b[0m\u001b[0;34m(\u001b[0m\u001b[0mquery\u001b[0m\u001b[0;34m,\u001b[0m \u001b[0mnext_token\u001b[0m\u001b[0;34m)\u001b[0m\u001b[0;34m\u001b[0m\u001b[0;34m\u001b[0m\u001b[0m\n\u001b[0m\u001b[1;32m     22\u001b[0m \u001b[0;34m\u001b[0m\u001b[0m\n\u001b[1;32m     23\u001b[0m         \u001b[0mtweets\u001b[0m\u001b[0;34m.\u001b[0m\u001b[0mappend\u001b[0m\u001b[0;34m(\u001b[0m\u001b[0mresponse\u001b[0m\u001b[0;34m.\u001b[0m\u001b[0mdata\u001b[0m\u001b[0;34m)\u001b[0m\u001b[0;34m\u001b[0m\u001b[0;34m\u001b[0m\u001b[0m\n",
      "\u001b[0;32m<ipython-input-202-87e70265a56f>\u001b[0m in \u001b[0;36msearch_all_tweets_with_next_token\u001b[0;34m(query, next_token)\u001b[0m\n\u001b[1;32m      8\u001b[0m                               \u001b[0;31m#,end_time=end_time\u001b[0m\u001b[0;34m\u001b[0m\u001b[0;34m\u001b[0m\u001b[0;34m\u001b[0m\u001b[0m\n\u001b[1;32m      9\u001b[0m                               \u001b[0;34m,\u001b[0m\u001b[0mtweet_fields\u001b[0m\u001b[0;34m=\u001b[0m\u001b[0mtweet_fields\u001b[0m\u001b[0;34m\u001b[0m\u001b[0;34m\u001b[0m\u001b[0m\n\u001b[0;32m---> 10\u001b[0;31m                               \u001b[0;34m,\u001b[0m\u001b[0mnext_token\u001b[0m\u001b[0;34m=\u001b[0m\u001b[0mnext_token\u001b[0m\u001b[0;34m\u001b[0m\u001b[0;34m\u001b[0m\u001b[0m\n\u001b[0m\u001b[1;32m     11\u001b[0m                             )\n\u001b[1;32m     12\u001b[0m     \u001b[0;32mreturn\u001b[0m \u001b[0mresponse\u001b[0m\u001b[0;34m\u001b[0m\u001b[0;34m\u001b[0m\u001b[0m\n",
      "\u001b[0;32m/Applications/anaconda3/lib/python3.7/site-packages/tweepy/client.py\u001b[0m in \u001b[0;36msearch_all_tweets\u001b[0;34m(self, query, **params)\u001b[0m\n\u001b[1;32m   1150\u001b[0m                 \u001b[0;34m\"since_id\"\u001b[0m\u001b[0;34m,\u001b[0m \u001b[0;34m\"sort_order\"\u001b[0m\u001b[0;34m,\u001b[0m \u001b[0;34m\"start_time\"\u001b[0m\u001b[0;34m,\u001b[0m \u001b[0;34m\"tweet.fields\"\u001b[0m\u001b[0;34m,\u001b[0m\u001b[0;34m\u001b[0m\u001b[0;34m\u001b[0m\u001b[0m\n\u001b[1;32m   1151\u001b[0m                 \u001b[0;34m\"until_id\"\u001b[0m\u001b[0;34m,\u001b[0m \u001b[0;34m\"user.fields\"\u001b[0m\u001b[0;34m\u001b[0m\u001b[0;34m\u001b[0m\u001b[0m\n\u001b[0;32m-> 1152\u001b[0;31m             ), data_type=Tweet\n\u001b[0m\u001b[1;32m   1153\u001b[0m         )\n\u001b[1;32m   1154\u001b[0m \u001b[0;34m\u001b[0m\u001b[0m\n",
      "\u001b[0;32m/Applications/anaconda3/lib/python3.7/site-packages/tweepy/client.py\u001b[0m in \u001b[0;36m_make_request\u001b[0;34m(self, method, route, params, endpoint_parameters, json, data_type, user_auth)\u001b[0m\n\u001b[1;32m    125\u001b[0m \u001b[0;34m\u001b[0m\u001b[0m\n\u001b[1;32m    126\u001b[0m         response = self.request(method, route, params=request_params,\n\u001b[0;32m--> 127\u001b[0;31m                                 json=json, user_auth=user_auth)\n\u001b[0m\u001b[1;32m    128\u001b[0m \u001b[0;34m\u001b[0m\u001b[0m\n\u001b[1;32m    129\u001b[0m         \u001b[0;32mif\u001b[0m \u001b[0mself\u001b[0m\u001b[0;34m.\u001b[0m\u001b[0mreturn_type\u001b[0m \u001b[0;32mis\u001b[0m \u001b[0mrequests\u001b[0m\u001b[0;34m.\u001b[0m\u001b[0mResponse\u001b[0m\u001b[0;34m:\u001b[0m\u001b[0;34m\u001b[0m\u001b[0;34m\u001b[0m\u001b[0m\n",
      "\u001b[0;32m/Applications/anaconda3/lib/python3.7/site-packages/tweepy/client.py\u001b[0m in \u001b[0;36mrequest\u001b[0;34m(self, method, route, params, json, user_auth)\u001b[0m\n\u001b[1;32m    109\u001b[0m                             \u001b[0;34mf\"Sleeping for {sleep_time} seconds.\"\u001b[0m\u001b[0;34m\u001b[0m\u001b[0;34m\u001b[0m\u001b[0m\n\u001b[1;32m    110\u001b[0m                         )\n\u001b[0;32m--> 111\u001b[0;31m                         \u001b[0mtime\u001b[0m\u001b[0;34m.\u001b[0m\u001b[0msleep\u001b[0m\u001b[0;34m(\u001b[0m\u001b[0msleep_time\u001b[0m\u001b[0;34m)\u001b[0m\u001b[0;34m\u001b[0m\u001b[0;34m\u001b[0m\u001b[0m\n\u001b[0m\u001b[1;32m    112\u001b[0m                     \u001b[0;32mreturn\u001b[0m \u001b[0mself\u001b[0m\u001b[0;34m.\u001b[0m\u001b[0mrequest\u001b[0m\u001b[0;34m(\u001b[0m\u001b[0mmethod\u001b[0m\u001b[0;34m,\u001b[0m \u001b[0mroute\u001b[0m\u001b[0;34m,\u001b[0m \u001b[0mparams\u001b[0m\u001b[0;34m,\u001b[0m \u001b[0mjson\u001b[0m\u001b[0;34m,\u001b[0m \u001b[0muser_auth\u001b[0m\u001b[0;34m)\u001b[0m\u001b[0;34m\u001b[0m\u001b[0;34m\u001b[0m\u001b[0m\n\u001b[1;32m    113\u001b[0m                 \u001b[0;32melse\u001b[0m\u001b[0;34m:\u001b[0m\u001b[0;34m\u001b[0m\u001b[0;34m\u001b[0m\u001b[0m\n",
      "\u001b[0;31mKeyboardInterrupt\u001b[0m: "
     ]
    }
   ],
   "source": [
    "tweet_df, media_df = query_tweets('from:Fridays4future')"
   ]
  },
  {
   "cell_type": "code",
   "execution_count": null,
   "metadata": {},
   "outputs": [],
   "source": []
  },
  {
   "cell_type": "code",
   "execution_count": null,
   "metadata": {},
   "outputs": [],
   "source": []
  },
  {
   "cell_type": "code",
   "execution_count": null,
   "metadata": {},
   "outputs": [],
   "source": []
  },
  {
   "cell_type": "code",
   "execution_count": null,
   "metadata": {},
   "outputs": [],
   "source": []
  },
  {
   "cell_type": "code",
   "execution_count": null,
   "metadata": {},
   "outputs": [],
   "source": []
  },
  {
   "cell_type": "code",
   "execution_count": null,
   "metadata": {},
   "outputs": [],
   "source": []
  },
  {
   "cell_type": "code",
   "execution_count": null,
   "metadata": {},
   "outputs": [],
   "source": []
  },
  {
   "cell_type": "code",
   "execution_count": null,
   "metadata": {},
   "outputs": [],
   "source": []
  },
  {
   "cell_type": "code",
   "execution_count": 146,
   "metadata": {},
   "outputs": [],
   "source": [
    "responses = tweepy.Paginator(\n",
    "        client.search_all_tweets,\n",
    "        query=query,\n",
    "        max_results=100\n",
    "    ).flatten()"
   ]
  },
  {
   "cell_type": "code",
   "execution_count": 184,
   "metadata": {},
   "outputs": [
    {
     "name": "stdout",
     "output_type": "stream",
     "text": [
      "1531627125048066049\n"
     ]
    },
    {
     "ename": "AttributeError",
     "evalue": "'NoneType' object has no attribute 'append'",
     "output_type": "error",
     "traceback": [
      "\u001b[0;31m---------------------------------------------------------------------------\u001b[0m",
      "\u001b[0;31mAttributeError\u001b[0m                            Traceback (most recent call last)",
      "\u001b[0;32m<ipython-input-184-3b5e152b18e9>\u001b[0m in \u001b[0;36m<module>\u001b[0;34m\u001b[0m\n\u001b[1;32m      4\u001b[0m                                      max_results=100).flatten(limit=2000):\n\u001b[1;32m      5\u001b[0m \u001b[0;34m\u001b[0m\u001b[0m\n\u001b[0;32m----> 6\u001b[0;31m     \u001b[0mdata\u001b[0m \u001b[0;34m=\u001b[0m \u001b[0mdata\u001b[0m\u001b[0;34m.\u001b[0m\u001b[0mappend\u001b[0m\u001b[0;34m(\u001b[0m\u001b[0mtweet\u001b[0m\u001b[0;34m.\u001b[0m\u001b[0mid\u001b[0m\u001b[0;34m)\u001b[0m\u001b[0;34m\u001b[0m\u001b[0;34m\u001b[0m\u001b[0m\n\u001b[0m\u001b[1;32m      7\u001b[0m     \u001b[0mprint\u001b[0m\u001b[0;34m(\u001b[0m\u001b[0mtweet\u001b[0m\u001b[0;34m.\u001b[0m\u001b[0mid\u001b[0m\u001b[0;34m)\u001b[0m\u001b[0;34m\u001b[0m\u001b[0;34m\u001b[0m\u001b[0m\n",
      "\u001b[0;31mAttributeError\u001b[0m: 'NoneType' object has no attribute 'append'"
     ]
    }
   ],
   "source": [
    "data = []\n",
    "\n",
    "for tweet in tweepy.Paginator(client.search_all_tweets, query=query, tweet_fields=['context_annotations', 'created_at'],\n",
    "                                     max_results=100).flatten(limit=2000):\n",
    "    \n"
   ]
  },
  {
   "cell_type": "code",
   "execution_count": null,
   "metadata": {},
   "outputs": [],
   "source": [
    "response = tweepy.Paginator(\n",
    "        client.search_all_tweets,\n",
    "        query=hashtag,\n",
    "        start_time=start_time,\n",
    "        end_time=end_time,\n",
    "        expansions=expansions,\n",
    "        tweet_fields=tweet_fields,\n",
    "        max_results=100\n",
    "    ).flatten()"
   ]
  },
  {
   "cell_type": "code",
   "execution_count": 169,
   "metadata": {},
   "outputs": [
    {
     "data": {
      "text/plain": [
       "100"
      ]
     },
     "execution_count": 169,
     "metadata": {},
     "output_type": "execute_result"
    }
   ],
   "source": [
    "len(data)"
   ]
  },
  {
   "cell_type": "code",
   "execution_count": 148,
   "metadata": {},
   "outputs": [
    {
     "name": "stderr",
     "output_type": "stream",
     "text": [
      "Rate limit exceeded. Sleeping for 748 seconds.\n"
     ]
    },
    {
     "ename": "KeyboardInterrupt",
     "evalue": "",
     "output_type": "error",
     "traceback": [
      "\u001b[0;31m---------------------------------------------------------------------------\u001b[0m",
      "\u001b[0;31mKeyboardInterrupt\u001b[0m                         Traceback (most recent call last)",
      "\u001b[0;32m<ipython-input-148-24ddf9284f2f>\u001b[0m in \u001b[0;36m<module>\u001b[0;34m\u001b[0m\n\u001b[0;32m----> 1\u001b[0;31m \u001b[0masd\u001b[0m \u001b[0;34m=\u001b[0m \u001b[0mlist\u001b[0m\u001b[0;34m(\u001b[0m\u001b[0mresponses\u001b[0m\u001b[0;34m)\u001b[0m\u001b[0;34m\u001b[0m\u001b[0;34m\u001b[0m\u001b[0m\n\u001b[0m",
      "\u001b[0;32m/Applications/anaconda3/lib/python3.7/site-packages/tweepy/pagination.py\u001b[0m in \u001b[0;36mflatten\u001b[0;34m(self, limit)\u001b[0m\n\u001b[1;32m     47\u001b[0m         \u001b[0mcount\u001b[0m \u001b[0;34m=\u001b[0m \u001b[0;36m0\u001b[0m\u001b[0;34m\u001b[0m\u001b[0;34m\u001b[0m\u001b[0m\n\u001b[1;32m     48\u001b[0m         for response in PaginationIterator(self.method, *self.args,\n\u001b[0;32m---> 49\u001b[0;31m                                            **self.kwargs):\n\u001b[0m\u001b[1;32m     50\u001b[0m             \u001b[0;32mif\u001b[0m \u001b[0mresponse\u001b[0m\u001b[0;34m.\u001b[0m\u001b[0mdata\u001b[0m \u001b[0;32mis\u001b[0m \u001b[0;32mnot\u001b[0m \u001b[0;32mNone\u001b[0m\u001b[0;34m:\u001b[0m\u001b[0;34m\u001b[0m\u001b[0;34m\u001b[0m\u001b[0m\n\u001b[1;32m     51\u001b[0m                 \u001b[0;32mfor\u001b[0m \u001b[0mdata\u001b[0m \u001b[0;32min\u001b[0m \u001b[0mresponse\u001b[0m\u001b[0;34m.\u001b[0m\u001b[0mdata\u001b[0m\u001b[0;34m:\u001b[0m\u001b[0;34m\u001b[0m\u001b[0;34m\u001b[0m\u001b[0m\n",
      "\u001b[0;32m/Applications/anaconda3/lib/python3.7/site-packages/tweepy/pagination.py\u001b[0m in \u001b[0;36m__next__\u001b[0;34m(self)\u001b[0m\n\u001b[1;32m     96\u001b[0m             \u001b[0mself\u001b[0m\u001b[0;34m.\u001b[0m\u001b[0mkwargs\u001b[0m\u001b[0;34m[\u001b[0m\u001b[0;34m\"pagination_token\"\u001b[0m\u001b[0;34m]\u001b[0m \u001b[0;34m=\u001b[0m \u001b[0mpagination_token\u001b[0m\u001b[0;34m\u001b[0m\u001b[0;34m\u001b[0m\u001b[0m\n\u001b[1;32m     97\u001b[0m \u001b[0;34m\u001b[0m\u001b[0m\n\u001b[0;32m---> 98\u001b[0;31m         \u001b[0mresponse\u001b[0m \u001b[0;34m=\u001b[0m \u001b[0mself\u001b[0m\u001b[0;34m.\u001b[0m\u001b[0mmethod\u001b[0m\u001b[0;34m(\u001b[0m\u001b[0;34m*\u001b[0m\u001b[0mself\u001b[0m\u001b[0;34m.\u001b[0m\u001b[0margs\u001b[0m\u001b[0;34m,\u001b[0m \u001b[0;34m**\u001b[0m\u001b[0mself\u001b[0m\u001b[0;34m.\u001b[0m\u001b[0mkwargs\u001b[0m\u001b[0;34m)\u001b[0m\u001b[0;34m\u001b[0m\u001b[0;34m\u001b[0m\u001b[0m\n\u001b[0m\u001b[1;32m     99\u001b[0m \u001b[0;34m\u001b[0m\u001b[0m\n\u001b[1;32m    100\u001b[0m         \u001b[0mself\u001b[0m\u001b[0;34m.\u001b[0m\u001b[0mprevious_token\u001b[0m \u001b[0;34m=\u001b[0m \u001b[0mresponse\u001b[0m\u001b[0;34m.\u001b[0m\u001b[0mmeta\u001b[0m\u001b[0;34m.\u001b[0m\u001b[0mget\u001b[0m\u001b[0;34m(\u001b[0m\u001b[0;34m\"previous_token\"\u001b[0m\u001b[0;34m)\u001b[0m\u001b[0;34m\u001b[0m\u001b[0;34m\u001b[0m\u001b[0m\n",
      "\u001b[0;32m/Applications/anaconda3/lib/python3.7/site-packages/tweepy/client.py\u001b[0m in \u001b[0;36msearch_all_tweets\u001b[0;34m(self, query, **params)\u001b[0m\n\u001b[1;32m   1150\u001b[0m                 \u001b[0;34m\"since_id\"\u001b[0m\u001b[0;34m,\u001b[0m \u001b[0;34m\"sort_order\"\u001b[0m\u001b[0;34m,\u001b[0m \u001b[0;34m\"start_time\"\u001b[0m\u001b[0;34m,\u001b[0m \u001b[0;34m\"tweet.fields\"\u001b[0m\u001b[0;34m,\u001b[0m\u001b[0;34m\u001b[0m\u001b[0;34m\u001b[0m\u001b[0m\n\u001b[1;32m   1151\u001b[0m                 \u001b[0;34m\"until_id\"\u001b[0m\u001b[0;34m,\u001b[0m \u001b[0;34m\"user.fields\"\u001b[0m\u001b[0;34m\u001b[0m\u001b[0;34m\u001b[0m\u001b[0m\n\u001b[0;32m-> 1152\u001b[0;31m             ), data_type=Tweet\n\u001b[0m\u001b[1;32m   1153\u001b[0m         )\n\u001b[1;32m   1154\u001b[0m \u001b[0;34m\u001b[0m\u001b[0m\n",
      "\u001b[0;32m/Applications/anaconda3/lib/python3.7/site-packages/tweepy/client.py\u001b[0m in \u001b[0;36m_make_request\u001b[0;34m(self, method, route, params, endpoint_parameters, json, data_type, user_auth)\u001b[0m\n\u001b[1;32m    125\u001b[0m \u001b[0;34m\u001b[0m\u001b[0m\n\u001b[1;32m    126\u001b[0m         response = self.request(method, route, params=request_params,\n\u001b[0;32m--> 127\u001b[0;31m                                 json=json, user_auth=user_auth)\n\u001b[0m\u001b[1;32m    128\u001b[0m \u001b[0;34m\u001b[0m\u001b[0m\n\u001b[1;32m    129\u001b[0m         \u001b[0;32mif\u001b[0m \u001b[0mself\u001b[0m\u001b[0;34m.\u001b[0m\u001b[0mreturn_type\u001b[0m \u001b[0;32mis\u001b[0m \u001b[0mrequests\u001b[0m\u001b[0;34m.\u001b[0m\u001b[0mResponse\u001b[0m\u001b[0;34m:\u001b[0m\u001b[0;34m\u001b[0m\u001b[0;34m\u001b[0m\u001b[0m\n",
      "\u001b[0;32m/Applications/anaconda3/lib/python3.7/site-packages/tweepy/client.py\u001b[0m in \u001b[0;36mrequest\u001b[0;34m(self, method, route, params, json, user_auth)\u001b[0m\n\u001b[1;32m    109\u001b[0m                             \u001b[0;34mf\"Sleeping for {sleep_time} seconds.\"\u001b[0m\u001b[0;34m\u001b[0m\u001b[0;34m\u001b[0m\u001b[0m\n\u001b[1;32m    110\u001b[0m                         )\n\u001b[0;32m--> 111\u001b[0;31m                         \u001b[0mtime\u001b[0m\u001b[0;34m.\u001b[0m\u001b[0msleep\u001b[0m\u001b[0;34m(\u001b[0m\u001b[0msleep_time\u001b[0m\u001b[0;34m)\u001b[0m\u001b[0;34m\u001b[0m\u001b[0;34m\u001b[0m\u001b[0m\n\u001b[0m\u001b[1;32m    112\u001b[0m                     \u001b[0;32mreturn\u001b[0m \u001b[0mself\u001b[0m\u001b[0;34m.\u001b[0m\u001b[0mrequest\u001b[0m\u001b[0;34m(\u001b[0m\u001b[0mmethod\u001b[0m\u001b[0;34m,\u001b[0m \u001b[0mroute\u001b[0m\u001b[0;34m,\u001b[0m \u001b[0mparams\u001b[0m\u001b[0;34m,\u001b[0m \u001b[0mjson\u001b[0m\u001b[0;34m,\u001b[0m \u001b[0muser_auth\u001b[0m\u001b[0;34m)\u001b[0m\u001b[0;34m\u001b[0m\u001b[0;34m\u001b[0m\u001b[0m\n\u001b[1;32m    113\u001b[0m                 \u001b[0;32melse\u001b[0m\u001b[0;34m:\u001b[0m\u001b[0;34m\u001b[0m\u001b[0;34m\u001b[0m\u001b[0m\n",
      "\u001b[0;31mKeyboardInterrupt\u001b[0m: "
     ]
    }
   ],
   "source": [
    "asd = list(responses)"
   ]
  },
  {
   "cell_type": "code",
   "execution_count": 110,
   "metadata": {},
   "outputs": [],
   "source": [
    "#specify hashtags to look up\n",
    "query = 'Fridays4future -is:retweet'"
   ]
  },
  {
   "cell_type": "code",
   "execution_count": 185,
   "metadata": {},
   "outputs": [],
   "source": [
    "#returns tweets plus metadata for specific tweets, specified as query\n",
    "def get_tweets_by_hashtag(hashtag, start_time='2022-05-15', end_time: str = None, fmt=\"%Y-%m-%d\"):\n",
    "    expansions = [\"author_id\"]\n",
    "    tweet_fields = [\"created_at\", \"geo\", \"public_metrics\", \"text\", \"context_annotations\", \"entities\"]\n",
    "    start_time = datetime.datetime.strptime(start_time, fmt)\n",
    "    if end_time:\n",
    "        end_time = datetime.datetime.strptime(end_time, fmt)\n",
    "    else: \n",
    "        datetime.datetime.now()\n",
    "    response = tweepy.Paginator(\n",
    "        client.search_all_tweets,\n",
    "        query=hashtag,\n",
    "        start_time=start_time,\n",
    "        end_time=end_time,\n",
    "        expansions=expansions,\n",
    "        tweet_fields=tweet_fields,\n",
    "        max_results=100\n",
    "    ).flatten(limit=10000)\n",
    "    response = list(response)\n",
    "    tweets = [\n",
    "        {\n",
    "            \"id\": r.id,\n",
    "            \"author_id\": r.author_id,\n",
    "            \"created_at\": r.created_at,\n",
    "            \"geo\": r.geo,\n",
    "            \"retweet_count\": r.public_metrics[\"retweet_count\"],\n",
    "            \"reply_count\": r.public_metrics[\"reply_count\"],\n",
    "            \"like_count\": r.public_metrics[\"like_count\"],\n",
    "            \"qoute_count\": r.public_metrics[\"quote_count\"],\n",
    "            \"text\": r.text,\n",
    "            \"entities\": str(r.entities),\n",
    "            \"context_annotations\": str(r.context_annotations)\n",
    "        } for r in response\n",
    "    ]\n",
    "    tweets = pd.DataFrame(tweets)\n",
    "    tweets.to_csv(\"tweets_from_hashtags.csv\", index=False, header=False, mode=\"a\")\n",
    "    return tweets"
   ]
  },
  {
   "cell_type": "code",
   "execution_count": 186,
   "metadata": {},
   "outputs": [
    {
     "name": "stderr",
     "output_type": "stream",
     "text": [
      "Rate limit exceeded. Sleeping for 8 seconds.\n",
      "Rate limit exceeded. Sleeping for 897 seconds.\n"
     ]
    },
    {
     "ename": "KeyboardInterrupt",
     "evalue": "",
     "output_type": "error",
     "traceback": [
      "\u001b[0;31m---------------------------------------------------------------------------\u001b[0m",
      "\u001b[0;31mKeyboardInterrupt\u001b[0m                         Traceback (most recent call last)",
      "\u001b[0;32m<ipython-input-186-21533e23b606>\u001b[0m in \u001b[0;36m<module>\u001b[0;34m\u001b[0m\n\u001b[0;32m----> 1\u001b[0;31m \u001b[0mdf_hashtags\u001b[0m \u001b[0;34m=\u001b[0m \u001b[0mget_tweets_by_hashtag\u001b[0m\u001b[0;34m(\u001b[0m\u001b[0mquery\u001b[0m\u001b[0;34m)\u001b[0m\u001b[0;34m\u001b[0m\u001b[0;34m\u001b[0m\u001b[0m\n\u001b[0m\u001b[1;32m      2\u001b[0m \u001b[0mdf_hashtags\u001b[0m\u001b[0;34m.\u001b[0m\u001b[0mshape\u001b[0m\u001b[0;34m\u001b[0m\u001b[0;34m\u001b[0m\u001b[0m\n",
      "\u001b[0;32m<ipython-input-185-8574ca1b20fd>\u001b[0m in \u001b[0;36mget_tweets_by_hashtag\u001b[0;34m(hashtag, start_time, end_time, fmt)\u001b[0m\n\u001b[1;32m     17\u001b[0m         \u001b[0mmax_results\u001b[0m\u001b[0;34m=\u001b[0m\u001b[0;36m100\u001b[0m\u001b[0;34m\u001b[0m\u001b[0;34m\u001b[0m\u001b[0m\n\u001b[1;32m     18\u001b[0m     ).flatten(limit=10000)\n\u001b[0;32m---> 19\u001b[0;31m     \u001b[0mresponse\u001b[0m \u001b[0;34m=\u001b[0m \u001b[0mlist\u001b[0m\u001b[0;34m(\u001b[0m\u001b[0mresponse\u001b[0m\u001b[0;34m)\u001b[0m\u001b[0;34m\u001b[0m\u001b[0;34m\u001b[0m\u001b[0m\n\u001b[0m\u001b[1;32m     20\u001b[0m     tweets = [\n\u001b[1;32m     21\u001b[0m         {\n",
      "\u001b[0;32m/Applications/anaconda3/lib/python3.7/site-packages/tweepy/pagination.py\u001b[0m in \u001b[0;36mflatten\u001b[0;34m(self, limit)\u001b[0m\n\u001b[1;32m     47\u001b[0m         \u001b[0mcount\u001b[0m \u001b[0;34m=\u001b[0m \u001b[0;36m0\u001b[0m\u001b[0;34m\u001b[0m\u001b[0;34m\u001b[0m\u001b[0m\n\u001b[1;32m     48\u001b[0m         for response in PaginationIterator(self.method, *self.args,\n\u001b[0;32m---> 49\u001b[0;31m                                            **self.kwargs):\n\u001b[0m\u001b[1;32m     50\u001b[0m             \u001b[0;32mif\u001b[0m \u001b[0mresponse\u001b[0m\u001b[0;34m.\u001b[0m\u001b[0mdata\u001b[0m \u001b[0;32mis\u001b[0m \u001b[0;32mnot\u001b[0m \u001b[0;32mNone\u001b[0m\u001b[0;34m:\u001b[0m\u001b[0;34m\u001b[0m\u001b[0;34m\u001b[0m\u001b[0m\n\u001b[1;32m     51\u001b[0m                 \u001b[0;32mfor\u001b[0m \u001b[0mdata\u001b[0m \u001b[0;32min\u001b[0m \u001b[0mresponse\u001b[0m\u001b[0;34m.\u001b[0m\u001b[0mdata\u001b[0m\u001b[0;34m:\u001b[0m\u001b[0;34m\u001b[0m\u001b[0;34m\u001b[0m\u001b[0m\n",
      "\u001b[0;32m/Applications/anaconda3/lib/python3.7/site-packages/tweepy/pagination.py\u001b[0m in \u001b[0;36m__next__\u001b[0;34m(self)\u001b[0m\n\u001b[1;32m     96\u001b[0m             \u001b[0mself\u001b[0m\u001b[0;34m.\u001b[0m\u001b[0mkwargs\u001b[0m\u001b[0;34m[\u001b[0m\u001b[0;34m\"pagination_token\"\u001b[0m\u001b[0;34m]\u001b[0m \u001b[0;34m=\u001b[0m \u001b[0mpagination_token\u001b[0m\u001b[0;34m\u001b[0m\u001b[0;34m\u001b[0m\u001b[0m\n\u001b[1;32m     97\u001b[0m \u001b[0;34m\u001b[0m\u001b[0m\n\u001b[0;32m---> 98\u001b[0;31m         \u001b[0mresponse\u001b[0m \u001b[0;34m=\u001b[0m \u001b[0mself\u001b[0m\u001b[0;34m.\u001b[0m\u001b[0mmethod\u001b[0m\u001b[0;34m(\u001b[0m\u001b[0;34m*\u001b[0m\u001b[0mself\u001b[0m\u001b[0;34m.\u001b[0m\u001b[0margs\u001b[0m\u001b[0;34m,\u001b[0m \u001b[0;34m**\u001b[0m\u001b[0mself\u001b[0m\u001b[0;34m.\u001b[0m\u001b[0mkwargs\u001b[0m\u001b[0;34m)\u001b[0m\u001b[0;34m\u001b[0m\u001b[0;34m\u001b[0m\u001b[0m\n\u001b[0m\u001b[1;32m     99\u001b[0m \u001b[0;34m\u001b[0m\u001b[0m\n\u001b[1;32m    100\u001b[0m         \u001b[0mself\u001b[0m\u001b[0;34m.\u001b[0m\u001b[0mprevious_token\u001b[0m \u001b[0;34m=\u001b[0m \u001b[0mresponse\u001b[0m\u001b[0;34m.\u001b[0m\u001b[0mmeta\u001b[0m\u001b[0;34m.\u001b[0m\u001b[0mget\u001b[0m\u001b[0;34m(\u001b[0m\u001b[0;34m\"previous_token\"\u001b[0m\u001b[0;34m)\u001b[0m\u001b[0;34m\u001b[0m\u001b[0;34m\u001b[0m\u001b[0m\n",
      "\u001b[0;32m/Applications/anaconda3/lib/python3.7/site-packages/tweepy/client.py\u001b[0m in \u001b[0;36msearch_all_tweets\u001b[0;34m(self, query, **params)\u001b[0m\n\u001b[1;32m   1150\u001b[0m                 \u001b[0;34m\"since_id\"\u001b[0m\u001b[0;34m,\u001b[0m \u001b[0;34m\"sort_order\"\u001b[0m\u001b[0;34m,\u001b[0m \u001b[0;34m\"start_time\"\u001b[0m\u001b[0;34m,\u001b[0m \u001b[0;34m\"tweet.fields\"\u001b[0m\u001b[0;34m,\u001b[0m\u001b[0;34m\u001b[0m\u001b[0;34m\u001b[0m\u001b[0m\n\u001b[1;32m   1151\u001b[0m                 \u001b[0;34m\"until_id\"\u001b[0m\u001b[0;34m,\u001b[0m \u001b[0;34m\"user.fields\"\u001b[0m\u001b[0;34m\u001b[0m\u001b[0;34m\u001b[0m\u001b[0m\n\u001b[0;32m-> 1152\u001b[0;31m             ), data_type=Tweet\n\u001b[0m\u001b[1;32m   1153\u001b[0m         )\n\u001b[1;32m   1154\u001b[0m \u001b[0;34m\u001b[0m\u001b[0m\n",
      "\u001b[0;32m/Applications/anaconda3/lib/python3.7/site-packages/tweepy/client.py\u001b[0m in \u001b[0;36m_make_request\u001b[0;34m(self, method, route, params, endpoint_parameters, json, data_type, user_auth)\u001b[0m\n\u001b[1;32m    125\u001b[0m \u001b[0;34m\u001b[0m\u001b[0m\n\u001b[1;32m    126\u001b[0m         response = self.request(method, route, params=request_params,\n\u001b[0;32m--> 127\u001b[0;31m                                 json=json, user_auth=user_auth)\n\u001b[0m\u001b[1;32m    128\u001b[0m \u001b[0;34m\u001b[0m\u001b[0m\n\u001b[1;32m    129\u001b[0m         \u001b[0;32mif\u001b[0m \u001b[0mself\u001b[0m\u001b[0;34m.\u001b[0m\u001b[0mreturn_type\u001b[0m \u001b[0;32mis\u001b[0m \u001b[0mrequests\u001b[0m\u001b[0;34m.\u001b[0m\u001b[0mResponse\u001b[0m\u001b[0;34m:\u001b[0m\u001b[0;34m\u001b[0m\u001b[0;34m\u001b[0m\u001b[0m\n",
      "\u001b[0;32m/Applications/anaconda3/lib/python3.7/site-packages/tweepy/client.py\u001b[0m in \u001b[0;36mrequest\u001b[0;34m(self, method, route, params, json, user_auth)\u001b[0m\n\u001b[1;32m    109\u001b[0m                             \u001b[0;34mf\"Sleeping for {sleep_time} seconds.\"\u001b[0m\u001b[0;34m\u001b[0m\u001b[0;34m\u001b[0m\u001b[0m\n\u001b[1;32m    110\u001b[0m                         )\n\u001b[0;32m--> 111\u001b[0;31m                         \u001b[0mtime\u001b[0m\u001b[0;34m.\u001b[0m\u001b[0msleep\u001b[0m\u001b[0;34m(\u001b[0m\u001b[0msleep_time\u001b[0m\u001b[0;34m)\u001b[0m\u001b[0;34m\u001b[0m\u001b[0;34m\u001b[0m\u001b[0m\n\u001b[0m\u001b[1;32m    112\u001b[0m                     \u001b[0;32mreturn\u001b[0m \u001b[0mself\u001b[0m\u001b[0;34m.\u001b[0m\u001b[0mrequest\u001b[0m\u001b[0;34m(\u001b[0m\u001b[0mmethod\u001b[0m\u001b[0;34m,\u001b[0m \u001b[0mroute\u001b[0m\u001b[0;34m,\u001b[0m \u001b[0mparams\u001b[0m\u001b[0;34m,\u001b[0m \u001b[0mjson\u001b[0m\u001b[0;34m,\u001b[0m \u001b[0muser_auth\u001b[0m\u001b[0;34m)\u001b[0m\u001b[0;34m\u001b[0m\u001b[0;34m\u001b[0m\u001b[0m\n\u001b[1;32m    113\u001b[0m                 \u001b[0;32melse\u001b[0m\u001b[0;34m:\u001b[0m\u001b[0;34m\u001b[0m\u001b[0;34m\u001b[0m\u001b[0m\n",
      "\u001b[0;31mKeyboardInterrupt\u001b[0m: "
     ]
    }
   ],
   "source": [
    "df_hashtags = get_tweets_by_hashtag(query)\n",
    "df_hashtags.shape\n"
   ]
  },
  {
   "cell_type": "code",
   "execution_count": null,
   "metadata": {},
   "outputs": [],
   "source": []
  },
  {
   "cell_type": "code",
   "execution_count": null,
   "metadata": {},
   "outputs": [],
   "source": []
  },
  {
   "cell_type": "code",
   "execution_count": null,
   "metadata": {},
   "outputs": [],
   "source": []
  },
  {
   "cell_type": "code",
   "execution_count": null,
   "metadata": {},
   "outputs": [],
   "source": []
  },
  {
   "cell_type": "code",
   "execution_count": null,
   "metadata": {},
   "outputs": [],
   "source": [
    "start = datetime.datetime(2022, 5, 1)\n",
    "end = datetime.datetime(2022, 5, 31)\n",
    "delta = datetime.timedelta(days=7)\n"
   ]
  },
  {
   "cell_type": "code",
   "execution_count": 97,
   "metadata": {},
   "outputs": [
    {
     "name": "stderr",
     "output_type": "stream",
     "text": [
      "Rate limit exceeded. Sleeping for 901 seconds.\n"
     ]
    },
    {
     "ename": "KeyboardInterrupt",
     "evalue": "",
     "output_type": "error",
     "traceback": [
      "\u001b[0;31m---------------------------------------------------------------------------\u001b[0m",
      "\u001b[0;31mKeyboardInterrupt\u001b[0m                         Traceback (most recent call last)",
      "\u001b[0;32m<ipython-input-97-38e340fbf32c>\u001b[0m in \u001b[0;36m<module>\u001b[0;34m\u001b[0m\n\u001b[1;32m      3\u001b[0m     \u001b[0mend_date\u001b[0m \u001b[0;34m=\u001b[0m \u001b[0mend\u001b[0m\u001b[0;34m\u001b[0m\u001b[0;34m\u001b[0m\u001b[0m\n\u001b[1;32m      4\u001b[0m     \u001b[0mend\u001b[0m \u001b[0;34m-=\u001b[0m \u001b[0mdelta\u001b[0m\u001b[0;34m\u001b[0m\u001b[0;34m\u001b[0m\u001b[0m\n\u001b[0;32m----> 5\u001b[0;31m     \u001b[0mget_tweets_by_hashtag\u001b[0m\u001b[0;34m(\u001b[0m\u001b[0;34m\"ClimateAction\"\u001b[0m\u001b[0;34m,\u001b[0m \u001b[0mstart_date\u001b[0m\u001b[0;34m.\u001b[0m\u001b[0mstrftime\u001b[0m\u001b[0;34m(\u001b[0m\u001b[0;34m\"%Y-%m-%d\"\u001b[0m\u001b[0;34m)\u001b[0m\u001b[0;34m,\u001b[0m \u001b[0mend_date\u001b[0m\u001b[0;34m.\u001b[0m\u001b[0mstrftime\u001b[0m\u001b[0;34m(\u001b[0m\u001b[0;34m\"%Y-%m-%d\"\u001b[0m\u001b[0;34m)\u001b[0m\u001b[0;34m)\u001b[0m\u001b[0;34m\u001b[0m\u001b[0;34m\u001b[0m\u001b[0m\n\u001b[0m\u001b[1;32m      6\u001b[0m     \u001b[0mprint\u001b[0m\u001b[0;34m(\u001b[0m\u001b[0mstart_date\u001b[0m\u001b[0;34m,\u001b[0m \u001b[0mend_date\u001b[0m\u001b[0;34m)\u001b[0m\u001b[0;34m\u001b[0m\u001b[0;34m\u001b[0m\u001b[0m\n\u001b[1;32m      7\u001b[0m     \u001b[0;32mif\u001b[0m \u001b[0mi\u001b[0m \u001b[0;34m>\u001b[0m \u001b[0;36m5\u001b[0m\u001b[0;34m:\u001b[0m\u001b[0;34m\u001b[0m\u001b[0;34m\u001b[0m\u001b[0m\n",
      "\u001b[0;32m<ipython-input-90-f69aa98cda9a>\u001b[0m in \u001b[0;36mget_tweets_by_hashtag\u001b[0;34m(hashtag, start_time, end_time, fmt)\u001b[0m\n\u001b[1;32m     16\u001b[0m         \u001b[0mtweet_fields\u001b[0m\u001b[0;34m=\u001b[0m\u001b[0mtweet_fields\u001b[0m\u001b[0;34m,\u001b[0m\u001b[0;34m\u001b[0m\u001b[0;34m\u001b[0m\u001b[0m\n\u001b[1;32m     17\u001b[0m     ).flatten()\n\u001b[0;32m---> 18\u001b[0;31m     \u001b[0mresponse\u001b[0m \u001b[0;34m=\u001b[0m \u001b[0mlist\u001b[0m\u001b[0;34m(\u001b[0m\u001b[0mresponse\u001b[0m\u001b[0;34m)\u001b[0m\u001b[0;34m\u001b[0m\u001b[0;34m\u001b[0m\u001b[0m\n\u001b[0m\u001b[1;32m     19\u001b[0m     tweets = [\n\u001b[1;32m     20\u001b[0m         {\n",
      "\u001b[0;32m/Applications/anaconda3/lib/python3.7/site-packages/tweepy/pagination.py\u001b[0m in \u001b[0;36mflatten\u001b[0;34m(self, limit)\u001b[0m\n\u001b[1;32m     47\u001b[0m         \u001b[0mcount\u001b[0m \u001b[0;34m=\u001b[0m \u001b[0;36m0\u001b[0m\u001b[0;34m\u001b[0m\u001b[0;34m\u001b[0m\u001b[0m\n\u001b[1;32m     48\u001b[0m         for response in PaginationIterator(self.method, *self.args,\n\u001b[0;32m---> 49\u001b[0;31m                                            **self.kwargs):\n\u001b[0m\u001b[1;32m     50\u001b[0m             \u001b[0;32mif\u001b[0m \u001b[0mresponse\u001b[0m\u001b[0;34m.\u001b[0m\u001b[0mdata\u001b[0m \u001b[0;32mis\u001b[0m \u001b[0;32mnot\u001b[0m \u001b[0;32mNone\u001b[0m\u001b[0;34m:\u001b[0m\u001b[0;34m\u001b[0m\u001b[0;34m\u001b[0m\u001b[0m\n\u001b[1;32m     51\u001b[0m                 \u001b[0;32mfor\u001b[0m \u001b[0mdata\u001b[0m \u001b[0;32min\u001b[0m \u001b[0mresponse\u001b[0m\u001b[0;34m.\u001b[0m\u001b[0mdata\u001b[0m\u001b[0;34m:\u001b[0m\u001b[0;34m\u001b[0m\u001b[0;34m\u001b[0m\u001b[0m\n",
      "\u001b[0;32m/Applications/anaconda3/lib/python3.7/site-packages/tweepy/pagination.py\u001b[0m in \u001b[0;36m__next__\u001b[0;34m(self)\u001b[0m\n\u001b[1;32m     96\u001b[0m             \u001b[0mself\u001b[0m\u001b[0;34m.\u001b[0m\u001b[0mkwargs\u001b[0m\u001b[0;34m[\u001b[0m\u001b[0;34m\"pagination_token\"\u001b[0m\u001b[0;34m]\u001b[0m \u001b[0;34m=\u001b[0m \u001b[0mpagination_token\u001b[0m\u001b[0;34m\u001b[0m\u001b[0;34m\u001b[0m\u001b[0m\n\u001b[1;32m     97\u001b[0m \u001b[0;34m\u001b[0m\u001b[0m\n\u001b[0;32m---> 98\u001b[0;31m         \u001b[0mresponse\u001b[0m \u001b[0;34m=\u001b[0m \u001b[0mself\u001b[0m\u001b[0;34m.\u001b[0m\u001b[0mmethod\u001b[0m\u001b[0;34m(\u001b[0m\u001b[0;34m*\u001b[0m\u001b[0mself\u001b[0m\u001b[0;34m.\u001b[0m\u001b[0margs\u001b[0m\u001b[0;34m,\u001b[0m \u001b[0;34m**\u001b[0m\u001b[0mself\u001b[0m\u001b[0;34m.\u001b[0m\u001b[0mkwargs\u001b[0m\u001b[0;34m)\u001b[0m\u001b[0;34m\u001b[0m\u001b[0;34m\u001b[0m\u001b[0m\n\u001b[0m\u001b[1;32m     99\u001b[0m \u001b[0;34m\u001b[0m\u001b[0m\n\u001b[1;32m    100\u001b[0m         \u001b[0mself\u001b[0m\u001b[0;34m.\u001b[0m\u001b[0mprevious_token\u001b[0m \u001b[0;34m=\u001b[0m \u001b[0mresponse\u001b[0m\u001b[0;34m.\u001b[0m\u001b[0mmeta\u001b[0m\u001b[0;34m.\u001b[0m\u001b[0mget\u001b[0m\u001b[0;34m(\u001b[0m\u001b[0;34m\"previous_token\"\u001b[0m\u001b[0;34m)\u001b[0m\u001b[0;34m\u001b[0m\u001b[0;34m\u001b[0m\u001b[0m\n",
      "\u001b[0;32m/Applications/anaconda3/lib/python3.7/site-packages/tweepy/client.py\u001b[0m in \u001b[0;36msearch_all_tweets\u001b[0;34m(self, query, **params)\u001b[0m\n\u001b[1;32m   1150\u001b[0m                 \u001b[0;34m\"since_id\"\u001b[0m\u001b[0;34m,\u001b[0m \u001b[0;34m\"sort_order\"\u001b[0m\u001b[0;34m,\u001b[0m \u001b[0;34m\"start_time\"\u001b[0m\u001b[0;34m,\u001b[0m \u001b[0;34m\"tweet.fields\"\u001b[0m\u001b[0;34m,\u001b[0m\u001b[0;34m\u001b[0m\u001b[0;34m\u001b[0m\u001b[0m\n\u001b[1;32m   1151\u001b[0m                 \u001b[0;34m\"until_id\"\u001b[0m\u001b[0;34m,\u001b[0m \u001b[0;34m\"user.fields\"\u001b[0m\u001b[0;34m\u001b[0m\u001b[0;34m\u001b[0m\u001b[0m\n\u001b[0;32m-> 1152\u001b[0;31m             ), data_type=Tweet\n\u001b[0m\u001b[1;32m   1153\u001b[0m         )\n\u001b[1;32m   1154\u001b[0m \u001b[0;34m\u001b[0m\u001b[0m\n",
      "\u001b[0;32m/Applications/anaconda3/lib/python3.7/site-packages/tweepy/client.py\u001b[0m in \u001b[0;36m_make_request\u001b[0;34m(self, method, route, params, endpoint_parameters, json, data_type, user_auth)\u001b[0m\n\u001b[1;32m    125\u001b[0m \u001b[0;34m\u001b[0m\u001b[0m\n\u001b[1;32m    126\u001b[0m         response = self.request(method, route, params=request_params,\n\u001b[0;32m--> 127\u001b[0;31m                                 json=json, user_auth=user_auth)\n\u001b[0m\u001b[1;32m    128\u001b[0m \u001b[0;34m\u001b[0m\u001b[0m\n\u001b[1;32m    129\u001b[0m         \u001b[0;32mif\u001b[0m \u001b[0mself\u001b[0m\u001b[0;34m.\u001b[0m\u001b[0mreturn_type\u001b[0m \u001b[0;32mis\u001b[0m \u001b[0mrequests\u001b[0m\u001b[0;34m.\u001b[0m\u001b[0mResponse\u001b[0m\u001b[0;34m:\u001b[0m\u001b[0;34m\u001b[0m\u001b[0;34m\u001b[0m\u001b[0m\n",
      "\u001b[0;32m/Applications/anaconda3/lib/python3.7/site-packages/tweepy/client.py\u001b[0m in \u001b[0;36mrequest\u001b[0;34m(self, method, route, params, json, user_auth)\u001b[0m\n\u001b[1;32m    109\u001b[0m                             \u001b[0;34mf\"Sleeping for {sleep_time} seconds.\"\u001b[0m\u001b[0;34m\u001b[0m\u001b[0;34m\u001b[0m\u001b[0m\n\u001b[1;32m    110\u001b[0m                         )\n\u001b[0;32m--> 111\u001b[0;31m                         \u001b[0mtime\u001b[0m\u001b[0;34m.\u001b[0m\u001b[0msleep\u001b[0m\u001b[0;34m(\u001b[0m\u001b[0msleep_time\u001b[0m\u001b[0;34m)\u001b[0m\u001b[0;34m\u001b[0m\u001b[0;34m\u001b[0m\u001b[0m\n\u001b[0m\u001b[1;32m    112\u001b[0m                     \u001b[0;32mreturn\u001b[0m \u001b[0mself\u001b[0m\u001b[0;34m.\u001b[0m\u001b[0mrequest\u001b[0m\u001b[0;34m(\u001b[0m\u001b[0mmethod\u001b[0m\u001b[0;34m,\u001b[0m \u001b[0mroute\u001b[0m\u001b[0;34m,\u001b[0m \u001b[0mparams\u001b[0m\u001b[0;34m,\u001b[0m \u001b[0mjson\u001b[0m\u001b[0;34m,\u001b[0m \u001b[0muser_auth\u001b[0m\u001b[0;34m)\u001b[0m\u001b[0;34m\u001b[0m\u001b[0;34m\u001b[0m\u001b[0m\n\u001b[1;32m    113\u001b[0m                 \u001b[0;32melse\u001b[0m\u001b[0;34m:\u001b[0m\u001b[0;34m\u001b[0m\u001b[0;34m\u001b[0m\u001b[0m\n",
      "\u001b[0;31mKeyboardInterrupt\u001b[0m: "
     ]
    }
   ],
   "source": [
    "for i in range((end - start).days):\n",
    "    start_date = end - delta\n",
    "    end_date = end\n",
    "    end -= delta\n",
    "    get_tweets_by_hashtag(\"ClimateAction\", start_date.strftime(\"%Y-%m-%d\"), end_date.strftime(\"%Y-%m-%d\"))\n",
    "    print(start_date, end_date)\n",
    "    if i > 5:\n",
    "        break"
   ]
  },
  {
   "cell_type": "code",
   "execution_count": null,
   "metadata": {},
   "outputs": [],
   "source": [
    "datetime.datetime.today().date()"
   ]
  },
  {
   "cell_type": "code",
   "execution_count": 52,
   "metadata": {},
   "outputs": [
    {
     "data": {
      "text/html": [
       "<div>\n",
       "<style scoped>\n",
       "    .dataframe tbody tr th:only-of-type {\n",
       "        vertical-align: middle;\n",
       "    }\n",
       "\n",
       "    .dataframe tbody tr th {\n",
       "        vertical-align: top;\n",
       "    }\n",
       "\n",
       "    .dataframe thead th {\n",
       "        text-align: right;\n",
       "    }\n",
       "</style>\n",
       "<table border=\"1\" class=\"dataframe\">\n",
       "  <thead>\n",
       "    <tr style=\"text-align: right;\">\n",
       "      <th></th>\n",
       "      <th>author_id</th>\n",
       "      <th>conversation_id</th>\n",
       "      <th>created_at</th>\n",
       "      <th>geo</th>\n",
       "      <th>id</th>\n",
       "      <th>text</th>\n",
       "      <th>retweet_count</th>\n",
       "      <th>reply_count</th>\n",
       "      <th>like_count</th>\n",
       "      <th>quote_count</th>\n",
       "      <th>media_keys</th>\n",
       "    </tr>\n",
       "  </thead>\n",
       "  <tbody>\n",
       "    <tr>\n",
       "      <th>0</th>\n",
       "      <td>1068337838</td>\n",
       "      <td>1527219801147461632</td>\n",
       "      <td>2022-05-19 09:29:09+00:00</td>\n",
       "      <td>NaN</td>\n",
       "      <td>1527219801147461632</td>\n",
       "      <td>Dieses Video werden die Aktionär:innen der @De...</td>\n",
       "      <td>50.0</td>\n",
       "      <td>15.0</td>\n",
       "      <td>295.0</td>\n",
       "      <td>2.0</td>\n",
       "      <td>NaN</td>\n",
       "    </tr>\n",
       "    <tr>\n",
       "      <th>1</th>\n",
       "      <td>1068337838</td>\n",
       "      <td>1527214056746229773</td>\n",
       "      <td>2022-05-19 09:06:20+00:00</td>\n",
       "      <td>NaN</td>\n",
       "      <td>1527214056746229773</td>\n",
       "      <td>Ein ganz normaler Tag im Klimakollaps:  Mit de...</td>\n",
       "      <td>215.0</td>\n",
       "      <td>100.0</td>\n",
       "      <td>1427.0</td>\n",
       "      <td>5.0</td>\n",
       "      <td>NaN</td>\n",
       "    </tr>\n",
       "    <tr>\n",
       "      <th>2</th>\n",
       "      <td>1068337838</td>\n",
       "      <td>1527209125851037696</td>\n",
       "      <td>2022-05-19 08:46:44+00:00</td>\n",
       "      <td>NaN</td>\n",
       "      <td>1527209125851037696</td>\n",
       "      <td>RT @350Deutschland: In Germany, the @KoalaKoll...</td>\n",
       "      <td>36.0</td>\n",
       "      <td>0.0</td>\n",
       "      <td>0.0</td>\n",
       "      <td>0.0</td>\n",
       "      <td>NaN</td>\n",
       "    </tr>\n",
       "    <tr>\n",
       "      <th>3</th>\n",
       "      <td>1068337838</td>\n",
       "      <td>1527207260015013889</td>\n",
       "      <td>2022-05-19 08:39:19+00:00</td>\n",
       "      <td>NaN</td>\n",
       "      <td>1527207260015013889</td>\n",
       "      <td>RT @350Deutschland: 1200 km Ölpipeline, 216000...</td>\n",
       "      <td>31.0</td>\n",
       "      <td>0.0</td>\n",
       "      <td>0.0</td>\n",
       "      <td>0.0</td>\n",
       "      <td>NaN</td>\n",
       "    </tr>\n",
       "    <tr>\n",
       "      <th>4</th>\n",
       "      <td>1068337838</td>\n",
       "      <td>1527204602030047232</td>\n",
       "      <td>2022-05-19 08:28:45+00:00</td>\n",
       "      <td>NaN</td>\n",
       "      <td>1527204602030047232</td>\n",
       "      <td>RT @350Deutschland: Die @DeutscheBank untersch...</td>\n",
       "      <td>23.0</td>\n",
       "      <td>0.0</td>\n",
       "      <td>0.0</td>\n",
       "      <td>0.0</td>\n",
       "      <td>NaN</td>\n",
       "    </tr>\n",
       "    <tr>\n",
       "      <th>...</th>\n",
       "      <td>...</td>\n",
       "      <td>...</td>\n",
       "      <td>...</td>\n",
       "      <td>...</td>\n",
       "      <td>...</td>\n",
       "      <td>...</td>\n",
       "      <td>...</td>\n",
       "      <td>...</td>\n",
       "      <td>...</td>\n",
       "      <td>...</td>\n",
       "      <td>...</td>\n",
       "    </tr>\n",
       "    <tr>\n",
       "      <th>30742</th>\n",
       "      <td>1006419421244678144</td>\n",
       "      <td>1007142657720836096</td>\n",
       "      <td>2018-06-14 06:08:16+00:00</td>\n",
       "      <td>NaN</td>\n",
       "      <td>1007142657720836096</td>\n",
       "      <td>RT @daniel_bensson: Obey  the law Move the mon...</td>\n",
       "      <td>15.0</td>\n",
       "      <td>0.0</td>\n",
       "      <td>0.0</td>\n",
       "      <td>0.0</td>\n",
       "      <td>NaN</td>\n",
       "    </tr>\n",
       "    <tr>\n",
       "      <th>30743</th>\n",
       "      <td>1006419421244678144</td>\n",
       "      <td>1007142570839957504</td>\n",
       "      <td>2018-06-14 06:07:55+00:00</td>\n",
       "      <td>NaN</td>\n",
       "      <td>1007142570839957504</td>\n",
       "      <td>RT @PerArnesjo: Slutsatsen: kött och mjölkprod...</td>\n",
       "      <td>18.0</td>\n",
       "      <td>0.0</td>\n",
       "      <td>0.0</td>\n",
       "      <td>0.0</td>\n",
       "      <td>NaN</td>\n",
       "    </tr>\n",
       "    <tr>\n",
       "      <th>30744</th>\n",
       "      <td>1006419421244678144</td>\n",
       "      <td>1006780456539389953</td>\n",
       "      <td>2018-06-13 06:09:00+00:00</td>\n",
       "      <td>NaN</td>\n",
       "      <td>1006780456539389953</td>\n",
       "      <td>RT @circulareconomy: For example, the fashion ...</td>\n",
       "      <td>70.0</td>\n",
       "      <td>0.0</td>\n",
       "      <td>0.0</td>\n",
       "      <td>0.0</td>\n",
       "      <td>NaN</td>\n",
       "    </tr>\n",
       "    <tr>\n",
       "      <th>30745</th>\n",
       "      <td>1006419421244678144</td>\n",
       "      <td>1006584165947576323</td>\n",
       "      <td>2018-06-12 17:09:01+00:00</td>\n",
       "      <td>NaN</td>\n",
       "      <td>1006584165947576323</td>\n",
       "      <td>RT @ParHolmgren: Varmare atmosfär och världsha...</td>\n",
       "      <td>56.0</td>\n",
       "      <td>0.0</td>\n",
       "      <td>0.0</td>\n",
       "      <td>0.0</td>\n",
       "      <td>NaN</td>\n",
       "    </tr>\n",
       "    <tr>\n",
       "      <th>30746</th>\n",
       "      <td>1006419421244678144</td>\n",
       "      <td>1006430009073061888</td>\n",
       "      <td>2018-06-12 06:56:27+00:00</td>\n",
       "      <td>NaN</td>\n",
       "      <td>1006430009073061888</td>\n",
       "      <td>RT @ParHolmgren: Det våras snabbt i Arktis nu,...</td>\n",
       "      <td>41.0</td>\n",
       "      <td>0.0</td>\n",
       "      <td>0.0</td>\n",
       "      <td>0.0</td>\n",
       "      <td>NaN</td>\n",
       "    </tr>\n",
       "  </tbody>\n",
       "</table>\n",
       "<p>30747 rows × 11 columns</p>\n",
       "</div>"
      ],
      "text/plain": [
       "                 author_id      conversation_id                 created_at  \\\n",
       "0               1068337838  1527219801147461632  2022-05-19 09:29:09+00:00   \n",
       "1               1068337838  1527214056746229773  2022-05-19 09:06:20+00:00   \n",
       "2               1068337838  1527209125851037696  2022-05-19 08:46:44+00:00   \n",
       "3               1068337838  1527207260015013889  2022-05-19 08:39:19+00:00   \n",
       "4               1068337838  1527204602030047232  2022-05-19 08:28:45+00:00   \n",
       "...                    ...                  ...                        ...   \n",
       "30742  1006419421244678144  1007142657720836096  2018-06-14 06:08:16+00:00   \n",
       "30743  1006419421244678144  1007142570839957504  2018-06-14 06:07:55+00:00   \n",
       "30744  1006419421244678144  1006780456539389953  2018-06-13 06:09:00+00:00   \n",
       "30745  1006419421244678144  1006584165947576323  2018-06-12 17:09:01+00:00   \n",
       "30746  1006419421244678144  1006430009073061888  2018-06-12 06:56:27+00:00   \n",
       "\n",
       "       geo                   id  \\\n",
       "0      NaN  1527219801147461632   \n",
       "1      NaN  1527214056746229773   \n",
       "2      NaN  1527209125851037696   \n",
       "3      NaN  1527207260015013889   \n",
       "4      NaN  1527204602030047232   \n",
       "...    ...                  ...   \n",
       "30742  NaN  1007142657720836096   \n",
       "30743  NaN  1007142570839957504   \n",
       "30744  NaN  1006780456539389953   \n",
       "30745  NaN  1006584165947576323   \n",
       "30746  NaN  1006430009073061888   \n",
       "\n",
       "                                                    text  retweet_count  \\\n",
       "0      Dieses Video werden die Aktionär:innen der @De...           50.0   \n",
       "1      Ein ganz normaler Tag im Klimakollaps:  Mit de...          215.0   \n",
       "2      RT @350Deutschland: In Germany, the @KoalaKoll...           36.0   \n",
       "3      RT @350Deutschland: 1200 km Ölpipeline, 216000...           31.0   \n",
       "4      RT @350Deutschland: Die @DeutscheBank untersch...           23.0   \n",
       "...                                                  ...            ...   \n",
       "30742  RT @daniel_bensson: Obey  the law Move the mon...           15.0   \n",
       "30743  RT @PerArnesjo: Slutsatsen: kött och mjölkprod...           18.0   \n",
       "30744  RT @circulareconomy: For example, the fashion ...           70.0   \n",
       "30745  RT @ParHolmgren: Varmare atmosfär och världsha...           56.0   \n",
       "30746  RT @ParHolmgren: Det våras snabbt i Arktis nu,...           41.0   \n",
       "\n",
       "       reply_count  like_count  quote_count media_keys  \n",
       "0             15.0       295.0          2.0        NaN  \n",
       "1            100.0      1427.0          5.0        NaN  \n",
       "2              0.0         0.0          0.0        NaN  \n",
       "3              0.0         0.0          0.0        NaN  \n",
       "4              0.0         0.0          0.0        NaN  \n",
       "...            ...         ...          ...        ...  \n",
       "30742          0.0         0.0          0.0        NaN  \n",
       "30743          0.0         0.0          0.0        NaN  \n",
       "30744          0.0         0.0          0.0        NaN  \n",
       "30745          0.0         0.0          0.0        NaN  \n",
       "30746          0.0         0.0          0.0        NaN  \n",
       "\n",
       "[30747 rows x 11 columns]"
      ]
     },
     "execution_count": 52,
     "metadata": {},
     "output_type": "execute_result"
    }
   ],
   "source": [
    "pd.read_csv(\"data/tweets_20220519_1247.csv\", on_bad_lines=\"warn\")"
   ]
  },
  {
   "cell_type": "code",
   "execution_count": null,
   "metadata": {},
   "outputs": [],
   "source": []
  }
 ],
 "metadata": {
  "interpreter": {
   "hash": "fd10460dd3d146ddcd00478931b69fe3eeab4952c1785708c7385e1d4193c119"
  },
  "kernelspec": {
   "display_name": "Python 3",
   "language": "python",
   "name": "python3"
  },
  "language_info": {
   "codemirror_mode": {
    "name": "ipython",
    "version": 3
   },
   "file_extension": ".py",
   "mimetype": "text/x-python",
   "name": "python",
   "nbconvert_exporter": "python",
   "pygments_lexer": "ipython3",
   "version": "3.7.6"
  }
 },
 "nbformat": 4,
 "nbformat_minor": 4
}
