{
 "cells": [
  {
   "cell_type": "markdown",
   "metadata": {},
   "source": [
    "# COIN Project\n",
    "\n",
    "Authors:\n",
    "\n",
    "    - Mona\n",
    "    - Roman\n",
    "    - Nick\n",
    "    - Mateo"
   ]
  },
  {
   "cell_type": "markdown",
   "metadata": {},
   "source": [
    "# Setup"
   ]
  },
  {
   "cell_type": "markdown",
   "metadata": {},
   "source": [
    "## Packages"
   ]
  },
  {
   "cell_type": "code",
   "execution_count": 1,
   "metadata": {},
   "outputs": [],
   "source": [
    "import pandas as pd\n",
    "import numpy as np\n",
    "import sqlalchemy as sa\n",
    "import tweepy\n",
    "import dotenv\n",
    "import os\n",
    "import yaml\n",
    "import datetime\n",
    "from pprint import pprint"
   ]
  },
  {
   "cell_type": "markdown",
   "metadata": {},
   "source": [
    "## Environment variables"
   ]
  },
  {
   "cell_type": "code",
   "execution_count": 2,
   "metadata": {},
   "outputs": [
    {
     "data": {
      "text/plain": [
       "True"
      ]
     },
     "execution_count": 2,
     "metadata": {},
     "output_type": "execute_result"
    }
   ],
   "source": [
    "dotenv.load_dotenv()"
   ]
  },
  {
   "cell_type": "code",
   "execution_count": 3,
   "metadata": {},
   "outputs": [],
   "source": [
    "with open(\"../twitter.yml\", \"r\") as f:\n",
    "    config = yaml.safe_load(f)"
   ]
  },
  {
   "cell_type": "code",
   "execution_count": 5,
   "metadata": {},
   "outputs": [
    {
     "data": {
      "text/plain": [
       "{'accounts': ['Fridays4future',\n",
       "  'FridayForFuture',\n",
       "  'GretaThunberg',\n",
       "  'luisaneubauer'],\n",
       " 'hashtags': {'green': ['EndCoal',\n",
       "   'EndFossilFuels',\n",
       "   'PeopleNotProfit',\n",
       "   'NoMoreEmptyPromises',\n",
       "   'UprootTheSystem',\n",
       "   'FridaysForFuture',\n",
       "   'ClimateAction',\n",
       "   'ClimateJustice',\n",
       "   'ClimateEmergency',\n",
       "   'ClimateStrike',\n",
       "   'SaveThePlanet'],\n",
       "  'brown': ['climatescam',\n",
       "   'climatechangehoax',\n",
       "   'fakeclimate',\n",
       "   'climatehoax',\n",
       "   'globalwarmingisahoax'],\n",
       "  'neutral': ['ClimateCrisis', 'ClimateChange', 'Climate', 'GlobalWarming']}}"
      ]
     },
     "execution_count": 5,
     "metadata": {},
     "output_type": "execute_result"
    }
   ],
   "source": [
    "config"
   ]
  },
  {
   "cell_type": "markdown",
   "metadata": {},
   "source": [
    "## Database connection"
   ]
  },
  {
   "cell_type": "code",
   "execution_count": 6,
   "metadata": {},
   "outputs": [],
   "source": [
    "username = os.environ[\"DB_USERNAME\"]\n",
    "password = os.environ[\"DB_PASSWORD\"]\n",
    "host = os.environ[\"DB_HOST\"]\n",
    "port = os.environ[\"DB_PORT\"]\n",
    "name = os.environ[\"DB_NAME\"]"
   ]
  },
  {
   "cell_type": "code",
   "execution_count": 7,
   "metadata": {},
   "outputs": [],
   "source": [
    "engine = sa.create_engine(\"mssql+pymssql://{}:{}@{}/{}\".format(username, password, host, name))"
   ]
  },
  {
   "cell_type": "markdown",
   "metadata": {},
   "source": [
    "## Tweepy"
   ]
  },
  {
   "cell_type": "code",
   "execution_count": 8,
   "metadata": {},
   "outputs": [],
   "source": [
    "client = tweepy.Client(bearer_token=os.environ[\"BEARER_TOKEN\"], wait_on_rate_limit=True)"
   ]
  },
  {
   "cell_type": "code",
   "execution_count": 9,
   "metadata": {},
   "outputs": [],
   "source": [
    "auth = tweepy.OAuth2BearerHandler(bearer_token=os.environ[\"BEARER_TOKEN\"])\n",
    "api = tweepy.API(auth)"
   ]
  },
  {
   "cell_type": "markdown",
   "metadata": {
    "tags": []
   },
   "source": [
    "# Twitter API"
   ]
  },
  {
   "cell_type": "markdown",
   "metadata": {},
   "source": [
    "## Get UserIDs from Twitter"
   ]
  },
  {
   "cell_type": "code",
   "execution_count": 16,
   "metadata": {},
   "outputs": [],
   "source": [
    "users = {user: client.get_user(username=user).data.id for user in config[\"accounts\"]}"
   ]
  },
  {
   "cell_type": "code",
   "execution_count": 17,
   "metadata": {},
   "outputs": [
    {
     "data": {
      "text/plain": [
       "{'Fridays4future': 1053768884732547072,\n",
       " 'FridayForFuture': 1072187272815149057,\n",
       " 'GretaThunberg': 1006419421244678144,\n",
       " 'luisaneubauer': 2689488949}"
      ]
     },
     "execution_count": 17,
     "metadata": {},
     "output_type": "execute_result"
    }
   ],
   "source": [
    "users"
   ]
  },
  {
   "cell_type": "code",
   "execution_count": 18,
   "metadata": {},
   "outputs": [],
   "source": [
    "user_id = users[\"FridayForFuture\"]"
   ]
  },
  {
   "cell_type": "markdown",
   "metadata": {},
   "source": [
    "## Get tweets from user"
   ]
  },
  {
   "cell_type": "code",
   "execution_count": null,
   "metadata": {},
   "outputs": [],
   "source": [
    "def get_user_tweets(user_id, start_time='2017-01-01', end_time: str = None, fmt=\"%Y-%m-%d\"):\n",
    "    expansions = [\"author_id\"]\n",
    "    tweet_fields = [\"created_at\", \"geo\", \"public_metrics\", \"text\", \"context_annotations\", \"entities\"]\n",
    "    start_time = datetime.datetime.strptime(start_time, fmt)\n",
    "    if end_time:\n",
    "        end_time = datetime.datetime.strptime(end_time, fmt)\n",
    "    else: \n",
    "        datetime.datetime.now()\n",
    "    response = tweepy.Paginator(\n",
    "        client.get_users_tweets,\n",
    "        id=user_id,\n",
    "        start_time=start_time,\n",
    "        end_time=end_time,\n",
    "        expansions=expansions,\n",
    "        tweet_fields=tweet_fields\n",
    "    ).flatten()\n",
    "    response = list(response)\n",
    "    tweets = [\n",
    "        {\n",
    "            \"id\": r.id,\n",
    "            \"author_id\": r.author_id,\n",
    "            \"created_at\": r.created_at,\n",
    "            \"geo\": r.geo,\n",
    "            \"retweet_count\": r.public_metrics[\"retweet_count\"],\n",
    "            \"reply_count\": r.public_metrics[\"reply_count\"],\n",
    "            \"like_count\": r.public_metrics[\"like_count\"],\n",
    "            \"qoute_count\": r.public_metrics[\"quote_count\"],\n",
    "            \"text\": r.text,\n",
    "            \"entities\": str(r.entities),\n",
    "            \"context_annotations\": str(r.context_annotations)\n",
    "        } for r in response\n",
    "    ]\n",
    "    tweets = pd.DataFrame(tweets)\n",
    "    tweets.to_csv(\"tweets_from_accounts.csv\", index=False, header=False, mode=\"a\")\n",
    "    return tweets"
   ]
  },
  {
   "cell_type": "code",
   "execution_count": null,
   "metadata": {},
   "outputs": [],
   "source": [
    "def get_tweets_by_hashtag(hashtag, start_time='2017-01-01', end_time: str = None, fmt=\"%Y-%m-%d\"):\n",
    "    expansions = [\"author_id\"]\n",
    "    tweet_fields = [\"created_at\", \"geo\", \"public_metrics\", \"text\", \"context_annotations\", \"entities\"]\n",
    "    start_time = datetime.datetime.strptime(start_time, fmt)\n",
    "    if end_time:\n",
    "        end_time = datetime.datetime.strptime(end_time, fmt)\n",
    "    else: \n",
    "        datetime.datetime.now()\n",
    "    response = tweepy.Paginator(\n",
    "        client.search_all_tweets,\n",
    "        query=\"#\" + hashtag,\n",
    "        start_time=start_time,\n",
    "        end_time=end_time,\n",
    "        expansions=expansions,\n",
    "        tweet_fields=tweet_fields\n",
    "    ).flatten()\n",
    "    response = list(response)\n",
    "    tweets = [\n",
    "        {\n",
    "            \"id\": r.id,\n",
    "            \"author_id\": r.author_id,\n",
    "            \"created_at\": r.created_at,\n",
    "            \"geo\": r.geo,\n",
    "            \"retweet_count\": r.public_metrics[\"retweet_count\"],\n",
    "            \"reply_count\": r.public_metrics[\"reply_count\"],\n",
    "            \"like_count\": r.public_metrics[\"like_count\"],\n",
    "            \"qoute_count\": r.public_metrics[\"quote_count\"],\n",
    "            \"text\": r.text,\n",
    "            \"entities\": str(r.entities),\n",
    "            \"context_annotations\": str(r.context_annotations)\n",
    "        } for r in response\n",
    "    ]\n",
    "    tweets = pd.DataFrame(tweets)\n",
    "    tweets.to_csv(\"tweets_from_hashtags.csv\", index=False, header=False, mode=\"a\")\n",
    "    return tweets"
   ]
  },
  {
   "cell_type": "code",
   "execution_count": null,
   "metadata": {},
   "outputs": [],
   "source": [
    "df_usertweets = get_user_tweets(user_id)"
   ]
  },
  {
   "cell_type": "code",
   "execution_count": null,
   "metadata": {},
   "outputs": [],
   "source": [
    "df_hashtags = get_tweets_by_hashtag(\"ClimateAction\", start_time=\"2022-05-10\")"
   ]
  },
  {
   "cell_type": "code",
   "execution_count": null,
   "metadata": {},
   "outputs": [],
   "source": [
    "start = datetime.datetime(2017, 5, 1)\n",
    "end = datetime.datetime(2022, 5, 18)\n",
    "delta = datetime.timedelta(days=7)"
   ]
  },
  {
   "cell_type": "code",
   "execution_count": null,
   "metadata": {},
   "outputs": [],
   "source": [
    "for i in range((end - start).days):\n",
    "    start_date = end - delta\n",
    "    end_date = end\n",
    "    end -= delta\n",
    "    get_tweets_by_hashtag(\"ClimateAction\", start_date.strftime(\"%Y-%m-%d\"), end_date.strftime(\"%Y-%m-%d\"))\n",
    "    print(start_date, end_date)\n",
    "    if i > 5:\n",
    "        break"
   ]
  },
  {
   "cell_type": "code",
   "execution_count": null,
   "metadata": {},
   "outputs": [],
   "source": [
    "datetime.datetime.today().date()"
   ]
  },
  {
   "cell_type": "code",
   "execution_count": 52,
   "metadata": {},
   "outputs": [
    {
     "data": {
      "text/html": [
       "<div>\n",
       "<style scoped>\n",
       "    .dataframe tbody tr th:only-of-type {\n",
       "        vertical-align: middle;\n",
       "    }\n",
       "\n",
       "    .dataframe tbody tr th {\n",
       "        vertical-align: top;\n",
       "    }\n",
       "\n",
       "    .dataframe thead th {\n",
       "        text-align: right;\n",
       "    }\n",
       "</style>\n",
       "<table border=\"1\" class=\"dataframe\">\n",
       "  <thead>\n",
       "    <tr style=\"text-align: right;\">\n",
       "      <th></th>\n",
       "      <th>author_id</th>\n",
       "      <th>conversation_id</th>\n",
       "      <th>created_at</th>\n",
       "      <th>geo</th>\n",
       "      <th>id</th>\n",
       "      <th>text</th>\n",
       "      <th>retweet_count</th>\n",
       "      <th>reply_count</th>\n",
       "      <th>like_count</th>\n",
       "      <th>quote_count</th>\n",
       "      <th>media_keys</th>\n",
       "    </tr>\n",
       "  </thead>\n",
       "  <tbody>\n",
       "    <tr>\n",
       "      <th>0</th>\n",
       "      <td>1068337838</td>\n",
       "      <td>1527219801147461632</td>\n",
       "      <td>2022-05-19 09:29:09+00:00</td>\n",
       "      <td>NaN</td>\n",
       "      <td>1527219801147461632</td>\n",
       "      <td>Dieses Video werden die Aktionär:innen der @De...</td>\n",
       "      <td>50.0</td>\n",
       "      <td>15.0</td>\n",
       "      <td>295.0</td>\n",
       "      <td>2.0</td>\n",
       "      <td>NaN</td>\n",
       "    </tr>\n",
       "    <tr>\n",
       "      <th>1</th>\n",
       "      <td>1068337838</td>\n",
       "      <td>1527214056746229773</td>\n",
       "      <td>2022-05-19 09:06:20+00:00</td>\n",
       "      <td>NaN</td>\n",
       "      <td>1527214056746229773</td>\n",
       "      <td>Ein ganz normaler Tag im Klimakollaps:  Mit de...</td>\n",
       "      <td>215.0</td>\n",
       "      <td>100.0</td>\n",
       "      <td>1427.0</td>\n",
       "      <td>5.0</td>\n",
       "      <td>NaN</td>\n",
       "    </tr>\n",
       "    <tr>\n",
       "      <th>2</th>\n",
       "      <td>1068337838</td>\n",
       "      <td>1527209125851037696</td>\n",
       "      <td>2022-05-19 08:46:44+00:00</td>\n",
       "      <td>NaN</td>\n",
       "      <td>1527209125851037696</td>\n",
       "      <td>RT @350Deutschland: In Germany, the @KoalaKoll...</td>\n",
       "      <td>36.0</td>\n",
       "      <td>0.0</td>\n",
       "      <td>0.0</td>\n",
       "      <td>0.0</td>\n",
       "      <td>NaN</td>\n",
       "    </tr>\n",
       "    <tr>\n",
       "      <th>3</th>\n",
       "      <td>1068337838</td>\n",
       "      <td>1527207260015013889</td>\n",
       "      <td>2022-05-19 08:39:19+00:00</td>\n",
       "      <td>NaN</td>\n",
       "      <td>1527207260015013889</td>\n",
       "      <td>RT @350Deutschland: 1200 km Ölpipeline, 216000...</td>\n",
       "      <td>31.0</td>\n",
       "      <td>0.0</td>\n",
       "      <td>0.0</td>\n",
       "      <td>0.0</td>\n",
       "      <td>NaN</td>\n",
       "    </tr>\n",
       "    <tr>\n",
       "      <th>4</th>\n",
       "      <td>1068337838</td>\n",
       "      <td>1527204602030047232</td>\n",
       "      <td>2022-05-19 08:28:45+00:00</td>\n",
       "      <td>NaN</td>\n",
       "      <td>1527204602030047232</td>\n",
       "      <td>RT @350Deutschland: Die @DeutscheBank untersch...</td>\n",
       "      <td>23.0</td>\n",
       "      <td>0.0</td>\n",
       "      <td>0.0</td>\n",
       "      <td>0.0</td>\n",
       "      <td>NaN</td>\n",
       "    </tr>\n",
       "    <tr>\n",
       "      <th>...</th>\n",
       "      <td>...</td>\n",
       "      <td>...</td>\n",
       "      <td>...</td>\n",
       "      <td>...</td>\n",
       "      <td>...</td>\n",
       "      <td>...</td>\n",
       "      <td>...</td>\n",
       "      <td>...</td>\n",
       "      <td>...</td>\n",
       "      <td>...</td>\n",
       "      <td>...</td>\n",
       "    </tr>\n",
       "    <tr>\n",
       "      <th>30742</th>\n",
       "      <td>1006419421244678144</td>\n",
       "      <td>1007142657720836096</td>\n",
       "      <td>2018-06-14 06:08:16+00:00</td>\n",
       "      <td>NaN</td>\n",
       "      <td>1007142657720836096</td>\n",
       "      <td>RT @daniel_bensson: Obey  the law Move the mon...</td>\n",
       "      <td>15.0</td>\n",
       "      <td>0.0</td>\n",
       "      <td>0.0</td>\n",
       "      <td>0.0</td>\n",
       "      <td>NaN</td>\n",
       "    </tr>\n",
       "    <tr>\n",
       "      <th>30743</th>\n",
       "      <td>1006419421244678144</td>\n",
       "      <td>1007142570839957504</td>\n",
       "      <td>2018-06-14 06:07:55+00:00</td>\n",
       "      <td>NaN</td>\n",
       "      <td>1007142570839957504</td>\n",
       "      <td>RT @PerArnesjo: Slutsatsen: kött och mjölkprod...</td>\n",
       "      <td>18.0</td>\n",
       "      <td>0.0</td>\n",
       "      <td>0.0</td>\n",
       "      <td>0.0</td>\n",
       "      <td>NaN</td>\n",
       "    </tr>\n",
       "    <tr>\n",
       "      <th>30744</th>\n",
       "      <td>1006419421244678144</td>\n",
       "      <td>1006780456539389953</td>\n",
       "      <td>2018-06-13 06:09:00+00:00</td>\n",
       "      <td>NaN</td>\n",
       "      <td>1006780456539389953</td>\n",
       "      <td>RT @circulareconomy: For example, the fashion ...</td>\n",
       "      <td>70.0</td>\n",
       "      <td>0.0</td>\n",
       "      <td>0.0</td>\n",
       "      <td>0.0</td>\n",
       "      <td>NaN</td>\n",
       "    </tr>\n",
       "    <tr>\n",
       "      <th>30745</th>\n",
       "      <td>1006419421244678144</td>\n",
       "      <td>1006584165947576323</td>\n",
       "      <td>2018-06-12 17:09:01+00:00</td>\n",
       "      <td>NaN</td>\n",
       "      <td>1006584165947576323</td>\n",
       "      <td>RT @ParHolmgren: Varmare atmosfär och världsha...</td>\n",
       "      <td>56.0</td>\n",
       "      <td>0.0</td>\n",
       "      <td>0.0</td>\n",
       "      <td>0.0</td>\n",
       "      <td>NaN</td>\n",
       "    </tr>\n",
       "    <tr>\n",
       "      <th>30746</th>\n",
       "      <td>1006419421244678144</td>\n",
       "      <td>1006430009073061888</td>\n",
       "      <td>2018-06-12 06:56:27+00:00</td>\n",
       "      <td>NaN</td>\n",
       "      <td>1006430009073061888</td>\n",
       "      <td>RT @ParHolmgren: Det våras snabbt i Arktis nu,...</td>\n",
       "      <td>41.0</td>\n",
       "      <td>0.0</td>\n",
       "      <td>0.0</td>\n",
       "      <td>0.0</td>\n",
       "      <td>NaN</td>\n",
       "    </tr>\n",
       "  </tbody>\n",
       "</table>\n",
       "<p>30747 rows × 11 columns</p>\n",
       "</div>"
      ],
      "text/plain": [
       "                 author_id      conversation_id                 created_at  \\\n",
       "0               1068337838  1527219801147461632  2022-05-19 09:29:09+00:00   \n",
       "1               1068337838  1527214056746229773  2022-05-19 09:06:20+00:00   \n",
       "2               1068337838  1527209125851037696  2022-05-19 08:46:44+00:00   \n",
       "3               1068337838  1527207260015013889  2022-05-19 08:39:19+00:00   \n",
       "4               1068337838  1527204602030047232  2022-05-19 08:28:45+00:00   \n",
       "...                    ...                  ...                        ...   \n",
       "30742  1006419421244678144  1007142657720836096  2018-06-14 06:08:16+00:00   \n",
       "30743  1006419421244678144  1007142570839957504  2018-06-14 06:07:55+00:00   \n",
       "30744  1006419421244678144  1006780456539389953  2018-06-13 06:09:00+00:00   \n",
       "30745  1006419421244678144  1006584165947576323  2018-06-12 17:09:01+00:00   \n",
       "30746  1006419421244678144  1006430009073061888  2018-06-12 06:56:27+00:00   \n",
       "\n",
       "       geo                   id  \\\n",
       "0      NaN  1527219801147461632   \n",
       "1      NaN  1527214056746229773   \n",
       "2      NaN  1527209125851037696   \n",
       "3      NaN  1527207260015013889   \n",
       "4      NaN  1527204602030047232   \n",
       "...    ...                  ...   \n",
       "30742  NaN  1007142657720836096   \n",
       "30743  NaN  1007142570839957504   \n",
       "30744  NaN  1006780456539389953   \n",
       "30745  NaN  1006584165947576323   \n",
       "30746  NaN  1006430009073061888   \n",
       "\n",
       "                                                    text  retweet_count  \\\n",
       "0      Dieses Video werden die Aktionär:innen der @De...           50.0   \n",
       "1      Ein ganz normaler Tag im Klimakollaps:  Mit de...          215.0   \n",
       "2      RT @350Deutschland: In Germany, the @KoalaKoll...           36.0   \n",
       "3      RT @350Deutschland: 1200 km Ölpipeline, 216000...           31.0   \n",
       "4      RT @350Deutschland: Die @DeutscheBank untersch...           23.0   \n",
       "...                                                  ...            ...   \n",
       "30742  RT @daniel_bensson: Obey  the law Move the mon...           15.0   \n",
       "30743  RT @PerArnesjo: Slutsatsen: kött och mjölkprod...           18.0   \n",
       "30744  RT @circulareconomy: For example, the fashion ...           70.0   \n",
       "30745  RT @ParHolmgren: Varmare atmosfär och världsha...           56.0   \n",
       "30746  RT @ParHolmgren: Det våras snabbt i Arktis nu,...           41.0   \n",
       "\n",
       "       reply_count  like_count  quote_count media_keys  \n",
       "0             15.0       295.0          2.0        NaN  \n",
       "1            100.0      1427.0          5.0        NaN  \n",
       "2              0.0         0.0          0.0        NaN  \n",
       "3              0.0         0.0          0.0        NaN  \n",
       "4              0.0         0.0          0.0        NaN  \n",
       "...            ...         ...          ...        ...  \n",
       "30742          0.0         0.0          0.0        NaN  \n",
       "30743          0.0         0.0          0.0        NaN  \n",
       "30744          0.0         0.0          0.0        NaN  \n",
       "30745          0.0         0.0          0.0        NaN  \n",
       "30746          0.0         0.0          0.0        NaN  \n",
       "\n",
       "[30747 rows x 11 columns]"
      ]
     },
     "execution_count": 52,
     "metadata": {},
     "output_type": "execute_result"
    }
   ],
   "source": [
    "pd.read_csv(\"data/tweets_20220519_1247.csv\", on_bad_lines=\"warn\")"
   ]
  },
  {
   "cell_type": "code",
   "execution_count": null,
   "metadata": {},
   "outputs": [],
   "source": []
  }
 ],
 "metadata": {
  "interpreter": {
   "hash": "fd10460dd3d146ddcd00478931b69fe3eeab4952c1785708c7385e1d4193c119"
  },
  "kernelspec": {
   "display_name": "Python 3",
   "language": "python",
   "name": "python3"
  },
  "language_info": {
   "codemirror_mode": {
    "name": "ipython",
    "version": 3
   },
   "file_extension": ".py",
   "mimetype": "text/x-python",
   "name": "python",
   "nbconvert_exporter": "python",
   "pygments_lexer": "ipython3",
   "version": "3.9.7"
  }
 },
 "nbformat": 4,
 "nbformat_minor": 4
}
