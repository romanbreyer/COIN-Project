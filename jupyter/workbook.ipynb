{
 "cells": [
  {
   "cell_type": "markdown",
   "metadata": {},
   "source": [
    "# COIN Project\n",
    "\n",
    "Authors:\n",
    "\n",
    "    - Mona\n",
    "    - Roman\n",
    "    - Nick\n",
    "    - Mateo"
   ]
  },
  {
   "cell_type": "markdown",
   "metadata": {},
   "source": [
    "# 1. Setup"
   ]
  },
  {
   "cell_type": "markdown",
   "metadata": {},
   "source": [
    "### Packages"
   ]
  },
  {
   "cell_type": "code",
   "execution_count": 119,
   "metadata": {},
   "outputs": [],
   "source": [
    "import pandas as pd\n",
    "import numpy as np\n",
    "import sqlalchemy as sa\n",
    "import tweepy\n",
    "#import dotenv\n",
    "import os\n",
    "import yaml\n",
    "import datetime\n",
    "from pprint import pprint\n",
    "import time\n",
    "import re\n"
   ]
  },
  {
   "cell_type": "markdown",
   "metadata": {},
   "source": [
    "### Environment Variables"
   ]
  },
  {
   "cell_type": "code",
   "execution_count": 120,
   "metadata": {},
   "outputs": [],
   "source": [
    "#dotenv.load_dotenv()"
   ]
  },
  {
   "cell_type": "code",
   "execution_count": 121,
   "metadata": {},
   "outputs": [],
   "source": [
    "with open(\"../twitter.yml\", \"r\") as f:\n",
    "    config = yaml.safe_load(f)"
   ]
  },
  {
   "cell_type": "code",
   "execution_count": 122,
   "metadata": {},
   "outputs": [
    {
     "data": {
      "text/plain": [
       "{'accounts': ['Fridays4future',\n",
       "  'FridayForFuture',\n",
       "  'GretaThunberg',\n",
       "  'Luisamneubauer',\n",
       "  'AnnaUKSCN',\n",
       "  'AnunaDe',\n",
       "  'adelaidecharli2',\n",
       "  'HollyWildChild',\n",
       "  'AlexandriaV2005',\n",
       "  'fff_europe',\n",
       "  'fff_digital',\n",
       "  'FFF_Sweden',\n",
       "  'FFF_Scotland',\n",
       "  'FFF_Berlin',\n",
       "  'FFFireland',\n",
       "  'fff_hamburg'],\n",
       " 'hashtags': {'green': ['EndCoal',\n",
       "   'EndFossilFuels',\n",
       "   'PeopleNotProfit',\n",
       "   'NoMoreEmptyPromises',\n",
       "   'UprootTheSystem',\n",
       "   'FridaysForFuture',\n",
       "   'ClimateAction',\n",
       "   'ClimateJustice',\n",
       "   'ClimateEmergency',\n",
       "   'ClimateStrike',\n",
       "   'SaveThePlanet'],\n",
       "  'brown': ['climatescam',\n",
       "   'climatechangehoax',\n",
       "   'fakeclimate',\n",
       "   'climatehoax',\n",
       "   'globalwarmingisahoax'],\n",
       "  'neutral': ['ClimateCrisis', 'ClimateChange', 'Climate', 'GlobalWarming']}}"
      ]
     },
     "execution_count": 122,
     "metadata": {},
     "output_type": "execute_result"
    }
   ],
   "source": [
    "config"
   ]
  },
  {
   "cell_type": "markdown",
   "metadata": {},
   "source": [
    "### Database Connection"
   ]
  },
  {
   "cell_type": "code",
   "execution_count": 123,
   "metadata": {},
   "outputs": [],
   "source": [
    "#TBD"
   ]
  },
  {
   "cell_type": "markdown",
   "metadata": {},
   "source": [
    "### Twitter API Connection"
   ]
  },
  {
   "cell_type": "code",
   "execution_count": 124,
   "metadata": {},
   "outputs": [],
   "source": [
    "#Research Access:\n",
    "bearer_token = 'AAAAAAAAAAAAAAAAAAAAAGjtbgEAAAAAyx9oZIai1hXZ9OyDhUUFMZQivpc%3DUunewUXR9hw3nyKQhjqdmfg7zSAoa1nPv6WKLLSPB7OwKwYBP3'\n",
    "\n",
    "#Initializing the client to request the Twitter API\n",
    "client = tweepy.Client(bearer_token, wait_on_rate_limit=True)\n",
    "\n",
    "#expansions = ['attachments.poll_ids', 'attachments.media_keys', 'author_id', 'entities.mentions.username', 'geo.place_id', 'in_reply_to_user_id', 'referenced_tweets.id', 'referenced_tweets.id.author_id']\n",
    "expansions = ['attachments.media_keys','author_id','geo.place_id','referenced_tweets.id', 'entities.mentions.username','referenced_tweets.id.author_id']\n",
    "max_results = 500\n",
    "media_fields = [\"duration_ms\", \"height\", \"media_key\", \"preview_image_url\", \"type\", \"url\", \"width\", \"public_metrics\", \"non_public_metrics\", \"organic_metrics\", \"promoted_metrics\", \"alt_text\"]\n",
    "#next_token = ''#(str | None) – This parameter is used to get the next ‘page’ of results. The value used with the parameter is pulled directly from the response provided by the API, and should not be modified. You can learn more by visiting our page on pagination.\n",
    "place_fields = ['country', 'country_code', 'full_name', 'geo', 'id', 'name', 'place_type']\n",
    "#poll_fields #(list[str] | str | None) – poll_fields\n",
    "#since_id #(int | str | None) – Returns results with a Tweet ID greater than (for example, more recent than) the specified ID. The ID specified is exclusive and responses will not include it. If included with the same request as a start_time parameter, only since_id will be used.\n",
    "sort_order = 'recency'\n",
    "start_time = '2022-06-10T00:00:00Z' #(datetime.datetime | str | None) – YYYY-MM-DDTHH:mm:ssZ (ISO 8601/RFC 3339). The oldest UTC timestamp from which the Tweets will be provided. Timestamp is in second granularity and is inclusive (for example, 12:00:01 includes the first second of the minute). By default, a request will return Tweets from up to 30 days ago if you do not include this parameter.\n",
    "#end_time = '2019-07-15T23:00:00Z'\n",
    "#tweet_fields = [\"attachments\", \"author_id\", \"context_annotations\", \"conversation_id\", \"created_at\", \"entities\", \"geo\", \"id\", \"in_reply_to_user_id\", \"lang\", \"non_public_metrics\", \"public_metrics\", \"organic_metrics\", \"promoted_metrics\", \"possibly_sensitive\", \"referenced_tweets\", \"reply_settings\", \"source\", \"text\", \"withheld\"]\n",
    "tweet_fields = [\"attachments\",\"author_id\", \"conversation_id\",\"created_at\",\"referenced_tweets\",\"geo\",\"public_metrics\"]\n",
    "#until_id #(int | str | None) – Returns results with a Tweet ID less than (that is, older than) the specified ID. Used with since_id. The ID specified is exclusive and responses will not include it.\n",
    "#user_fields can be extracted from the .includes attribute of the tweepy response\n",
    "user_fields = [\"created_at\", \"description\", \"location\", \"name\", \"pinned_tweet_id\", \"profile_image_url\", \"protected\", \"public_metrics\", \"url\", \"username\", \"verified\", \"withheld\"]\n"
   ]
  },
  {
   "cell_type": "markdown",
   "metadata": {
    "tags": []
   },
   "source": [
    "# 2. Load and Transform Data"
   ]
  },
  {
   "cell_type": "markdown",
   "metadata": {},
   "source": [
    "### 2.1 Load"
   ]
  },
  {
   "cell_type": "code",
   "execution_count": 150,
   "metadata": {},
   "outputs": [
    {
     "data": {
      "text/plain": [
       "\"query_list = ['FridaysForFuture -is:retweet',\\n              'SchoolStrike4Climate -is:retweet']\""
      ]
     },
     "execution_count": 150,
     "metadata": {},
     "output_type": "execute_result"
    }
   ],
   "source": [
    "#specify tweets to look up\n",
    "\n",
    "#query_list = ['from:Luisamneubauer -is:retweet']\n",
    "\n",
    "query_list = ['FridaysForFuture -is:retweet']\n",
    "\n",
    "\n",
    "''''query_list = ['from:Fridays4future -is:retweet',\n",
    "              'from:FridayForFuture -is:retweet',\n",
    "              'from:GretaThunberg -is:retweet',\n",
    "              'from:Luisamneubauer -is:retweet',\n",
    "              'from:AnnaUKSCN -is:retweet',\n",
    "              'from:AnunaDe -is:retweet',\n",
    "              'from:adelaidecharli2 -is:retweet',\n",
    "              'from:HollyWildChild -is:retweet',\n",
    "              'from:AlexandriaV2005 -is:retweet',\n",
    "              'from:fff_europe -is:retweet',\n",
    "              'from:fff_digital -is:retweet',\n",
    "              'from:FFF_Sweden -is:retweet',\n",
    "              'from:FFF_Scotland -is:retweet',\n",
    "              'from:FFF_Berlin -is:retweet',\n",
    "              'from:FFFireland -is:retweet',\n",
    "              'from:fff_hamburg -is:retweet'''''\n",
    "\n",
    "'''query_list = ['FridaysForFuture -is:retweet',\n",
    "              'SchoolStrike4Climate -is:retweet']'''\n"
   ]
  },
  {
   "cell_type": "code",
   "execution_count": 151,
   "metadata": {},
   "outputs": [],
   "source": [
    "def search_all_tweets(query):\n",
    "    response = client.search_all_tweets(\n",
    "                               query=query\n",
    "                              ,expansions=expansions\n",
    "                              ,max_results=max_results\n",
    "                              ,media_fields=media_fields\n",
    "                              ,place_fields=place_fields\n",
    "                              ,sort_order=sort_order\n",
    "                              ,start_time=start_time\n",
    "                              #,end_time=end_time\n",
    "                              ,tweet_fields=tweet_fields\n",
    "                              ,user_fields=user_fields\n",
    "                            )\n",
    "    return response"
   ]
  },
  {
   "cell_type": "code",
   "execution_count": 152,
   "metadata": {},
   "outputs": [],
   "source": [
    "def search_all_tweets_with_next_token(query, next_token):\n",
    "    response = client.search_all_tweets(\n",
    "                               query=query\n",
    "                              ,expansions=expansions\n",
    "                              ,max_results=max_results\n",
    "                              ,media_fields=media_fields\n",
    "                              ,place_fields=place_fields\n",
    "                              ,sort_order=sort_order\n",
    "                              ,start_time=start_time\n",
    "                              #,end_time=end_time\n",
    "                              ,tweet_fields=tweet_fields\n",
    "                              ,user_fields=user_fields\n",
    "                              ,next_token=next_token\n",
    "                            )\n",
    "    return response"
   ]
  },
  {
   "cell_type": "code",
   "execution_count": 153,
   "metadata": {},
   "outputs": [],
   "source": [
    "def fetch_all_data(query, iteration_count, next_token):\n",
    "\n",
    "    \"\"\" Fetches iteration_count * 100 Tweets from Twitter API using the set query params, including the initial next_token\n",
    "    \n",
    "    Parameters:\n",
    "    ------------\n",
    "    * iteration_count     : Integer indicating the max number of requests \n",
    "    * next_token          : String containing the next token for pagination\n",
    "    \n",
    "    \"\"\"\n",
    "    \n",
    "    # Initializing the return parameters\n",
    "    tweets = []\n",
    "    users = []\n",
    "    ref_tweets = []\n",
    "    media = []\n",
    "    places = []\n",
    "    \n",
    "    for i in range(0, iteration_count):\n",
    "\n",
    "        if(len(next_token) == 0):\n",
    "            response = search_all_tweets(query)\n",
    "        else:\n",
    "            response = search_all_tweets_with_next_token(query, next_token)\n",
    "\n",
    "        tweets.append(response.data)\n",
    "        users.append(response.includes['users'])\n",
    "        ref_tweets.append(response.includes['tweets'])\n",
    "        if \"media\" in response.includes.keys():\n",
    "            media.append(response.includes['media'])\n",
    "        \n",
    "        if('places' in response.includes.keys()):\n",
    "            places.append(response.includes['places'])\n",
    "            \n",
    "        try:\n",
    "            next_token = response.meta['next_token']\n",
    "        except:\n",
    "            print('No more Tweets to fetch')\n",
    "            break\n",
    "\n",
    "\n",
    "    # Logging the last next_token for pagination into console --> needed for later requesting of the next tweets\n",
    "    if('next_token' in response.meta):\n",
    "        print(response.meta['next_token'])\n",
    "        \n",
    "    return tweets, users, ref_tweets, media, places"
   ]
  },
  {
   "cell_type": "code",
   "execution_count": 154,
   "metadata": {},
   "outputs": [],
   "source": [
    "def unpack_dict(unpack_dict):\n",
    "    unpacked = [v for k, v in unpack_dict.items()]\n",
    "    return unpacked\n",
    "def unpack_attachment(attachment_dict):\n",
    "    return \"|\".join(attachment_dict[\"media_keys\"]) if \"media_keys\" in attachment_dict.keys() else np.nan\n",
    "def unpack_geo(geo_dict):\n",
    "    return geo_dict[\"type\"], \"|\".join([str(x) for x in geo_dict[\"bbox\"]])\n",
    "def unpack_geo_2(geo_dict):\n",
    "    return geo_dict[\"place_id\"]"
   ]
  },
  {
   "cell_type": "code",
   "execution_count": 155,
   "metadata": {},
   "outputs": [],
   "source": [
    "def query_tweets(query):    \n",
    "    tweets, users, ref_tweets, media, places = fetch_all_data(query, 100000, '')\n",
    "\n",
    "    user_df = pd.DataFrame(data=[user for sublist in users for user in sublist])\n",
    "    tweet_df = pd.DataFrame(data=[tweet for sublist in tweets for tweet in sublist])\n",
    "    ref_tweet_df = pd.DataFrame(data=[tweet for sublist in ref_tweets for tweet in sublist])\n",
    "    media_df = pd.DataFrame(data=[item for sublist in media for item in sublist])\n",
    "    place_df = pd.DataFrame(data=[place for sublist in places for place in sublist])\n",
    "    \n",
    "    user_df[[\"followers_count\", \"following_count\", \"tweet_count\", \"listed_count\"]] = user_df.apply(lambda x: unpack_dict(x[\"public_metrics\"]), axis=1, result_type=\"expand\")\n",
    "    del user_df[\"public_metrics\"]\n",
    "\n",
    "    tweet_df[[\"retweet_count\", \"reply_count\", \"like_count\", \"quote_count\"]] = tweet_df.apply(lambda x: unpack_dict(x[\"public_metrics\"]), axis=1, result_type=\"expand\")\n",
    "    tweet_df[\"media_keys\"] = tweet_df.loc[tweet_df[\"attachments\"].notna()].apply(lambda x: unpack_attachment(x[\"attachments\"]), axis=1, result_type=\"expand\")\n",
    "    del tweet_df[\"public_metrics\"]\n",
    "    del tweet_df[\"attachments\"]\n",
    "    del tweet_df[\"referenced_tweets\"]\n",
    "\n",
    "    ref_tweet_df[['retweet_count', 'reply_count', 'like_count', 'quote_count']] = ref_tweet_df.apply(lambda x: unpack_dict(x[\"public_metrics\"]), axis=1, result_type=\"expand\")\n",
    "    ref_tweet_df[\"media_keys\"] = ref_tweet_df.loc[ref_tweet_df[\"attachments\"].notna()].apply(lambda x: unpack_attachment(x[\"attachments\"]), axis=1, result_type=\"expand\")\n",
    "    #ref_tweet_df['place_id'] = ref_tweet_df.loc[ref_tweet_df[\"geo\"].notna()].apply(lambda x: unpack_geo_2(x[\"geo\"]), axis=1, result_type=\"expand\")\n",
    "    del ref_tweet_df[\"public_metrics\"]\n",
    "    del ref_tweet_df[\"attachments\"]\n",
    "    #del ref_tweet_df[\"geo\"]\n",
    "    del ref_tweet_df[\"referenced_tweets\"]\n",
    "    \n",
    "    '''if \"geo\" in place_df.columns:\n",
    "        place_df[[\"type\", \"coordinates\"]] = place_df.loc[place_df[\"geo\"].notna()].apply(lambda x: unpack_geo(x[\"geo\"]), axis=1, result_type=\"expand\")\n",
    "        del place_df[\"geo\"]'''\n",
    "        \n",
    "    tweet_df.text = tweet_df.text.apply(lambda x: re.sub(r\"[^A-Za-z0-9\\w\\s:@,]\", \"\", x))\n",
    "    return user_df, tweet_df, ref_tweet_df, place_df, media_df"
   ]
  },
  {
   "cell_type": "code",
   "execution_count": 156,
   "metadata": {},
   "outputs": [
    {
     "name": "stdout",
     "output_type": "stream",
     "text": [
      "FridaysForFuture -is:retweet\n",
      "No more Tweets to fetch\n"
     ]
    }
   ],
   "source": [
    "all_user = all_tweets = all_ref_tweets = all_places = all_media = pd.DataFrame()\n",
    "for i in query_list:\n",
    "    print(i)\n",
    "    user_df, tweet_df, ref_tweet_df, place_df, media_df = query_tweets(i)\n",
    "    all_user = pd.concat([all_user, user_df])\n",
    "    all_tweets = pd.concat([all_tweets, tweet_df])\n",
    "    all_ref_tweets = pd.concat([all_ref_tweets, ref_tweet_df])\n",
    "    all_places = pd.concat([all_places, place_df])\n",
    "    all_media = pd.concat([all_media, media_df])\n",
    "    \n",
    "    #time.sleep(60)\n",
    "    "
   ]
  },
  {
   "cell_type": "code",
   "execution_count": 157,
   "metadata": {},
   "outputs": [
    {
     "data": {
      "text/plain": [
       "(908, 13)"
      ]
     },
     "execution_count": 157,
     "metadata": {},
     "output_type": "execute_result"
    }
   ],
   "source": [
    "#add usernames to all_tweets dataframe\n",
    "all_user.rename(columns={\"id\": \"author_id\"}, inplace=True)\n",
    "all_tweets = pd.merge(all_tweets,all_user[['author_id','username']],on='author_id', how='inner')\n",
    "all_tweets = all_tweets.drop_duplicates('id')\n",
    "all_tweets.shape"
   ]
  },
  {
   "cell_type": "code",
   "execution_count": 158,
   "metadata": {},
   "outputs": [
    {
     "data": {
      "text/plain": [
       "created_at             0\n",
       "description            0\n",
       "author_id              0\n",
       "location             371\n",
       "name                   0\n",
       "pinned_tweet_id      595\n",
       "profile_image_url      0\n",
       "protected              0\n",
       "url                    0\n",
       "username               0\n",
       "verified               0\n",
       "followers_count        0\n",
       "following_count        0\n",
       "tweet_count            0\n",
       "listed_count           0\n",
       "dtype: int64"
      ]
     },
     "execution_count": 158,
     "metadata": {},
     "output_type": "execute_result"
    }
   ],
   "source": [
    "all_user.isnull().sum()"
   ]
  },
  {
   "cell_type": "code",
   "execution_count": 159,
   "metadata": {},
   "outputs": [
    {
     "data": {
      "text/html": [
       "<div>\n",
       "<style scoped>\n",
       "    .dataframe tbody tr th:only-of-type {\n",
       "        vertical-align: middle;\n",
       "    }\n",
       "\n",
       "    .dataframe tbody tr th {\n",
       "        vertical-align: top;\n",
       "    }\n",
       "\n",
       "    .dataframe thead th {\n",
       "        text-align: right;\n",
       "    }\n",
       "</style>\n",
       "<table border=\"1\" class=\"dataframe\">\n",
       "  <thead>\n",
       "    <tr style=\"text-align: right;\">\n",
       "      <th></th>\n",
       "      <th>created_at</th>\n",
       "      <th>description</th>\n",
       "      <th>author_id</th>\n",
       "      <th>location</th>\n",
       "      <th>name</th>\n",
       "      <th>pinned_tweet_id</th>\n",
       "      <th>profile_image_url</th>\n",
       "      <th>protected</th>\n",
       "      <th>url</th>\n",
       "      <th>username</th>\n",
       "      <th>verified</th>\n",
       "      <th>followers_count</th>\n",
       "      <th>following_count</th>\n",
       "      <th>tweet_count</th>\n",
       "      <th>listed_count</th>\n",
       "    </tr>\n",
       "  </thead>\n",
       "  <tbody>\n",
       "    <tr>\n",
       "      <th>0</th>\n",
       "      <td>2009-07-21 02:39:13+00:00</td>\n",
       "      <td>Public policy action tank working at the inter...</td>\n",
       "      <td>58678379</td>\n",
       "      <td>New York City</td>\n",
       "      <td>Brighter Green</td>\n",
       "      <td>1.535312e+18</td>\n",
       "      <td>https://pbs.twimg.com/profile_images/147124056...</td>\n",
       "      <td>False</td>\n",
       "      <td>https://t.co/jbv4qJQOiL</td>\n",
       "      <td>BrighterGreenNY</td>\n",
       "      <td>False</td>\n",
       "      <td>1804</td>\n",
       "      <td>1526</td>\n",
       "      <td>9138</td>\n",
       "      <td>130</td>\n",
       "    </tr>\n",
       "    <tr>\n",
       "      <th>1</th>\n",
       "      <td>2019-11-26 14:22:07+00:00</td>\n",
       "      <td>netstat -a</td>\n",
       "      <td>1199332435701485569</td>\n",
       "      <td>NaN</td>\n",
       "      <td>SZ40/42</td>\n",
       "      <td>NaN</td>\n",
       "      <td>https://pbs.twimg.com/profile_images/153641497...</td>\n",
       "      <td>False</td>\n",
       "      <td></td>\n",
       "      <td>42Sz40</td>\n",
       "      <td>False</td>\n",
       "      <td>193</td>\n",
       "      <td>367</td>\n",
       "      <td>173209</td>\n",
       "      <td>9</td>\n",
       "    </tr>\n",
       "    <tr>\n",
       "      <th>2</th>\n",
       "      <td>2018-10-20 22:04:14+00:00</td>\n",
       "      <td>#FridaysForFuture International 🌎 | Global, yo...</td>\n",
       "      <td>1053768884732547072</td>\n",
       "      <td>Earth</td>\n",
       "      <td>Fridays For Future</td>\n",
       "      <td>1.485946e+18</td>\n",
       "      <td>https://pbs.twimg.com/profile_images/148599110...</td>\n",
       "      <td>False</td>\n",
       "      <td>https://t.co/0V5VnFSl7c</td>\n",
       "      <td>Fridays4future</td>\n",
       "      <td>True</td>\n",
       "      <td>137436</td>\n",
       "      <td>1269</td>\n",
       "      <td>9718</td>\n",
       "      <td>1225</td>\n",
       "    </tr>\n",
       "    <tr>\n",
       "      <th>3</th>\n",
       "      <td>2013-09-28 23:34:03+00:00</td>\n",
       "      <td>Ex-Marine, Sozialarbeiter,Hilfe für Obdachlose...</td>\n",
       "      <td>1915629968</td>\n",
       "      <td>Lake of Constance</td>\n",
       "      <td>Der Pep-Flüsterer®️</td>\n",
       "      <td>1.531338e+18</td>\n",
       "      <td>https://pbs.twimg.com/profile_images/153279764...</td>\n",
       "      <td>False</td>\n",
       "      <td></td>\n",
       "      <td>FCBayernMinga</td>\n",
       "      <td>False</td>\n",
       "      <td>28</td>\n",
       "      <td>32</td>\n",
       "      <td>1892</td>\n",
       "      <td>1</td>\n",
       "    </tr>\n",
       "    <tr>\n",
       "      <th>4</th>\n",
       "      <td>2020-03-29 16:58:19+00:00</td>\n",
       "      <td>80 years ago, 'the struggle for victory over H...</td>\n",
       "      <td>1244306606441070594</td>\n",
       "      <td>UN Website🔗=2015 Declaration→</td>\n",
       "      <td>#MarchForTheUNcharter 14th June 1942 (1st UN Day)</td>\n",
       "      <td>1.474175e+18</td>\n",
       "      <td>https://pbs.twimg.com/profile_images/148127986...</td>\n",
       "      <td>False</td>\n",
       "      <td>https://t.co/KjrVWOnQ3d</td>\n",
       "      <td>TheCartHorse1</td>\n",
       "      <td>False</td>\n",
       "      <td>5235</td>\n",
       "      <td>5756</td>\n",
       "      <td>124532</td>\n",
       "      <td>12</td>\n",
       "    </tr>\n",
       "  </tbody>\n",
       "</table>\n",
       "</div>"
      ],
      "text/plain": [
       "                 created_at  \\\n",
       "0 2009-07-21 02:39:13+00:00   \n",
       "1 2019-11-26 14:22:07+00:00   \n",
       "2 2018-10-20 22:04:14+00:00   \n",
       "3 2013-09-28 23:34:03+00:00   \n",
       "4 2020-03-29 16:58:19+00:00   \n",
       "\n",
       "                                         description            author_id  \\\n",
       "0  Public policy action tank working at the inter...             58678379   \n",
       "1                                         netstat -a  1199332435701485569   \n",
       "2  #FridaysForFuture International 🌎 | Global, yo...  1053768884732547072   \n",
       "3  Ex-Marine, Sozialarbeiter,Hilfe für Obdachlose...           1915629968   \n",
       "4  80 years ago, 'the struggle for victory over H...  1244306606441070594   \n",
       "\n",
       "                        location  \\\n",
       "0                  New York City   \n",
       "1                            NaN   \n",
       "2                          Earth   \n",
       "3              Lake of Constance   \n",
       "4  UN Website🔗=2015 Declaration→   \n",
       "\n",
       "                                                name  pinned_tweet_id  \\\n",
       "0                                     Brighter Green     1.535312e+18   \n",
       "1                                            SZ40/42              NaN   \n",
       "2                                 Fridays For Future     1.485946e+18   \n",
       "3                                Der Pep-Flüsterer®️     1.531338e+18   \n",
       "4  #MarchForTheUNcharter 14th June 1942 (1st UN Day)     1.474175e+18   \n",
       "\n",
       "                                   profile_image_url  protected  \\\n",
       "0  https://pbs.twimg.com/profile_images/147124056...      False   \n",
       "1  https://pbs.twimg.com/profile_images/153641497...      False   \n",
       "2  https://pbs.twimg.com/profile_images/148599110...      False   \n",
       "3  https://pbs.twimg.com/profile_images/153279764...      False   \n",
       "4  https://pbs.twimg.com/profile_images/148127986...      False   \n",
       "\n",
       "                       url         username  verified  followers_count  \\\n",
       "0  https://t.co/jbv4qJQOiL  BrighterGreenNY     False             1804   \n",
       "1                                    42Sz40     False              193   \n",
       "2  https://t.co/0V5VnFSl7c   Fridays4future      True           137436   \n",
       "3                             FCBayernMinga     False               28   \n",
       "4  https://t.co/KjrVWOnQ3d    TheCartHorse1     False             5235   \n",
       "\n",
       "   following_count  tweet_count  listed_count  \n",
       "0             1526         9138           130  \n",
       "1              367       173209             9  \n",
       "2             1269         9718          1225  \n",
       "3               32         1892             1  \n",
       "4             5756       124532            12  "
      ]
     },
     "execution_count": 159,
     "metadata": {},
     "output_type": "execute_result"
    }
   ],
   "source": [
    "all_user.head()"
   ]
  },
  {
   "cell_type": "code",
   "execution_count": 160,
   "metadata": {},
   "outputs": [
    {
     "data": {
      "text/html": [
       "<div>\n",
       "<style scoped>\n",
       "    .dataframe tbody tr th:only-of-type {\n",
       "        vertical-align: middle;\n",
       "    }\n",
       "\n",
       "    .dataframe tbody tr th {\n",
       "        vertical-align: top;\n",
       "    }\n",
       "\n",
       "    .dataframe thead th {\n",
       "        text-align: right;\n",
       "    }\n",
       "</style>\n",
       "<table border=\"1\" class=\"dataframe\">\n",
       "  <thead>\n",
       "    <tr style=\"text-align: right;\">\n",
       "      <th></th>\n",
       "      <th>author_id</th>\n",
       "      <th>conversation_id</th>\n",
       "      <th>created_at</th>\n",
       "      <th>entities</th>\n",
       "      <th>geo</th>\n",
       "      <th>id</th>\n",
       "      <th>text</th>\n",
       "      <th>retweet_count</th>\n",
       "      <th>reply_count</th>\n",
       "      <th>like_count</th>\n",
       "      <th>quote_count</th>\n",
       "      <th>media_keys</th>\n",
       "      <th>username</th>\n",
       "    </tr>\n",
       "  </thead>\n",
       "  <tbody>\n",
       "    <tr>\n",
       "      <th>0</th>\n",
       "      <td>58678379</td>\n",
       "      <td>1536418637925388289</td>\n",
       "      <td>2022-06-13 18:42:03+00:00</td>\n",
       "      <td>NaN</td>\n",
       "      <td>NaN</td>\n",
       "      <td>1536418637925388289</td>\n",
       "      <td>Education is a human right FridaysForFuture Ed...</td>\n",
       "      <td>0</td>\n",
       "      <td>0</td>\n",
       "      <td>0</td>\n",
       "      <td>0</td>\n",
       "      <td>3_1536418348635852800</td>\n",
       "      <td>BrighterGreenNY</td>\n",
       "    </tr>\n",
       "    <tr>\n",
       "      <th>1</th>\n",
       "      <td>1199332435701485569</td>\n",
       "      <td>1536418394227998723</td>\n",
       "      <td>2022-06-13 18:41:05+00:00</td>\n",
       "      <td>{'mentions': [{'start': 0, 'end': 15, 'usernam...</td>\n",
       "      <td>NaN</td>\n",
       "      <td>1536418394227998723</td>\n",
       "      <td>@Fridays4future\\nTelegram \\nwechat \\nTwitter \\...</td>\n",
       "      <td>0</td>\n",
       "      <td>0</td>\n",
       "      <td>0</td>\n",
       "      <td>0</td>\n",
       "      <td>NaN</td>\n",
       "      <td>42Sz40</td>\n",
       "    </tr>\n",
       "    <tr>\n",
       "      <th>2</th>\n",
       "      <td>1199332435701485569</td>\n",
       "      <td>1536417337468932096</td>\n",
       "      <td>2022-06-13 18:36:53+00:00</td>\n",
       "      <td>{'mentions': [{'start': 0, 'end': 15, 'usernam...</td>\n",
       "      <td>NaN</td>\n",
       "      <td>1536417337468932096</td>\n",
       "      <td>@Fridays4future\\nTelegram \\nwechat \\nTwitter \\...</td>\n",
       "      <td>0</td>\n",
       "      <td>0</td>\n",
       "      <td>0</td>\n",
       "      <td>0</td>\n",
       "      <td>NaN</td>\n",
       "      <td>42Sz40</td>\n",
       "    </tr>\n",
       "    <tr>\n",
       "      <th>3</th>\n",
       "      <td>1199332435701485569</td>\n",
       "      <td>1536408734301360131</td>\n",
       "      <td>2022-06-13 18:02:42+00:00</td>\n",
       "      <td>{'mentions': [{'start': 0, 'end': 15, 'usernam...</td>\n",
       "      <td>NaN</td>\n",
       "      <td>1536408734301360131</td>\n",
       "      <td>@Fridays4future\\nTelegram \\nwechat \\nTwitter \\...</td>\n",
       "      <td>0</td>\n",
       "      <td>0</td>\n",
       "      <td>0</td>\n",
       "      <td>0</td>\n",
       "      <td>NaN</td>\n",
       "      <td>42Sz40</td>\n",
       "    </tr>\n",
       "    <tr>\n",
       "      <th>4</th>\n",
       "      <td>1199332435701485569</td>\n",
       "      <td>1535921031482949632</td>\n",
       "      <td>2022-06-12 09:44:44+00:00</td>\n",
       "      <td>{'mentions': [{'start': 0, 'end': 15, 'usernam...</td>\n",
       "      <td>NaN</td>\n",
       "      <td>1535921031482949632</td>\n",
       "      <td>@Fridays4future\\nTelegram \\nwechat \\nTwitter \\...</td>\n",
       "      <td>0</td>\n",
       "      <td>0</td>\n",
       "      <td>0</td>\n",
       "      <td>0</td>\n",
       "      <td>NaN</td>\n",
       "      <td>42Sz40</td>\n",
       "    </tr>\n",
       "  </tbody>\n",
       "</table>\n",
       "</div>"
      ],
      "text/plain": [
       "             author_id      conversation_id                created_at  \\\n",
       "0             58678379  1536418637925388289 2022-06-13 18:42:03+00:00   \n",
       "1  1199332435701485569  1536418394227998723 2022-06-13 18:41:05+00:00   \n",
       "2  1199332435701485569  1536417337468932096 2022-06-13 18:36:53+00:00   \n",
       "3  1199332435701485569  1536408734301360131 2022-06-13 18:02:42+00:00   \n",
       "4  1199332435701485569  1535921031482949632 2022-06-12 09:44:44+00:00   \n",
       "\n",
       "                                            entities  geo  \\\n",
       "0                                                NaN  NaN   \n",
       "1  {'mentions': [{'start': 0, 'end': 15, 'usernam...  NaN   \n",
       "2  {'mentions': [{'start': 0, 'end': 15, 'usernam...  NaN   \n",
       "3  {'mentions': [{'start': 0, 'end': 15, 'usernam...  NaN   \n",
       "4  {'mentions': [{'start': 0, 'end': 15, 'usernam...  NaN   \n",
       "\n",
       "                    id                                               text  \\\n",
       "0  1536418637925388289  Education is a human right FridaysForFuture Ed...   \n",
       "1  1536418394227998723  @Fridays4future\\nTelegram \\nwechat \\nTwitter \\...   \n",
       "2  1536417337468932096  @Fridays4future\\nTelegram \\nwechat \\nTwitter \\...   \n",
       "3  1536408734301360131  @Fridays4future\\nTelegram \\nwechat \\nTwitter \\...   \n",
       "4  1535921031482949632  @Fridays4future\\nTelegram \\nwechat \\nTwitter \\...   \n",
       "\n",
       "   retweet_count  reply_count  like_count  quote_count             media_keys  \\\n",
       "0              0            0           0            0  3_1536418348635852800   \n",
       "1              0            0           0            0                    NaN   \n",
       "2              0            0           0            0                    NaN   \n",
       "3              0            0           0            0                    NaN   \n",
       "4              0            0           0            0                    NaN   \n",
       "\n",
       "          username  \n",
       "0  BrighterGreenNY  \n",
       "1           42Sz40  \n",
       "2           42Sz40  \n",
       "3           42Sz40  \n",
       "4           42Sz40  "
      ]
     },
     "execution_count": 160,
     "metadata": {},
     "output_type": "execute_result"
    }
   ],
   "source": [
    "all_tweets.head()"
   ]
  },
  {
   "cell_type": "code",
   "execution_count": null,
   "metadata": {},
   "outputs": [],
   "source": []
  },
  {
   "cell_type": "code",
   "execution_count": null,
   "metadata": {},
   "outputs": [],
   "source": []
  },
  {
   "cell_type": "code",
   "execution_count": 31,
   "metadata": {},
   "outputs": [],
   "source": [
    "df = pd.DataFrame(columns=[\n",
    "        'SRC_FOLLOWERS_COUNT', #followers_count\n",
    "        'SRC_FRIENDS_COUNT', #following_count\n",
    "        'SRC_LISTED_COUNT', #listed_count\n",
    "        'SRC_STATUSES_COUNT', #tweet_count\n",
    "        'SRC_NAME', #username\n",
    "        'SRC_SCREEN_NAME', #name\n",
    "        'SRC_ID_STR', #author_id\n",
    "        'TEXT', #text\n",
    "        'CREATED_AT', #created_at\n",
    "        'HASHTAGS', #\n",
    "        'DST_NAME',\n",
    "        'DST_SCREEN_NAME',\n",
    "        'DST_ID_STR',\n",
    "        'TIME',\n",
    "        'SRC',\n",
    "        'DST'])"
   ]
  },
  {
   "cell_type": "code",
   "execution_count": null,
   "metadata": {},
   "outputs": [],
   "source": []
  },
  {
   "cell_type": "code",
   "execution_count": null,
   "metadata": {},
   "outputs": [],
   "source": []
  },
  {
   "cell_type": "code",
   "execution_count": null,
   "metadata": {},
   "outputs": [],
   "source": []
  },
  {
   "cell_type": "code",
   "execution_count": null,
   "metadata": {},
   "outputs": [],
   "source": []
  },
  {
   "cell_type": "code",
   "execution_count": 53,
   "metadata": {},
   "outputs": [],
   "source": [
    "#Option 1: Save data as separate files\n",
    "\n",
    "#save dataframe to csv\n",
    "all_user.to_csv(\"users.csv\", index=False)\n",
    "all_tweets.to_csv(\"tweets.csv\", index=False)\n",
    "all_ref_tweets.to_csv(\"reftweets.csv\", index=False, header=False)\n",
    "all_places.to_csv(\"places.csv\", index=False)\n",
    "all_media.to_csv(\"media.csv\", index=False)\n"
   ]
  },
  {
   "cell_type": "code",
   "execution_count": 54,
   "metadata": {
    "scrolled": true
   },
   "outputs": [
    {
     "name": "stdout",
     "output_type": "stream",
     "text": [
      "Number of tweets fetched (rows, columns): (892, 12)\n",
      "Number of users, both authors AND mentioned users (rows, columns): (724, 15)\n",
      "Number of ref_tweets (rows, columns): (350, 11)\n",
      "Number of places, tagged by users in tweets (rows, columns): (38, 7)\n",
      "Number of media in tweets (rows, columns): (390, 9)\n"
     ]
    }
   ],
   "source": [
    "print('Number of tweets fetched (rows, columns):', all_tweets.shape)\n",
    "print('Number of users, both authors AND mentioned users (rows, columns):', all_user.shape)\n",
    "print('Number of ref_tweets (rows, columns):', all_ref_tweets.shape)\n",
    "print('Number of places, tagged by users in tweets (rows, columns):', all_places.shape)\n",
    "print('Number of media in tweets (rows, columns):', all_media.shape)"
   ]
  },
  {
   "cell_type": "code",
   "execution_count": 5,
   "metadata": {},
   "outputs": [
    {
     "name": "stderr",
     "output_type": "stream",
     "text": [
      "/Applications/anaconda3/lib/python3.7/site-packages/IPython/core/interactiveshell.py:3166: DtypeWarning: Columns (6) have mixed types.Specify dtype option on import or set low_memory=False.\n",
      "  interactivity=interactivity, compiler=compiler, result=result)\n"
     ]
    }
   ],
   "source": [
    "'''all_user = pd.read_csv('users.csv', lineterminator='\\n')\n",
    "all_tweets = pd.read_csv('tweets.csv', lineterminator='\\n')\n",
    " '''"
   ]
  },
  {
   "cell_type": "code",
   "execution_count": null,
   "metadata": {},
   "outputs": [],
   "source": [
    "#Option 2: Save data (user + tweets) in one file\n",
    "\n",
    "twitter_dataset = pd.merge(all_tweets,all_user, on='author_id')\n",
    "twitter_dataset = twitter_dataset.drop_duplicates('id')\n",
    "twitter_dataset.to_csv(\"tweets_european_accounts.csv\", index=False)\n",
    "print('Shape joint dataset (rows, columns):', twitter_dataset.shape)"
   ]
  },
  {
   "cell_type": "code",
   "execution_count": null,
   "metadata": {},
   "outputs": [],
   "source": [
    "#---user---#\n",
    "#authors and mentioned users\n",
    "\n",
    "#---tweets---#\n",
    "#tweets that are either from a specified account or include a specfified hashtag\n",
    "\n",
    "#---ref_tweets---#\n",
    "#A list of Tweets this Tweet refers to. For example, if the parent Tweet is a Retweet,\n",
    "#a Retweet with comment (also known as Quoted Tweet) or a Reply, it will include the related\n",
    "#Tweet referenced to by its parent.\n",
    "\n",
    "#---places---#\n",
    "#When including the expansions=geo.place_id parameter, this includes a list of referenced places\n",
    "#in Tweets, if tagged by a user\n",
    "\n",
    "#---media---#\n",
    "#When including the expansions=attachments.media_keys parameter, this includes a list of images,\n",
    "#videos, and GIFs included in Tweets in the form of media objects "
   ]
  }
 ],
 "metadata": {
  "interpreter": {
   "hash": "fd10460dd3d146ddcd00478931b69fe3eeab4952c1785708c7385e1d4193c119"
  },
  "kernelspec": {
   "display_name": "Python 3",
   "language": "python",
   "name": "python3"
  },
  "language_info": {
   "codemirror_mode": {
    "name": "ipython",
    "version": 3
   },
   "file_extension": ".py",
   "mimetype": "text/x-python",
   "name": "python",
   "nbconvert_exporter": "python",
   "pygments_lexer": "ipython3",
   "version": "3.7.6"
  }
 },
 "nbformat": 4,
 "nbformat_minor": 4
}
