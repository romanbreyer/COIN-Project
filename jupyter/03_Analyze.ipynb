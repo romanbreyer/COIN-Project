{
 "cells": [
  {
   "cell_type": "code",
   "execution_count": 8,
   "id": "7cc25dd6",
   "metadata": {},
   "outputs": [],
   "source": [
    "import pandas as pd\n",
    "from keplergl import KeplerGl\n",
    "import webbrowser\n",
    "import os"
   ]
  },
  {
   "cell_type": "code",
   "execution_count": 9,
   "id": "bb3f74ce",
   "metadata": {},
   "outputs": [
    {
     "data": {
      "text/plain": [
       "(3911, 9)"
      ]
     },
     "execution_count": 9,
     "metadata": {},
     "output_type": "execute_result"
    }
   ],
   "source": [
    "#get data\n",
    "locations = pd.read_pickle('data/places_4000.pkl')\n",
    "locations.shape"
   ]
  },
  {
   "cell_type": "code",
   "execution_count": 10,
   "id": "27b849a1",
   "metadata": {},
   "outputs": [
    {
     "data": {
      "text/html": [
       "<div>\n",
       "<style scoped>\n",
       "    .dataframe tbody tr th:only-of-type {\n",
       "        vertical-align: middle;\n",
       "    }\n",
       "\n",
       "    .dataframe tbody tr th {\n",
       "        vertical-align: top;\n",
       "    }\n",
       "\n",
       "    .dataframe thead th {\n",
       "        text-align: right;\n",
       "    }\n",
       "</style>\n",
       "<table border=\"1\" class=\"dataframe\">\n",
       "  <thead>\n",
       "    <tr style=\"text-align: right;\">\n",
       "      <th></th>\n",
       "      <th>country</th>\n",
       "      <th>country_code</th>\n",
       "      <th>full_name</th>\n",
       "      <th>id</th>\n",
       "      <th>name</th>\n",
       "      <th>place_type</th>\n",
       "      <th>lat</th>\n",
       "      <th>long</th>\n",
       "    </tr>\n",
       "  </thead>\n",
       "  <tbody>\n",
       "    <tr>\n",
       "      <th>0</th>\n",
       "      <td>Deutschland</td>\n",
       "      <td>DE</td>\n",
       "      <td>Saarbrücken, Deutschland</td>\n",
       "      <td>0c3ccd897a53b270</td>\n",
       "      <td>Saarbrücken</td>\n",
       "      <td>city</td>\n",
       "      <td>49.247108</td>\n",
       "      <td>6.997495</td>\n",
       "    </tr>\n",
       "    <tr>\n",
       "      <th>1</th>\n",
       "      <td>Deutschland</td>\n",
       "      <td>DE</td>\n",
       "      <td>Lohme, Deutschland</td>\n",
       "      <td>307e1ee2cb489e79</td>\n",
       "      <td>Lohme</td>\n",
       "      <td>city</td>\n",
       "      <td>54.582959</td>\n",
       "      <td>13.610955</td>\n",
       "    </tr>\n",
       "    <tr>\n",
       "      <th>2</th>\n",
       "      <td>Indien</td>\n",
       "      <td>IN</td>\n",
       "      <td>Bengaluru South, India</td>\n",
       "      <td>5f55bb82cf16ac81</td>\n",
       "      <td>Bengaluru South</td>\n",
       "      <td>city</td>\n",
       "      <td>12.894797</td>\n",
       "      <td>77.598757</td>\n",
       "    </tr>\n",
       "    <tr>\n",
       "      <th>3</th>\n",
       "      <td>Deutschland</td>\n",
       "      <td>DE</td>\n",
       "      <td>Berlin, Deutschland</td>\n",
       "      <td>3078869807f9dd36</td>\n",
       "      <td>Berlin</td>\n",
       "      <td>city</td>\n",
       "      <td>52.517037</td>\n",
       "      <td>13.388860</td>\n",
       "    </tr>\n",
       "    <tr>\n",
       "      <th>4</th>\n",
       "      <td>Österreich</td>\n",
       "      <td>AT</td>\n",
       "      <td>Wien, Österreich</td>\n",
       "      <td>9f659d51e5c5deae</td>\n",
       "      <td>Wien</td>\n",
       "      <td>city</td>\n",
       "      <td>48.208354</td>\n",
       "      <td>16.372504</td>\n",
       "    </tr>\n",
       "    <tr>\n",
       "      <th>...</th>\n",
       "      <td>...</td>\n",
       "      <td>...</td>\n",
       "      <td>...</td>\n",
       "      <td>...</td>\n",
       "      <td>...</td>\n",
       "      <td>...</td>\n",
       "      <td>...</td>\n",
       "      <td>...</td>\n",
       "    </tr>\n",
       "    <tr>\n",
       "      <th>3999</th>\n",
       "      <td>Spanien</td>\n",
       "      <td>ES</td>\n",
       "      <td>Barcelona, Spanien</td>\n",
       "      <td>1a27537478dd8e38</td>\n",
       "      <td>Barcelona</td>\n",
       "      <td>city</td>\n",
       "      <td>41.382894</td>\n",
       "      <td>2.177432</td>\n",
       "    </tr>\n",
       "    <tr>\n",
       "      <th>4000</th>\n",
       "      <td>Spanien</td>\n",
       "      <td>ES</td>\n",
       "      <td>Nambroca, España</td>\n",
       "      <td>57f5ab8dccc3a2be</td>\n",
       "      <td>Nambroca</td>\n",
       "      <td>city</td>\n",
       "      <td>39.797844</td>\n",
       "      <td>-3.944460</td>\n",
       "    </tr>\n",
       "    <tr>\n",
       "      <th>4001</th>\n",
       "      <td>Spanien</td>\n",
       "      <td>ES</td>\n",
       "      <td>Cabra, España</td>\n",
       "      <td>497c847d8289ac5e</td>\n",
       "      <td>Cabra</td>\n",
       "      <td>city</td>\n",
       "      <td>37.471815</td>\n",
       "      <td>-4.433562</td>\n",
       "    </tr>\n",
       "    <tr>\n",
       "      <th>4002</th>\n",
       "      <td>Bolivien</td>\n",
       "      <td>BO</td>\n",
       "      <td>Bolivien</td>\n",
       "      <td>c4320f726d222937</td>\n",
       "      <td>Bolivien</td>\n",
       "      <td>country</td>\n",
       "      <td>-17.056870</td>\n",
       "      <td>-64.991229</td>\n",
       "    </tr>\n",
       "    <tr>\n",
       "      <th>4003</th>\n",
       "      <td>Vereinigtes Königreich</td>\n",
       "      <td>GB</td>\n",
       "      <td>Belfast, Northern Ireland</td>\n",
       "      <td>28679b23ed15b380</td>\n",
       "      <td>Belfast</td>\n",
       "      <td>city</td>\n",
       "      <td>54.596391</td>\n",
       "      <td>-5.930183</td>\n",
       "    </tr>\n",
       "  </tbody>\n",
       "</table>\n",
       "<p>3911 rows × 8 columns</p>\n",
       "</div>"
      ],
      "text/plain": [
       "                     country country_code                  full_name  \\\n",
       "0                Deutschland           DE   Saarbrücken, Deutschland   \n",
       "1                Deutschland           DE         Lohme, Deutschland   \n",
       "2                     Indien           IN     Bengaluru South, India   \n",
       "3                Deutschland           DE        Berlin, Deutschland   \n",
       "4                 Österreich           AT           Wien, Österreich   \n",
       "...                      ...          ...                        ...   \n",
       "3999                 Spanien           ES         Barcelona, Spanien   \n",
       "4000                 Spanien           ES           Nambroca, España   \n",
       "4001                 Spanien           ES              Cabra, España   \n",
       "4002                Bolivien           BO                   Bolivien   \n",
       "4003  Vereinigtes Königreich           GB  Belfast, Northern Ireland   \n",
       "\n",
       "                    id             name place_type        lat       long  \n",
       "0     0c3ccd897a53b270      Saarbrücken       city  49.247108   6.997495  \n",
       "1     307e1ee2cb489e79            Lohme       city  54.582959  13.610955  \n",
       "2     5f55bb82cf16ac81  Bengaluru South       city  12.894797  77.598757  \n",
       "3     3078869807f9dd36           Berlin       city  52.517037  13.388860  \n",
       "4     9f659d51e5c5deae             Wien       city  48.208354  16.372504  \n",
       "...                ...              ...        ...        ...        ...  \n",
       "3999  1a27537478dd8e38        Barcelona       city  41.382894   2.177432  \n",
       "4000  57f5ab8dccc3a2be         Nambroca       city  39.797844  -3.944460  \n",
       "4001  497c847d8289ac5e            Cabra       city  37.471815  -4.433562  \n",
       "4002  c4320f726d222937         Bolivien    country -17.056870 -64.991229  \n",
       "4003  28679b23ed15b380          Belfast       city  54.596391  -5.930183  \n",
       "\n",
       "[3911 rows x 8 columns]"
      ]
     },
     "execution_count": 10,
     "metadata": {},
     "output_type": "execute_result"
    }
   ],
   "source": [
    "locations.drop(['geo'], axis=1)"
   ]
  },
  {
   "cell_type": "markdown",
   "id": "7fa024d9",
   "metadata": {},
   "source": [
    "# Analysis"
   ]
  },
  {
   "cell_type": "code",
   "execution_count": 11,
   "id": "77206222",
   "metadata": {},
   "outputs": [
    {
     "name": "stdout",
     "output_type": "stream",
     "text": [
      "User Guide: https://docs.kepler.gl/docs/keplergl-jupyter\n"
     ]
    },
    {
     "data": {
      "application/vnd.jupyter.widget-view+json": {
       "model_id": "7690ac3e05e24ee482eeda2a50e39d81",
       "version_major": 2,
       "version_minor": 0
      },
      "text/plain": [
       "KeplerGl(data={'twitter_fff':                      country country_code                  full_name  \\\n",
       "0       …"
      ]
     },
     "metadata": {},
     "output_type": "display_data"
    }
   ],
   "source": [
    "#create map and add df\n",
    "map_1 = KeplerGl(height=400, data={'twitter_fff': locations})\n",
    "map_1"
   ]
  },
  {
   "cell_type": "code",
   "execution_count": 12,
   "id": "595b1f1c",
   "metadata": {},
   "outputs": [
    {
     "name": "stdout",
     "output_type": "stream",
     "text": [
      "Map saved to keplergl_map.html!\n"
     ]
    }
   ],
   "source": [
    "#save to html\n",
    "map_1.save_to_html(file_name='keplergl_map.html')"
   ]
  },
  {
   "cell_type": "code",
   "execution_count": 13,
   "id": "a4a869f0",
   "metadata": {
    "scrolled": true
   },
   "outputs": [
    {
     "data": {
      "text/plain": [
       "True"
      ]
     },
     "execution_count": 13,
     "metadata": {},
     "output_type": "execute_result"
    }
   ],
   "source": [
    "#open html file in browser for analysis\n",
    "webbrowser.open('file://' + os.path.realpath('keplergl_map.html'))"
   ]
  },
  {
   "cell_type": "code",
   "execution_count": null,
   "id": "4a1f2994",
   "metadata": {},
   "outputs": [],
   "source": []
  }
 ],
 "metadata": {
  "kernelspec": {
   "display_name": "Python 3",
   "language": "python",
   "name": "python3"
  },
  "language_info": {
   "codemirror_mode": {
    "name": "ipython",
    "version": 3
   },
   "file_extension": ".py",
   "mimetype": "text/x-python",
   "name": "python",
   "nbconvert_exporter": "python",
   "pygments_lexer": "ipython3",
   "version": "3.7.6"
  }
 },
 "nbformat": 4,
 "nbformat_minor": 5
}
