{
 "cells": [
  {
   "cell_type": "code",
   "execution_count": 13,
   "id": "7cc25dd6",
   "metadata": {},
   "outputs": [],
   "source": [
    "import pandas as pd\n",
    "from keplergl import KeplerGl\n",
    "import webbrowser\n",
    "import os"
   ]
  },
  {
   "cell_type": "code",
   "execution_count": 104,
   "id": "bb3f74ce",
   "metadata": {},
   "outputs": [],
   "source": [
    "#get data\n",
    "locations = pd.read_pickle('data/places.pkl')\n",
    "locations.shape"
   ]
  },
  {
   "cell_type": "markdown",
   "id": "7fa024d9",
   "metadata": {},
   "source": [
    "# Analysis"
   ]
  },
  {
   "cell_type": "code",
   "execution_count": 91,
   "id": "77206222",
   "metadata": {},
   "outputs": [
    {
     "name": "stdout",
     "output_type": "stream",
     "text": [
      "User Guide: https://docs.kepler.gl/docs/keplergl-jupyter\n"
     ]
    },
    {
     "data": {
      "application/vnd.jupyter.widget-view+json": {
       "model_id": "52a70141c1b4431688a765d6c1b0c6fe",
       "version_major": 2,
       "version_minor": 0
      },
      "text/plain": [
       "KeplerGl(data={'twitter_fff':                        full_name  \\\n",
       "0          Erlangen, Deutschland   \n",
       "1    Lan…"
      ]
     },
     "metadata": {},
     "output_type": "display_data"
    }
   ],
   "source": [
    "#create map and add df\n",
    "map_1 = KeplerGl(height=400, data={'twitter_fff': locations})\n",
    "map_1"
   ]
  },
  {
   "cell_type": "code",
   "execution_count": 92,
   "id": "595b1f1c",
   "metadata": {},
   "outputs": [
    {
     "name": "stdout",
     "output_type": "stream",
     "text": [
      "Map saved to keplergl_map.html!\n"
     ]
    }
   ],
   "source": [
    "#save to html\n",
    "map_1.save_to_html(file_name='keplergl_map.html')"
   ]
  },
  {
   "cell_type": "code",
   "execution_count": 99,
   "id": "a4a869f0",
   "metadata": {},
   "outputs": [
    {
     "data": {
      "text/plain": [
       "True"
      ]
     },
     "execution_count": 99,
     "metadata": {},
     "output_type": "execute_result"
    }
   ],
   "source": [
    "#open html file in browser for analysis\n",
    "webbrowser.open('file://' + os.path.realpath('keplergl_map.html'))"
   ]
  }
 ],
 "metadata": {
  "kernelspec": {
   "display_name": "Python 3",
   "language": "python",
   "name": "python3"
  },
  "language_info": {
   "codemirror_mode": {
    "name": "ipython",
    "version": 3
   },
   "file_extension": ".py",
   "mimetype": "text/x-python",
   "name": "python",
   "nbconvert_exporter": "python",
   "pygments_lexer": "ipython3",
   "version": "3.7.6"
  }
 },
 "nbformat": 4,
 "nbformat_minor": 5
}
